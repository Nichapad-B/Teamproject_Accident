{
  "nbformat": 4,
  "nbformat_minor": 0,
  "metadata": {
    "colab": {
      "name": "Project_KNNR.ipynb",
      "provenance": [],
      "collapsed_sections": [],
      "include_colab_link": true
    },
    "kernelspec": {
      "name": "python3",
      "display_name": "Python 3"
    },
    "language_info": {
      "name": "python"
    }
  },
  "cells": [
    {
      "cell_type": "markdown",
      "metadata": {
        "id": "view-in-github",
        "colab_type": "text"
      },
      "source": [
        "<a href=\"https://colab.research.google.com/github/Nichapad-B/Teamproject_Accident/blob/main/Project_KNNR.ipynb\" target=\"_parent\"><img src=\"https://colab.research.google.com/assets/colab-badge.svg\" alt=\"Open In Colab\"/></a>"
      ]
    },
    {
      "cell_type": "markdown",
      "source": [
        "# 2602454: BUS INT SYS\n",
        "\n",
        "\n",
        "[My Project's Github](------)\n",
        "\n",
        "\n",
        "\n"
      ],
      "metadata": {
        "id": "Pvsl1vMgxSjI"
      }
    },
    {
      "cell_type": "markdown",
      "source": [
        "\n",
        "\n",
        "---\n",
        "\n",
        "\n",
        "# $\\color{orange}{\\text{รายชื่อสมาชิกกลุ่ม}}$ \n",
        "\n",
        "---\n",
        "\n",
        "\n",
        "*   6241020026 ขวัญกมล กิตติอุดม  \n",
        "*   6241050926 ณฐกร พรวิวัฒน์  \n",
        "*   6241072726 ณิชาภัทร บุญพาวัฒนา  \n",
        "*   6241188926 ระนาดแก้ว เดชาคณิต  \n",
        "\n",
        "\n",
        "---\n",
        "\n",
        "\n",
        "\n",
        "\n",
        "\n"
      ],
      "metadata": {
        "id": "0XryXg8Ts40w"
      }
    },
    {
      "cell_type": "markdown",
      "source": [
        "# $\\color{red}{\\text{จริงหรือไม่ ? ขับรถตอนกลางคืน ตอนฝนตกหรือตอนเทศกาล เสี่ยงเกิดอุบัติเหตุบ่อยที่สุด}}$ \n",
        "\n"
      ],
      "metadata": {
        "id": "6e-y528CxY03"
      }
    },
    {
      "cell_type": "code",
      "source": [
        "import sys\n",
        "import math\n",
        "import pandas as pd\n",
        "import numpy as np\n",
        "import seaborn as sns\n",
        "import matplotlib.pyplot as plt\n",
        "from pprint import pprint\n",
        "from sklearn import metrics\n",
        "\n",
        "%matplotlib inline\n",
        "%config InlineBackend.figure_format = 'retina'"
      ],
      "metadata": {
        "id": "5KbjMCNOE60K"
      },
      "execution_count": null,
      "outputs": []
    },
    {
      "cell_type": "code",
      "source": [
        "print(f'Python  version: {sys.version}')\n",
        "print(f'pandas  version: {pd.__version__}')\n",
        "print(f'numpy   version: {np.__version__}')\n",
        "print(f'seaborn version: {sns.__version__}')\n",
        "\n",
        "pd.Timestamp.now()"
      ],
      "metadata": {
        "colab": {
          "base_uri": "https://localhost:8080/"
        },
        "id": "kropjkerZIPH",
        "outputId": "b8477474-2c98-459b-c6dc-0cc622fe0a43"
      },
      "execution_count": null,
      "outputs": [
        {
          "output_type": "stream",
          "name": "stdout",
          "text": [
            "Python  version: 3.7.13 (default, Apr 24 2022, 01:04:09) \n",
            "[GCC 7.5.0]\n",
            "pandas  version: 1.3.5\n",
            "numpy   version: 1.21.6\n",
            "seaborn version: 0.11.2\n"
          ]
        },
        {
          "output_type": "execute_result",
          "data": {
            "text/plain": [
              "Timestamp('2022-05-11 05:19:14.371121')"
            ]
          },
          "metadata": {},
          "execution_count": 7
        }
      ]
    },
    {
      "cell_type": "code",
      "source": [
        "url = 'https://raw.githubusercontent.com/Nichapad-B/Teamproject_Accident/main/accident_2565.csv'\n",
        "df = pd.read_csv(url, encoding='utf-8', parse_dates=['accident_date'])\n",
        "df.head()"
      ],
      "metadata": {
        "id": "wNFEHeweOGX5",
        "colab": {
          "base_uri": "https://localhost:8080/",
          "height": 206
        },
        "outputId": "250b8ef5-c77e-4c32-8c42-560ac6fff3c4"
      },
      "execution_count": null,
      "outputs": [
        {
          "output_type": "execute_result",
          "data": {
            "text/plain": [
              "  accident_date accident_time                 step ad_state  acman_rec  \\\n",
              "0    2022-02-28      16:50:50  ศรีรัช-วงแหวนรอบนอก     ปกติ          0   \n",
              "1    2022-02-26      23:34:34              ฉลองรัช     ปกติ          0   \n",
              "2    2022-02-25      09:31:31               ศรีรัช     ปกติ          0   \n",
              "3    2022-02-25      21:55:55               ศรีรัช     ปกติ          0   \n",
              "4    2022-02-25      00:38:38              ฉลองรัช     ปกติ          0   \n",
              "\n",
              "   acfem_rec  deadman_rec  deadfem_rec               cause_type  \n",
              "0          0            0            0          ขับรถเร็วเกินไป  \n",
              "1          0            0            0          ขับรถเร็วเกินไป  \n",
              "2          0            0            0              เบรคขัดข้อง  \n",
              "3          0            0            0  เปลี่ยนช่องทางกระทันหัน  \n",
              "4          0            0            0          ขับรถเร็วเกินไป  "
            ],
            "text/html": [
              "\n",
              "  <div id=\"df-46b653b5-7908-4c41-b91d-d8fec0920974\">\n",
              "    <div class=\"colab-df-container\">\n",
              "      <div>\n",
              "<style scoped>\n",
              "    .dataframe tbody tr th:only-of-type {\n",
              "        vertical-align: middle;\n",
              "    }\n",
              "\n",
              "    .dataframe tbody tr th {\n",
              "        vertical-align: top;\n",
              "    }\n",
              "\n",
              "    .dataframe thead th {\n",
              "        text-align: right;\n",
              "    }\n",
              "</style>\n",
              "<table border=\"1\" class=\"dataframe\">\n",
              "  <thead>\n",
              "    <tr style=\"text-align: right;\">\n",
              "      <th></th>\n",
              "      <th>accident_date</th>\n",
              "      <th>accident_time</th>\n",
              "      <th>step</th>\n",
              "      <th>ad_state</th>\n",
              "      <th>acman_rec</th>\n",
              "      <th>acfem_rec</th>\n",
              "      <th>deadman_rec</th>\n",
              "      <th>deadfem_rec</th>\n",
              "      <th>cause_type</th>\n",
              "    </tr>\n",
              "  </thead>\n",
              "  <tbody>\n",
              "    <tr>\n",
              "      <th>0</th>\n",
              "      <td>2022-02-28</td>\n",
              "      <td>16:50:50</td>\n",
              "      <td>ศรีรัช-วงแหวนรอบนอก</td>\n",
              "      <td>ปกติ</td>\n",
              "      <td>0</td>\n",
              "      <td>0</td>\n",
              "      <td>0</td>\n",
              "      <td>0</td>\n",
              "      <td>ขับรถเร็วเกินไป</td>\n",
              "    </tr>\n",
              "    <tr>\n",
              "      <th>1</th>\n",
              "      <td>2022-02-26</td>\n",
              "      <td>23:34:34</td>\n",
              "      <td>ฉลองรัช</td>\n",
              "      <td>ปกติ</td>\n",
              "      <td>0</td>\n",
              "      <td>0</td>\n",
              "      <td>0</td>\n",
              "      <td>0</td>\n",
              "      <td>ขับรถเร็วเกินไป</td>\n",
              "    </tr>\n",
              "    <tr>\n",
              "      <th>2</th>\n",
              "      <td>2022-02-25</td>\n",
              "      <td>09:31:31</td>\n",
              "      <td>ศรีรัช</td>\n",
              "      <td>ปกติ</td>\n",
              "      <td>0</td>\n",
              "      <td>0</td>\n",
              "      <td>0</td>\n",
              "      <td>0</td>\n",
              "      <td>เบรคขัดข้อง</td>\n",
              "    </tr>\n",
              "    <tr>\n",
              "      <th>3</th>\n",
              "      <td>2022-02-25</td>\n",
              "      <td>21:55:55</td>\n",
              "      <td>ศรีรัช</td>\n",
              "      <td>ปกติ</td>\n",
              "      <td>0</td>\n",
              "      <td>0</td>\n",
              "      <td>0</td>\n",
              "      <td>0</td>\n",
              "      <td>เปลี่ยนช่องทางกระทันหัน</td>\n",
              "    </tr>\n",
              "    <tr>\n",
              "      <th>4</th>\n",
              "      <td>2022-02-25</td>\n",
              "      <td>00:38:38</td>\n",
              "      <td>ฉลองรัช</td>\n",
              "      <td>ปกติ</td>\n",
              "      <td>0</td>\n",
              "      <td>0</td>\n",
              "      <td>0</td>\n",
              "      <td>0</td>\n",
              "      <td>ขับรถเร็วเกินไป</td>\n",
              "    </tr>\n",
              "  </tbody>\n",
              "</table>\n",
              "</div>\n",
              "      <button class=\"colab-df-convert\" onclick=\"convertToInteractive('df-46b653b5-7908-4c41-b91d-d8fec0920974')\"\n",
              "              title=\"Convert this dataframe to an interactive table.\"\n",
              "              style=\"display:none;\">\n",
              "        \n",
              "  <svg xmlns=\"http://www.w3.org/2000/svg\" height=\"24px\"viewBox=\"0 0 24 24\"\n",
              "       width=\"24px\">\n",
              "    <path d=\"M0 0h24v24H0V0z\" fill=\"none\"/>\n",
              "    <path d=\"M18.56 5.44l.94 2.06.94-2.06 2.06-.94-2.06-.94-.94-2.06-.94 2.06-2.06.94zm-11 1L8.5 8.5l.94-2.06 2.06-.94-2.06-.94L8.5 2.5l-.94 2.06-2.06.94zm10 10l.94 2.06.94-2.06 2.06-.94-2.06-.94-.94-2.06-.94 2.06-2.06.94z\"/><path d=\"M17.41 7.96l-1.37-1.37c-.4-.4-.92-.59-1.43-.59-.52 0-1.04.2-1.43.59L10.3 9.45l-7.72 7.72c-.78.78-.78 2.05 0 2.83L4 21.41c.39.39.9.59 1.41.59.51 0 1.02-.2 1.41-.59l7.78-7.78 2.81-2.81c.8-.78.8-2.07 0-2.86zM5.41 20L4 18.59l7.72-7.72 1.47 1.35L5.41 20z\"/>\n",
              "  </svg>\n",
              "      </button>\n",
              "      \n",
              "  <style>\n",
              "    .colab-df-container {\n",
              "      display:flex;\n",
              "      flex-wrap:wrap;\n",
              "      gap: 12px;\n",
              "    }\n",
              "\n",
              "    .colab-df-convert {\n",
              "      background-color: #E8F0FE;\n",
              "      border: none;\n",
              "      border-radius: 50%;\n",
              "      cursor: pointer;\n",
              "      display: none;\n",
              "      fill: #1967D2;\n",
              "      height: 32px;\n",
              "      padding: 0 0 0 0;\n",
              "      width: 32px;\n",
              "    }\n",
              "\n",
              "    .colab-df-convert:hover {\n",
              "      background-color: #E2EBFA;\n",
              "      box-shadow: 0px 1px 2px rgba(60, 64, 67, 0.3), 0px 1px 3px 1px rgba(60, 64, 67, 0.15);\n",
              "      fill: #174EA6;\n",
              "    }\n",
              "\n",
              "    [theme=dark] .colab-df-convert {\n",
              "      background-color: #3B4455;\n",
              "      fill: #D2E3FC;\n",
              "    }\n",
              "\n",
              "    [theme=dark] .colab-df-convert:hover {\n",
              "      background-color: #434B5C;\n",
              "      box-shadow: 0px 1px 3px 1px rgba(0, 0, 0, 0.15);\n",
              "      filter: drop-shadow(0px 1px 2px rgba(0, 0, 0, 0.3));\n",
              "      fill: #FFFFFF;\n",
              "    }\n",
              "  </style>\n",
              "\n",
              "      <script>\n",
              "        const buttonEl =\n",
              "          document.querySelector('#df-46b653b5-7908-4c41-b91d-d8fec0920974 button.colab-df-convert');\n",
              "        buttonEl.style.display =\n",
              "          google.colab.kernel.accessAllowed ? 'block' : 'none';\n",
              "\n",
              "        async function convertToInteractive(key) {\n",
              "          const element = document.querySelector('#df-46b653b5-7908-4c41-b91d-d8fec0920974');\n",
              "          const dataTable =\n",
              "            await google.colab.kernel.invokeFunction('convertToInteractive',\n",
              "                                                     [key], {});\n",
              "          if (!dataTable) return;\n",
              "\n",
              "          const docLinkHtml = 'Like what you see? Visit the ' +\n",
              "            '<a target=\"_blank\" href=https://colab.research.google.com/notebooks/data_table.ipynb>data table notebook</a>'\n",
              "            + ' to learn more about interactive tables.';\n",
              "          element.innerHTML = '';\n",
              "          dataTable['output_type'] = 'display_data';\n",
              "          await google.colab.output.renderOutput(dataTable, element);\n",
              "          const docLink = document.createElement('div');\n",
              "          docLink.innerHTML = docLinkHtml;\n",
              "          element.appendChild(docLink);\n",
              "        }\n",
              "      </script>\n",
              "    </div>\n",
              "  </div>\n",
              "  "
            ]
          },
          "metadata": {},
          "execution_count": 8
        }
      ]
    },
    {
      "cell_type": "markdown",
      "source": [
        "# $\\color{orange}{\\text{Prepare Data & Data Cleansing}}$ \n",
        "\n",
        "\n",
        "---\n",
        "\n",
        "\n",
        "*     \n",
        "Rename columns\n",
        "\n",
        "  เนื่องจากชื่อคอลัมน์เป็นสิ่งที่สำคัญในการใช้งานข้อมูล เป็นตัวแปรที่สำคัญที่สื่อความหมายหน้าที่ของข้อมูล ดังนั้นเราทำการเปลี่ยนชื่อคอลัมน์เพื่อให้เข้าใจง่ายขึ้น ดังนี้\n",
        "  * ad_state เป็น weather_stat\n",
        "  * acman_rec เป็น injur_man\n",
        "  * acfem_rec เป็น injur_female\n",
        "  * deadman_rec เป็น dead_man\n",
        "  * deadfem_rec เป็น dead_female  \n",
        "\n",
        "* ใช้ฟังค์ชั่น isnull เช็คค่าข้อมูลที่เป็น NaN หรือไม่มีค่า\n",
        "\n",
        "  พบว่าไม่มีค่าไหนที่เป็น null และฟังค์ชั่น info() ดูประเภท/ชนิดข้อมูล พบว่ามีค่าที่เป็น datetime 1 คอลัมน์ object 4 คอลัมน์ และ int 4 คอลัมน์ จากนั้นใช้ฟังค์ชั่น describe เพื่อดูสถิติเชิงบรรยายที่สรุปแนวโน้มศูนย์กลางการกระจายตัวและรูปร่างของการแจกแจงของชุดข้อมูลโดยจะไม่นับรวมค่า NaN หรือ missing data\n",
        "\n",
        "* จัดหมวดหมู่อุบัติเหตุ\n",
        " \n",
        "  เนื่องจากในข้อมูลดั้งเดิมมีทั้งการบันทึกที่สะกดผิด บันทึกซ้ำแต่ใช้คนละคำพูด เพื่อความเป็นระเบียบในการวิเคราะห์ข้อมูล จึงจัดหมวดหมู่ออกเป็น 10 หมวด ได้แก่\n",
        "  1. เกิดอุบัติเหตุโดยขับรถโดยประมาท\n",
        "  2. ขับรถในระยะกระชั้นชิด\n",
        "  3. เบรกกะทันหัน\n",
        "  4. บรรทุกเกินขนาด\n",
        "  5. เครื่องยนต์ขัดข้อง\n",
        "  6. เปลี่ยนช่องทางกระทันหัน\n",
        "  7. รถเสียหลัก\n",
        "  8. สภาพอากาศ\n",
        "  9. ยางแตก\n",
        "  10. อื่น ๆ\n",
        "\n",
        "* สร้าง datafreame sum_injur ที่รวมจำนวนผู้บาดเจ็บผู้ชายกับจำนวนผู้บาดเจ็บผู้หญิง\n",
        "และ datafreame sum_dead  ซึ่งรวมจำนวนผู้เสียชีวิตผู้ชายกับจำนวนผู้เสียชีวิตผู้หญิง\n",
        "* สร้าง datafreame result โดยใช้ฟังค์ชั่น loc \n",
        "\n",
        "   นำข้อมูล datafreame sum_injur, sum_dead มาใช้ในการจัดกลุ่มผลลัพธ์ กล่าวคือ จาก datafreame sum_injur ถ้ามีจำนวนผู้บาดเจ็บให้บันทึกว่า Have Injuries ถ้ามีจำนวนผู้เสียชีวิตให้บันทึกว่า Have Death หากมีทั้งผู้บาดเจ็บและผู้เสียชีวิตให้บันทึกว่า Have Injuries and Death และหากไม่มีทั้งผู้บาดเจ็บและเสียชีวิตให้บันทึกว่า No Injuries and Death \n",
        "* นำ datafreame sum_injur, sum_dead, result มารวมใน datafreame เดียวกัน\n",
        "* ใช้ฟังค์ชั่น lambda x: x.day .month .year\n",
        " \n",
        "  ทำการแยกวัน ออกจากเดือน ออกจากปี และแยกชั่วโมงออกจากเวลาเพื่อทำให้ข้อมูลแสดงผลออกมาในรูปแบบช่วงเวลา Late Night, Morning, Afternoon, Evening, Night  ใช้ในวิเคราะห์ EDA ในขั้นตอนต่อไป"
      ],
      "metadata": {
        "id": "MqfKbVwtYbu_"
      }
    },
    {
      "cell_type": "code",
      "source": [
        "df.rename(columns={'ad_state': 'weather_state', 'acman_rec': 'injur_man',\n",
        "                   'acfem_rec': 'injur_female', 'deadman_rec': 'dead_man', 'deadfem_rec': 'dead_female'}, inplace=True)\n",
        "df"
      ],
      "metadata": {
        "colab": {
          "base_uri": "https://localhost:8080/",
          "height": 424
        },
        "id": "D7Uu7ZuDSFYg",
        "outputId": "5329eb33-fa66-4a5c-eda5-c8a92fb9a139"
      },
      "execution_count": null,
      "outputs": [
        {
          "output_type": "execute_result",
          "data": {
            "text/plain": [
              "    accident_date accident_time                 step weather_state  injur_man  \\\n",
              "0      2022-02-28      16:50:50  ศรีรัช-วงแหวนรอบนอก          ปกติ          0   \n",
              "1      2022-02-26      23:34:34              ฉลองรัช          ปกติ          0   \n",
              "2      2022-02-25      09:31:31               ศรีรัช          ปกติ          0   \n",
              "3      2022-02-25      21:55:55               ศรีรัช          ปกติ          0   \n",
              "4      2022-02-25      00:38:38              ฉลองรัช          ปกติ          0   \n",
              "..            ...           ...                  ...           ...        ...   \n",
              "341    2021-10-04      16:19:19            บูรพาวิถี          ปกติ          2   \n",
              "342    2021-10-03      10:43:43    บางพลี-สุขสวัสดิ์          ปกติ          1   \n",
              "343    2021-10-03      21:56:56  ศรีรัช-วงแหวนรอบนอก          ฝนตก          0   \n",
              "344    2021-10-01      11:25:25               ศรีรัช          ปกติ          0   \n",
              "345    2021-10-01      14:40:40  ศรีรัช-วงแหวนรอบนอก          ฝนตก          0   \n",
              "\n",
              "     injur_female  dead_man  dead_female               cause_type  \n",
              "0               0         0            0          ขับรถเร็วเกินไป  \n",
              "1               0         0            0          ขับรถเร็วเกินไป  \n",
              "2               0         0            0              เบรคขัดข้อง  \n",
              "3               0         0            0  เปลี่ยนช่องทางกระทันหัน  \n",
              "4               0         0            0          ขับรถเร็วเกินไป  \n",
              "..            ...       ...          ...                      ...  \n",
              "341             0         0            0                   ยางแตก  \n",
              "342             0         0            0          ไม่ชะลอความเร็ว  \n",
              "343             0         0            0          ขับรถเร็วเกินไป  \n",
              "344             0         0            0              เบรคขัดข้อง  \n",
              "345             0         0            0              สภาพแวดล้อม  \n",
              "\n",
              "[346 rows x 9 columns]"
            ],
            "text/html": [
              "\n",
              "  <div id=\"df-7e497887-6e79-4b34-b189-6b6f52b13ba5\">\n",
              "    <div class=\"colab-df-container\">\n",
              "      <div>\n",
              "<style scoped>\n",
              "    .dataframe tbody tr th:only-of-type {\n",
              "        vertical-align: middle;\n",
              "    }\n",
              "\n",
              "    .dataframe tbody tr th {\n",
              "        vertical-align: top;\n",
              "    }\n",
              "\n",
              "    .dataframe thead th {\n",
              "        text-align: right;\n",
              "    }\n",
              "</style>\n",
              "<table border=\"1\" class=\"dataframe\">\n",
              "  <thead>\n",
              "    <tr style=\"text-align: right;\">\n",
              "      <th></th>\n",
              "      <th>accident_date</th>\n",
              "      <th>accident_time</th>\n",
              "      <th>step</th>\n",
              "      <th>weather_state</th>\n",
              "      <th>injur_man</th>\n",
              "      <th>injur_female</th>\n",
              "      <th>dead_man</th>\n",
              "      <th>dead_female</th>\n",
              "      <th>cause_type</th>\n",
              "    </tr>\n",
              "  </thead>\n",
              "  <tbody>\n",
              "    <tr>\n",
              "      <th>0</th>\n",
              "      <td>2022-02-28</td>\n",
              "      <td>16:50:50</td>\n",
              "      <td>ศรีรัช-วงแหวนรอบนอก</td>\n",
              "      <td>ปกติ</td>\n",
              "      <td>0</td>\n",
              "      <td>0</td>\n",
              "      <td>0</td>\n",
              "      <td>0</td>\n",
              "      <td>ขับรถเร็วเกินไป</td>\n",
              "    </tr>\n",
              "    <tr>\n",
              "      <th>1</th>\n",
              "      <td>2022-02-26</td>\n",
              "      <td>23:34:34</td>\n",
              "      <td>ฉลองรัช</td>\n",
              "      <td>ปกติ</td>\n",
              "      <td>0</td>\n",
              "      <td>0</td>\n",
              "      <td>0</td>\n",
              "      <td>0</td>\n",
              "      <td>ขับรถเร็วเกินไป</td>\n",
              "    </tr>\n",
              "    <tr>\n",
              "      <th>2</th>\n",
              "      <td>2022-02-25</td>\n",
              "      <td>09:31:31</td>\n",
              "      <td>ศรีรัช</td>\n",
              "      <td>ปกติ</td>\n",
              "      <td>0</td>\n",
              "      <td>0</td>\n",
              "      <td>0</td>\n",
              "      <td>0</td>\n",
              "      <td>เบรคขัดข้อง</td>\n",
              "    </tr>\n",
              "    <tr>\n",
              "      <th>3</th>\n",
              "      <td>2022-02-25</td>\n",
              "      <td>21:55:55</td>\n",
              "      <td>ศรีรัช</td>\n",
              "      <td>ปกติ</td>\n",
              "      <td>0</td>\n",
              "      <td>0</td>\n",
              "      <td>0</td>\n",
              "      <td>0</td>\n",
              "      <td>เปลี่ยนช่องทางกระทันหัน</td>\n",
              "    </tr>\n",
              "    <tr>\n",
              "      <th>4</th>\n",
              "      <td>2022-02-25</td>\n",
              "      <td>00:38:38</td>\n",
              "      <td>ฉลองรัช</td>\n",
              "      <td>ปกติ</td>\n",
              "      <td>0</td>\n",
              "      <td>0</td>\n",
              "      <td>0</td>\n",
              "      <td>0</td>\n",
              "      <td>ขับรถเร็วเกินไป</td>\n",
              "    </tr>\n",
              "    <tr>\n",
              "      <th>...</th>\n",
              "      <td>...</td>\n",
              "      <td>...</td>\n",
              "      <td>...</td>\n",
              "      <td>...</td>\n",
              "      <td>...</td>\n",
              "      <td>...</td>\n",
              "      <td>...</td>\n",
              "      <td>...</td>\n",
              "      <td>...</td>\n",
              "    </tr>\n",
              "    <tr>\n",
              "      <th>341</th>\n",
              "      <td>2021-10-04</td>\n",
              "      <td>16:19:19</td>\n",
              "      <td>บูรพาวิถี</td>\n",
              "      <td>ปกติ</td>\n",
              "      <td>2</td>\n",
              "      <td>0</td>\n",
              "      <td>0</td>\n",
              "      <td>0</td>\n",
              "      <td>ยางแตก</td>\n",
              "    </tr>\n",
              "    <tr>\n",
              "      <th>342</th>\n",
              "      <td>2021-10-03</td>\n",
              "      <td>10:43:43</td>\n",
              "      <td>บางพลี-สุขสวัสดิ์</td>\n",
              "      <td>ปกติ</td>\n",
              "      <td>1</td>\n",
              "      <td>0</td>\n",
              "      <td>0</td>\n",
              "      <td>0</td>\n",
              "      <td>ไม่ชะลอความเร็ว</td>\n",
              "    </tr>\n",
              "    <tr>\n",
              "      <th>343</th>\n",
              "      <td>2021-10-03</td>\n",
              "      <td>21:56:56</td>\n",
              "      <td>ศรีรัช-วงแหวนรอบนอก</td>\n",
              "      <td>ฝนตก</td>\n",
              "      <td>0</td>\n",
              "      <td>0</td>\n",
              "      <td>0</td>\n",
              "      <td>0</td>\n",
              "      <td>ขับรถเร็วเกินไป</td>\n",
              "    </tr>\n",
              "    <tr>\n",
              "      <th>344</th>\n",
              "      <td>2021-10-01</td>\n",
              "      <td>11:25:25</td>\n",
              "      <td>ศรีรัช</td>\n",
              "      <td>ปกติ</td>\n",
              "      <td>0</td>\n",
              "      <td>0</td>\n",
              "      <td>0</td>\n",
              "      <td>0</td>\n",
              "      <td>เบรคขัดข้อง</td>\n",
              "    </tr>\n",
              "    <tr>\n",
              "      <th>345</th>\n",
              "      <td>2021-10-01</td>\n",
              "      <td>14:40:40</td>\n",
              "      <td>ศรีรัช-วงแหวนรอบนอก</td>\n",
              "      <td>ฝนตก</td>\n",
              "      <td>0</td>\n",
              "      <td>0</td>\n",
              "      <td>0</td>\n",
              "      <td>0</td>\n",
              "      <td>สภาพแวดล้อม</td>\n",
              "    </tr>\n",
              "  </tbody>\n",
              "</table>\n",
              "<p>346 rows × 9 columns</p>\n",
              "</div>\n",
              "      <button class=\"colab-df-convert\" onclick=\"convertToInteractive('df-7e497887-6e79-4b34-b189-6b6f52b13ba5')\"\n",
              "              title=\"Convert this dataframe to an interactive table.\"\n",
              "              style=\"display:none;\">\n",
              "        \n",
              "  <svg xmlns=\"http://www.w3.org/2000/svg\" height=\"24px\"viewBox=\"0 0 24 24\"\n",
              "       width=\"24px\">\n",
              "    <path d=\"M0 0h24v24H0V0z\" fill=\"none\"/>\n",
              "    <path d=\"M18.56 5.44l.94 2.06.94-2.06 2.06-.94-2.06-.94-.94-2.06-.94 2.06-2.06.94zm-11 1L8.5 8.5l.94-2.06 2.06-.94-2.06-.94L8.5 2.5l-.94 2.06-2.06.94zm10 10l.94 2.06.94-2.06 2.06-.94-2.06-.94-.94-2.06-.94 2.06-2.06.94z\"/><path d=\"M17.41 7.96l-1.37-1.37c-.4-.4-.92-.59-1.43-.59-.52 0-1.04.2-1.43.59L10.3 9.45l-7.72 7.72c-.78.78-.78 2.05 0 2.83L4 21.41c.39.39.9.59 1.41.59.51 0 1.02-.2 1.41-.59l7.78-7.78 2.81-2.81c.8-.78.8-2.07 0-2.86zM5.41 20L4 18.59l7.72-7.72 1.47 1.35L5.41 20z\"/>\n",
              "  </svg>\n",
              "      </button>\n",
              "      \n",
              "  <style>\n",
              "    .colab-df-container {\n",
              "      display:flex;\n",
              "      flex-wrap:wrap;\n",
              "      gap: 12px;\n",
              "    }\n",
              "\n",
              "    .colab-df-convert {\n",
              "      background-color: #E8F0FE;\n",
              "      border: none;\n",
              "      border-radius: 50%;\n",
              "      cursor: pointer;\n",
              "      display: none;\n",
              "      fill: #1967D2;\n",
              "      height: 32px;\n",
              "      padding: 0 0 0 0;\n",
              "      width: 32px;\n",
              "    }\n",
              "\n",
              "    .colab-df-convert:hover {\n",
              "      background-color: #E2EBFA;\n",
              "      box-shadow: 0px 1px 2px rgba(60, 64, 67, 0.3), 0px 1px 3px 1px rgba(60, 64, 67, 0.15);\n",
              "      fill: #174EA6;\n",
              "    }\n",
              "\n",
              "    [theme=dark] .colab-df-convert {\n",
              "      background-color: #3B4455;\n",
              "      fill: #D2E3FC;\n",
              "    }\n",
              "\n",
              "    [theme=dark] .colab-df-convert:hover {\n",
              "      background-color: #434B5C;\n",
              "      box-shadow: 0px 1px 3px 1px rgba(0, 0, 0, 0.15);\n",
              "      filter: drop-shadow(0px 1px 2px rgba(0, 0, 0, 0.3));\n",
              "      fill: #FFFFFF;\n",
              "    }\n",
              "  </style>\n",
              "\n",
              "      <script>\n",
              "        const buttonEl =\n",
              "          document.querySelector('#df-7e497887-6e79-4b34-b189-6b6f52b13ba5 button.colab-df-convert');\n",
              "        buttonEl.style.display =\n",
              "          google.colab.kernel.accessAllowed ? 'block' : 'none';\n",
              "\n",
              "        async function convertToInteractive(key) {\n",
              "          const element = document.querySelector('#df-7e497887-6e79-4b34-b189-6b6f52b13ba5');\n",
              "          const dataTable =\n",
              "            await google.colab.kernel.invokeFunction('convertToInteractive',\n",
              "                                                     [key], {});\n",
              "          if (!dataTable) return;\n",
              "\n",
              "          const docLinkHtml = 'Like what you see? Visit the ' +\n",
              "            '<a target=\"_blank\" href=https://colab.research.google.com/notebooks/data_table.ipynb>data table notebook</a>'\n",
              "            + ' to learn more about interactive tables.';\n",
              "          element.innerHTML = '';\n",
              "          dataTable['output_type'] = 'display_data';\n",
              "          await google.colab.output.renderOutput(dataTable, element);\n",
              "          const docLink = document.createElement('div');\n",
              "          docLink.innerHTML = docLinkHtml;\n",
              "          element.appendChild(docLink);\n",
              "        }\n",
              "      </script>\n",
              "    </div>\n",
              "  </div>\n",
              "  "
            ]
          },
          "metadata": {},
          "execution_count": 9
        }
      ]
    },
    {
      "cell_type": "code",
      "source": [
        "df.isnull().sum()"
      ],
      "metadata": {
        "colab": {
          "base_uri": "https://localhost:8080/"
        },
        "id": "ZKn4KumSSK4C",
        "outputId": "de49871c-c93d-442c-b10b-e06eb876bbdb"
      },
      "execution_count": null,
      "outputs": [
        {
          "output_type": "execute_result",
          "data": {
            "text/plain": [
              "accident_date    0\n",
              "accident_time    0\n",
              "step             0\n",
              "weather_state    0\n",
              "injur_man        0\n",
              "injur_female     0\n",
              "dead_man         0\n",
              "dead_female      0\n",
              "cause_type       0\n",
              "dtype: int64"
            ]
          },
          "metadata": {},
          "execution_count": 11
        }
      ]
    },
    {
      "cell_type": "code",
      "source": [
        "df.columns"
      ],
      "metadata": {
        "colab": {
          "base_uri": "https://localhost:8080/"
        },
        "id": "HqzdOT_wSOTn",
        "outputId": "de250e62-8952-4e54-c347-248e4bad4f09"
      },
      "execution_count": null,
      "outputs": [
        {
          "output_type": "execute_result",
          "data": {
            "text/plain": [
              "Index(['accident_date', 'accident_time', 'step', 'weather_state', 'injur_man',\n",
              "       'injur_female', 'dead_man', 'dead_female', 'cause_type'],\n",
              "      dtype='object')"
            ]
          },
          "metadata": {},
          "execution_count": 12
        }
      ]
    },
    {
      "cell_type": "code",
      "source": [
        "df.info()"
      ],
      "metadata": {
        "id": "bFjfJvIQScnF",
        "outputId": "edd18511-56cc-4535-93bb-7147d6670a55",
        "colab": {
          "base_uri": "https://localhost:8080/"
        }
      },
      "execution_count": null,
      "outputs": [
        {
          "output_type": "stream",
          "name": "stdout",
          "text": [
            "<class 'pandas.core.frame.DataFrame'>\n",
            "RangeIndex: 346 entries, 0 to 345\n",
            "Data columns (total 9 columns):\n",
            " #   Column         Non-Null Count  Dtype         \n",
            "---  ------         --------------  -----         \n",
            " 0   accident_date  346 non-null    datetime64[ns]\n",
            " 1   accident_time  346 non-null    object        \n",
            " 2   step           346 non-null    object        \n",
            " 3   weather_state  346 non-null    object        \n",
            " 4   injur_man      346 non-null    int64         \n",
            " 5   injur_female   346 non-null    int64         \n",
            " 6   dead_man       346 non-null    int64         \n",
            " 7   dead_female    346 non-null    int64         \n",
            " 8   cause_type     346 non-null    object        \n",
            "dtypes: datetime64[ns](1), int64(4), object(4)\n",
            "memory usage: 24.5+ KB\n"
          ]
        }
      ]
    },
    {
      "cell_type": "code",
      "source": [
        "df.describe()"
      ],
      "metadata": {
        "id": "edSamGUeSeDm",
        "outputId": "a4ccabab-cbf4-4cb7-ac93-6640c6cf38f4",
        "colab": {
          "base_uri": "https://localhost:8080/",
          "height": 300
        }
      },
      "execution_count": null,
      "outputs": [
        {
          "output_type": "execute_result",
          "data": {
            "text/plain": [
              "        injur_man  injur_female    dead_man  dead_female\n",
              "count  346.000000    346.000000  346.000000   346.000000\n",
              "mean     0.320809      0.190751    0.020231     0.008671\n",
              "std      0.621802      0.503352    0.140994     0.120072\n",
              "min      0.000000      0.000000    0.000000     0.000000\n",
              "25%      0.000000      0.000000    0.000000     0.000000\n",
              "50%      0.000000      0.000000    0.000000     0.000000\n",
              "75%      0.000000      0.000000    0.000000     0.000000\n",
              "max      4.000000      3.000000    1.000000     2.000000"
            ],
            "text/html": [
              "\n",
              "  <div id=\"df-fd840e80-96ad-4546-86fa-2464a144a41d\">\n",
              "    <div class=\"colab-df-container\">\n",
              "      <div>\n",
              "<style scoped>\n",
              "    .dataframe tbody tr th:only-of-type {\n",
              "        vertical-align: middle;\n",
              "    }\n",
              "\n",
              "    .dataframe tbody tr th {\n",
              "        vertical-align: top;\n",
              "    }\n",
              "\n",
              "    .dataframe thead th {\n",
              "        text-align: right;\n",
              "    }\n",
              "</style>\n",
              "<table border=\"1\" class=\"dataframe\">\n",
              "  <thead>\n",
              "    <tr style=\"text-align: right;\">\n",
              "      <th></th>\n",
              "      <th>injur_man</th>\n",
              "      <th>injur_female</th>\n",
              "      <th>dead_man</th>\n",
              "      <th>dead_female</th>\n",
              "    </tr>\n",
              "  </thead>\n",
              "  <tbody>\n",
              "    <tr>\n",
              "      <th>count</th>\n",
              "      <td>346.000000</td>\n",
              "      <td>346.000000</td>\n",
              "      <td>346.000000</td>\n",
              "      <td>346.000000</td>\n",
              "    </tr>\n",
              "    <tr>\n",
              "      <th>mean</th>\n",
              "      <td>0.320809</td>\n",
              "      <td>0.190751</td>\n",
              "      <td>0.020231</td>\n",
              "      <td>0.008671</td>\n",
              "    </tr>\n",
              "    <tr>\n",
              "      <th>std</th>\n",
              "      <td>0.621802</td>\n",
              "      <td>0.503352</td>\n",
              "      <td>0.140994</td>\n",
              "      <td>0.120072</td>\n",
              "    </tr>\n",
              "    <tr>\n",
              "      <th>min</th>\n",
              "      <td>0.000000</td>\n",
              "      <td>0.000000</td>\n",
              "      <td>0.000000</td>\n",
              "      <td>0.000000</td>\n",
              "    </tr>\n",
              "    <tr>\n",
              "      <th>25%</th>\n",
              "      <td>0.000000</td>\n",
              "      <td>0.000000</td>\n",
              "      <td>0.000000</td>\n",
              "      <td>0.000000</td>\n",
              "    </tr>\n",
              "    <tr>\n",
              "      <th>50%</th>\n",
              "      <td>0.000000</td>\n",
              "      <td>0.000000</td>\n",
              "      <td>0.000000</td>\n",
              "      <td>0.000000</td>\n",
              "    </tr>\n",
              "    <tr>\n",
              "      <th>75%</th>\n",
              "      <td>0.000000</td>\n",
              "      <td>0.000000</td>\n",
              "      <td>0.000000</td>\n",
              "      <td>0.000000</td>\n",
              "    </tr>\n",
              "    <tr>\n",
              "      <th>max</th>\n",
              "      <td>4.000000</td>\n",
              "      <td>3.000000</td>\n",
              "      <td>1.000000</td>\n",
              "      <td>2.000000</td>\n",
              "    </tr>\n",
              "  </tbody>\n",
              "</table>\n",
              "</div>\n",
              "      <button class=\"colab-df-convert\" onclick=\"convertToInteractive('df-fd840e80-96ad-4546-86fa-2464a144a41d')\"\n",
              "              title=\"Convert this dataframe to an interactive table.\"\n",
              "              style=\"display:none;\">\n",
              "        \n",
              "  <svg xmlns=\"http://www.w3.org/2000/svg\" height=\"24px\"viewBox=\"0 0 24 24\"\n",
              "       width=\"24px\">\n",
              "    <path d=\"M0 0h24v24H0V0z\" fill=\"none\"/>\n",
              "    <path d=\"M18.56 5.44l.94 2.06.94-2.06 2.06-.94-2.06-.94-.94-2.06-.94 2.06-2.06.94zm-11 1L8.5 8.5l.94-2.06 2.06-.94-2.06-.94L8.5 2.5l-.94 2.06-2.06.94zm10 10l.94 2.06.94-2.06 2.06-.94-2.06-.94-.94-2.06-.94 2.06-2.06.94z\"/><path d=\"M17.41 7.96l-1.37-1.37c-.4-.4-.92-.59-1.43-.59-.52 0-1.04.2-1.43.59L10.3 9.45l-7.72 7.72c-.78.78-.78 2.05 0 2.83L4 21.41c.39.39.9.59 1.41.59.51 0 1.02-.2 1.41-.59l7.78-7.78 2.81-2.81c.8-.78.8-2.07 0-2.86zM5.41 20L4 18.59l7.72-7.72 1.47 1.35L5.41 20z\"/>\n",
              "  </svg>\n",
              "      </button>\n",
              "      \n",
              "  <style>\n",
              "    .colab-df-container {\n",
              "      display:flex;\n",
              "      flex-wrap:wrap;\n",
              "      gap: 12px;\n",
              "    }\n",
              "\n",
              "    .colab-df-convert {\n",
              "      background-color: #E8F0FE;\n",
              "      border: none;\n",
              "      border-radius: 50%;\n",
              "      cursor: pointer;\n",
              "      display: none;\n",
              "      fill: #1967D2;\n",
              "      height: 32px;\n",
              "      padding: 0 0 0 0;\n",
              "      width: 32px;\n",
              "    }\n",
              "\n",
              "    .colab-df-convert:hover {\n",
              "      background-color: #E2EBFA;\n",
              "      box-shadow: 0px 1px 2px rgba(60, 64, 67, 0.3), 0px 1px 3px 1px rgba(60, 64, 67, 0.15);\n",
              "      fill: #174EA6;\n",
              "    }\n",
              "\n",
              "    [theme=dark] .colab-df-convert {\n",
              "      background-color: #3B4455;\n",
              "      fill: #D2E3FC;\n",
              "    }\n",
              "\n",
              "    [theme=dark] .colab-df-convert:hover {\n",
              "      background-color: #434B5C;\n",
              "      box-shadow: 0px 1px 3px 1px rgba(0, 0, 0, 0.15);\n",
              "      filter: drop-shadow(0px 1px 2px rgba(0, 0, 0, 0.3));\n",
              "      fill: #FFFFFF;\n",
              "    }\n",
              "  </style>\n",
              "\n",
              "      <script>\n",
              "        const buttonEl =\n",
              "          document.querySelector('#df-fd840e80-96ad-4546-86fa-2464a144a41d button.colab-df-convert');\n",
              "        buttonEl.style.display =\n",
              "          google.colab.kernel.accessAllowed ? 'block' : 'none';\n",
              "\n",
              "        async function convertToInteractive(key) {\n",
              "          const element = document.querySelector('#df-fd840e80-96ad-4546-86fa-2464a144a41d');\n",
              "          const dataTable =\n",
              "            await google.colab.kernel.invokeFunction('convertToInteractive',\n",
              "                                                     [key], {});\n",
              "          if (!dataTable) return;\n",
              "\n",
              "          const docLinkHtml = 'Like what you see? Visit the ' +\n",
              "            '<a target=\"_blank\" href=https://colab.research.google.com/notebooks/data_table.ipynb>data table notebook</a>'\n",
              "            + ' to learn more about interactive tables.';\n",
              "          element.innerHTML = '';\n",
              "          dataTable['output_type'] = 'display_data';\n",
              "          await google.colab.output.renderOutput(dataTable, element);\n",
              "          const docLink = document.createElement('div');\n",
              "          docLink.innerHTML = docLinkHtml;\n",
              "          element.appendChild(docLink);\n",
              "        }\n",
              "      </script>\n",
              "    </div>\n",
              "  </div>\n",
              "  "
            ]
          },
          "metadata": {},
          "execution_count": 14
        }
      ]
    },
    {
      "cell_type": "code",
      "source": [
        "df.replace(regex=r'ฝนตกถนนเปียกลื่น', value='สภาพอากาศ', inplace=True)\n",
        "df.replace(regex=r'ยางแตกล้อหลัง', value='ยางแตก', inplace=True)"
      ],
      "metadata": {
        "id": "DL5G8TVcfGz3"
      },
      "execution_count": null,
      "outputs": []
    },
    {
      "cell_type": "code",
      "source": [
        "g1 = ['ขับรถประมาท', 'ผู้ขับขี่นั่งบุคคลก้มดูโทรศัพท' , 'ก้มเก็บสิ่งของ', 'ก้มเก็บของในรถ' , 'นั่งบุคคลตัดหน้ารถบรรทุก10ล้อ' , 'ขับชิดขอบทางขวามากเกินไป' , 'ขับรถคล่อมเลน' , 'ผู้ขับขี่หมดสติ' , 'หลับใน' ,'ขับรถเร็วเกินไป', 'ก้มเก็บของ' , 'ไม่ชะลอความเร็ว' , 'ขับรถช้าลง' , 'มองไม่เห็น', 'นั่งบุลคลอีซูซุก้มเก็บของ' , 'รถนั่งฮอนด้าขับย้อนทางลงพัฒ2' , 'นั่งบุคคลIsuzuเบรคไม่ทัน']\n",
        "g2 = ['ขับรถกระชั้นชิด', 'ขับขี่กระชั้นชิด', 'ขับรถกระชิด', 'ขับขี่ในระยะกระชั้นชิด', 'กระชั้นชิดเบรกไม่ทัน', 'ขับรถกะชันชิด', 'ขับกระชั้นชิด', 'เบรคกระชั้นชิด', 'ขับรถกระชันชิด']\n",
        "g3 = ['เบรคกระทันหัน', 'เบรกกระชั้นชิด', 'เบรกกะทันหันรถเสียการทรงตัว','เลรคกะทันหัน','เบรคกะทันหัน','เบครกระทันหัน']\n",
        "g4 = ['บรรทุกยื่นล้ำ', 'บรรทุกเกิน/ของตกหล่น', 'บรรทุกหนัก']\n",
        "g5 = ['เบรคขัดข้อง', 'เบรคไม่อยู่', 'ล้อหลุด', 'ระบบไฟฟ้าขัดข้อง', 'สลักตัวยึดหลุด','เพลาข้างด้านขวาขาด']\n",
        "g6 = ['เข้าช่องเก็บค่าผ่านผิด', 'เปลี่ยนช่องทางเบรกกะทันหัน']\n",
        "g7 = ['เสียหลักหมุนชนขอบทาง', 'เสียหลัก']\n",
        "g8 = ['เพลิงไหม้', 'โรคประจำตัว', 'บรรทุกรถ Atvเกิดไฟฟ้าลัดวงจร', 'กระบะToyotaทำสิ่งของตกหล่น', 'ไม่ดึงเบรคมือ']\n",
        "\n",
        "df.replace(g1, value='ขับรถโดยประมาท', inplace=True)\n",
        "df.replace(g2, value='ขับรถในระยะกระชั้นชิด', inplace=True)\n",
        "df.replace(g3, value='เบรกกะทันหัน', inplace=True)\n",
        "df.replace(g4, value='บรรทุกเกินขนาด', inplace=True)\n",
        "df.replace(g5, value='เครื่องยนต์ขัดข้อง', inplace=True)\n",
        "df.replace(g6, value='เปลี่ยนช่องทางกระทันหัน', inplace=True)\n",
        "df.replace(g7, value='รถเสียหลัก', inplace=True)\n",
        "df.replace(g8, value='อื่นๆ', inplace=True)"
      ],
      "metadata": {
        "id": "1U07iz35kLnu"
      },
      "execution_count": null,
      "outputs": []
    },
    {
      "cell_type": "code",
      "source": [
        "df.sample(10)"
      ],
      "metadata": {
        "colab": {
          "base_uri": "https://localhost:8080/",
          "height": 363
        },
        "id": "bqpOlFSqkviY",
        "outputId": "5c61b364-dc4a-4617-eb9c-91b79e1478af"
      },
      "execution_count": null,
      "outputs": [
        {
          "output_type": "execute_result",
          "data": {
            "text/plain": [
              "    accident_date accident_time         step weather_state  injur_man  \\\n",
              "101    2022-01-19      11:06:06    บูรพาวิถี          ปกติ          0   \n",
              "58     2022-02-07      22:52:52  เฉลิมมหานคร          ปกติ          1   \n",
              "59     2022-02-05      20:15:15       ศรีรัช          ปกติ          0   \n",
              "208    2021-11-24      19:28:28      ฉลองรัช          ปกติ          0   \n",
              "203    2021-11-28      23:40:40  เฉลิมมหานคร          ปกติ          0   \n",
              "97     2022-01-20      11:37:37      ฉลองรัช          ปกติ          1   \n",
              "307    2021-10-18      09:29:29      ฉลองรัช          ปกติ          0   \n",
              "284    2021-10-26      18:53:53    บูรพาวิถี          ปกติ          0   \n",
              "189    2021-12-03      00:47:47      ฉลองรัช          ปกติ          0   \n",
              "88     2022-01-23      01:44:44       ศรีรัช          ปกติ          0   \n",
              "\n",
              "     injur_female  dead_man  dead_female               cause_type  \n",
              "101             0         0            0           ขับรถโดยประมาท  \n",
              "58              0         0            0  เปลี่ยนช่องทางกระทันหัน  \n",
              "59              1         0            0           ขับรถโดยประมาท  \n",
              "208             0         0            0             เบรกกะทันหัน  \n",
              "203             0         0            0           ขับรถโดยประมาท  \n",
              "97              0         0            0           ขับรถโดยประมาท  \n",
              "307             0         0            0              สภาพแวดล้อม  \n",
              "284             0         0            0  เปลี่ยนช่องทางกระทันหัน  \n",
              "189             1         0            0           ขับรถโดยประมาท  \n",
              "88              0         0            0  เปลี่ยนช่องทางกระทันหัน  "
            ],
            "text/html": [
              "\n",
              "  <div id=\"df-b5eef3aa-731c-4477-b824-cd97ee77ce16\">\n",
              "    <div class=\"colab-df-container\">\n",
              "      <div>\n",
              "<style scoped>\n",
              "    .dataframe tbody tr th:only-of-type {\n",
              "        vertical-align: middle;\n",
              "    }\n",
              "\n",
              "    .dataframe tbody tr th {\n",
              "        vertical-align: top;\n",
              "    }\n",
              "\n",
              "    .dataframe thead th {\n",
              "        text-align: right;\n",
              "    }\n",
              "</style>\n",
              "<table border=\"1\" class=\"dataframe\">\n",
              "  <thead>\n",
              "    <tr style=\"text-align: right;\">\n",
              "      <th></th>\n",
              "      <th>accident_date</th>\n",
              "      <th>accident_time</th>\n",
              "      <th>step</th>\n",
              "      <th>weather_state</th>\n",
              "      <th>injur_man</th>\n",
              "      <th>injur_female</th>\n",
              "      <th>dead_man</th>\n",
              "      <th>dead_female</th>\n",
              "      <th>cause_type</th>\n",
              "    </tr>\n",
              "  </thead>\n",
              "  <tbody>\n",
              "    <tr>\n",
              "      <th>101</th>\n",
              "      <td>2022-01-19</td>\n",
              "      <td>11:06:06</td>\n",
              "      <td>บูรพาวิถี</td>\n",
              "      <td>ปกติ</td>\n",
              "      <td>0</td>\n",
              "      <td>0</td>\n",
              "      <td>0</td>\n",
              "      <td>0</td>\n",
              "      <td>ขับรถโดยประมาท</td>\n",
              "    </tr>\n",
              "    <tr>\n",
              "      <th>58</th>\n",
              "      <td>2022-02-07</td>\n",
              "      <td>22:52:52</td>\n",
              "      <td>เฉลิมมหานคร</td>\n",
              "      <td>ปกติ</td>\n",
              "      <td>1</td>\n",
              "      <td>0</td>\n",
              "      <td>0</td>\n",
              "      <td>0</td>\n",
              "      <td>เปลี่ยนช่องทางกระทันหัน</td>\n",
              "    </tr>\n",
              "    <tr>\n",
              "      <th>59</th>\n",
              "      <td>2022-02-05</td>\n",
              "      <td>20:15:15</td>\n",
              "      <td>ศรีรัช</td>\n",
              "      <td>ปกติ</td>\n",
              "      <td>0</td>\n",
              "      <td>1</td>\n",
              "      <td>0</td>\n",
              "      <td>0</td>\n",
              "      <td>ขับรถโดยประมาท</td>\n",
              "    </tr>\n",
              "    <tr>\n",
              "      <th>208</th>\n",
              "      <td>2021-11-24</td>\n",
              "      <td>19:28:28</td>\n",
              "      <td>ฉลองรัช</td>\n",
              "      <td>ปกติ</td>\n",
              "      <td>0</td>\n",
              "      <td>0</td>\n",
              "      <td>0</td>\n",
              "      <td>0</td>\n",
              "      <td>เบรกกะทันหัน</td>\n",
              "    </tr>\n",
              "    <tr>\n",
              "      <th>203</th>\n",
              "      <td>2021-11-28</td>\n",
              "      <td>23:40:40</td>\n",
              "      <td>เฉลิมมหานคร</td>\n",
              "      <td>ปกติ</td>\n",
              "      <td>0</td>\n",
              "      <td>0</td>\n",
              "      <td>0</td>\n",
              "      <td>0</td>\n",
              "      <td>ขับรถโดยประมาท</td>\n",
              "    </tr>\n",
              "    <tr>\n",
              "      <th>97</th>\n",
              "      <td>2022-01-20</td>\n",
              "      <td>11:37:37</td>\n",
              "      <td>ฉลองรัช</td>\n",
              "      <td>ปกติ</td>\n",
              "      <td>1</td>\n",
              "      <td>0</td>\n",
              "      <td>0</td>\n",
              "      <td>0</td>\n",
              "      <td>ขับรถโดยประมาท</td>\n",
              "    </tr>\n",
              "    <tr>\n",
              "      <th>307</th>\n",
              "      <td>2021-10-18</td>\n",
              "      <td>09:29:29</td>\n",
              "      <td>ฉลองรัช</td>\n",
              "      <td>ปกติ</td>\n",
              "      <td>0</td>\n",
              "      <td>0</td>\n",
              "      <td>0</td>\n",
              "      <td>0</td>\n",
              "      <td>สภาพแวดล้อม</td>\n",
              "    </tr>\n",
              "    <tr>\n",
              "      <th>284</th>\n",
              "      <td>2021-10-26</td>\n",
              "      <td>18:53:53</td>\n",
              "      <td>บูรพาวิถี</td>\n",
              "      <td>ปกติ</td>\n",
              "      <td>0</td>\n",
              "      <td>0</td>\n",
              "      <td>0</td>\n",
              "      <td>0</td>\n",
              "      <td>เปลี่ยนช่องทางกระทันหัน</td>\n",
              "    </tr>\n",
              "    <tr>\n",
              "      <th>189</th>\n",
              "      <td>2021-12-03</td>\n",
              "      <td>00:47:47</td>\n",
              "      <td>ฉลองรัช</td>\n",
              "      <td>ปกติ</td>\n",
              "      <td>0</td>\n",
              "      <td>1</td>\n",
              "      <td>0</td>\n",
              "      <td>0</td>\n",
              "      <td>ขับรถโดยประมาท</td>\n",
              "    </tr>\n",
              "    <tr>\n",
              "      <th>88</th>\n",
              "      <td>2022-01-23</td>\n",
              "      <td>01:44:44</td>\n",
              "      <td>ศรีรัช</td>\n",
              "      <td>ปกติ</td>\n",
              "      <td>0</td>\n",
              "      <td>0</td>\n",
              "      <td>0</td>\n",
              "      <td>0</td>\n",
              "      <td>เปลี่ยนช่องทางกระทันหัน</td>\n",
              "    </tr>\n",
              "  </tbody>\n",
              "</table>\n",
              "</div>\n",
              "      <button class=\"colab-df-convert\" onclick=\"convertToInteractive('df-b5eef3aa-731c-4477-b824-cd97ee77ce16')\"\n",
              "              title=\"Convert this dataframe to an interactive table.\"\n",
              "              style=\"display:none;\">\n",
              "        \n",
              "  <svg xmlns=\"http://www.w3.org/2000/svg\" height=\"24px\"viewBox=\"0 0 24 24\"\n",
              "       width=\"24px\">\n",
              "    <path d=\"M0 0h24v24H0V0z\" fill=\"none\"/>\n",
              "    <path d=\"M18.56 5.44l.94 2.06.94-2.06 2.06-.94-2.06-.94-.94-2.06-.94 2.06-2.06.94zm-11 1L8.5 8.5l.94-2.06 2.06-.94-2.06-.94L8.5 2.5l-.94 2.06-2.06.94zm10 10l.94 2.06.94-2.06 2.06-.94-2.06-.94-.94-2.06-.94 2.06-2.06.94z\"/><path d=\"M17.41 7.96l-1.37-1.37c-.4-.4-.92-.59-1.43-.59-.52 0-1.04.2-1.43.59L10.3 9.45l-7.72 7.72c-.78.78-.78 2.05 0 2.83L4 21.41c.39.39.9.59 1.41.59.51 0 1.02-.2 1.41-.59l7.78-7.78 2.81-2.81c.8-.78.8-2.07 0-2.86zM5.41 20L4 18.59l7.72-7.72 1.47 1.35L5.41 20z\"/>\n",
              "  </svg>\n",
              "      </button>\n",
              "      \n",
              "  <style>\n",
              "    .colab-df-container {\n",
              "      display:flex;\n",
              "      flex-wrap:wrap;\n",
              "      gap: 12px;\n",
              "    }\n",
              "\n",
              "    .colab-df-convert {\n",
              "      background-color: #E8F0FE;\n",
              "      border: none;\n",
              "      border-radius: 50%;\n",
              "      cursor: pointer;\n",
              "      display: none;\n",
              "      fill: #1967D2;\n",
              "      height: 32px;\n",
              "      padding: 0 0 0 0;\n",
              "      width: 32px;\n",
              "    }\n",
              "\n",
              "    .colab-df-convert:hover {\n",
              "      background-color: #E2EBFA;\n",
              "      box-shadow: 0px 1px 2px rgba(60, 64, 67, 0.3), 0px 1px 3px 1px rgba(60, 64, 67, 0.15);\n",
              "      fill: #174EA6;\n",
              "    }\n",
              "\n",
              "    [theme=dark] .colab-df-convert {\n",
              "      background-color: #3B4455;\n",
              "      fill: #D2E3FC;\n",
              "    }\n",
              "\n",
              "    [theme=dark] .colab-df-convert:hover {\n",
              "      background-color: #434B5C;\n",
              "      box-shadow: 0px 1px 3px 1px rgba(0, 0, 0, 0.15);\n",
              "      filter: drop-shadow(0px 1px 2px rgba(0, 0, 0, 0.3));\n",
              "      fill: #FFFFFF;\n",
              "    }\n",
              "  </style>\n",
              "\n",
              "      <script>\n",
              "        const buttonEl =\n",
              "          document.querySelector('#df-b5eef3aa-731c-4477-b824-cd97ee77ce16 button.colab-df-convert');\n",
              "        buttonEl.style.display =\n",
              "          google.colab.kernel.accessAllowed ? 'block' : 'none';\n",
              "\n",
              "        async function convertToInteractive(key) {\n",
              "          const element = document.querySelector('#df-b5eef3aa-731c-4477-b824-cd97ee77ce16');\n",
              "          const dataTable =\n",
              "            await google.colab.kernel.invokeFunction('convertToInteractive',\n",
              "                                                     [key], {});\n",
              "          if (!dataTable) return;\n",
              "\n",
              "          const docLinkHtml = 'Like what you see? Visit the ' +\n",
              "            '<a target=\"_blank\" href=https://colab.research.google.com/notebooks/data_table.ipynb>data table notebook</a>'\n",
              "            + ' to learn more about interactive tables.';\n",
              "          element.innerHTML = '';\n",
              "          dataTable['output_type'] = 'display_data';\n",
              "          await google.colab.output.renderOutput(dataTable, element);\n",
              "          const docLink = document.createElement('div');\n",
              "          docLink.innerHTML = docLinkHtml;\n",
              "          element.appendChild(docLink);\n",
              "        }\n",
              "      </script>\n",
              "    </div>\n",
              "  </div>\n",
              "  "
            ]
          },
          "metadata": {},
          "execution_count": 17
        }
      ]
    },
    {
      "cell_type": "code",
      "source": [
        "df['cause_type'].unique()"
      ],
      "metadata": {
        "colab": {
          "base_uri": "https://localhost:8080/"
        },
        "id": "V0zbnIesceVY",
        "outputId": "3adde5eb-14b4-4b13-bd46-23b040a975e2"
      },
      "execution_count": null,
      "outputs": [
        {
          "output_type": "execute_result",
          "data": {
            "text/plain": [
              "array(['ขับรถโดยประมาท', 'เครื่องยนต์ขัดข้อง', 'เปลี่ยนช่องทางกระทันหัน',\n",
              "       'ขับรถในระยะกระชั้นชิด', 'อื่นๆ', 'ยางแตก', 'เบรกกะทันหัน',\n",
              "       'รถเสียหลัก', 'บรรทุกเกินขนาด', 'สภาพแวดล้อม', 'สภาพอากาศ'],\n",
              "      dtype=object)"
            ]
          },
          "metadata": {},
          "execution_count": 18
        }
      ]
    },
    {
      "cell_type": "code",
      "source": [
        "df['cause_type'].loc[df['cause_type'].str.contains('กระชั')] = 'ขับรถในระยะกระชั้นชิด'\n",
        "df.sample(5)"
      ],
      "metadata": {
        "colab": {
          "base_uri": "https://localhost:8080/",
          "height": 293
        },
        "id": "gspLlJCJdysm",
        "outputId": "fda9846d-3f5a-4cb1-cae7-d944d8b63bf8"
      },
      "execution_count": null,
      "outputs": [
        {
          "output_type": "stream",
          "name": "stderr",
          "text": [
            "/usr/local/lib/python3.7/dist-packages/pandas/core/indexing.py:1732: SettingWithCopyWarning: \n",
            "A value is trying to be set on a copy of a slice from a DataFrame\n",
            "\n",
            "See the caveats in the documentation: https://pandas.pydata.org/pandas-docs/stable/user_guide/indexing.html#returning-a-view-versus-a-copy\n",
            "  self._setitem_single_block(indexer, value, name)\n"
          ]
        },
        {
          "output_type": "execute_result",
          "data": {
            "text/plain": [
              "    accident_date accident_time                    step weather_state  \\\n",
              "161    2021-12-18      01:06:06  ทางหลวงพิเศษหมายเลข 37          ปกติ   \n",
              "236    2021-11-10      11:00:00                  ศรีรัช          ปกติ   \n",
              "159    2021-12-18      02:05:05       บางพลี-สุขสวัสดิ์          ปกติ   \n",
              "263    2021-11-01      20:40:40                 ฉลองรัช          ปกติ   \n",
              "337    2021-10-07      10:19:19             เฉลิมมหานคร          ปกติ   \n",
              "\n",
              "     injur_man  injur_female  dead_man  dead_female               cause_type  \n",
              "161          1             0         0            0           ขับรถโดยประมาท  \n",
              "236          0             0         0            0    ขับรถในระยะกระชั้นชิด  \n",
              "159          0             0         0            0              สภาพแวดล้อม  \n",
              "263          0             0         0            0  เปลี่ยนช่องทางกระทันหัน  \n",
              "337          0             0         0            0    ขับรถในระยะกระชั้นชิด  "
            ],
            "text/html": [
              "\n",
              "  <div id=\"df-81e4c5a9-73c3-4615-870e-b894ae3a2168\">\n",
              "    <div class=\"colab-df-container\">\n",
              "      <div>\n",
              "<style scoped>\n",
              "    .dataframe tbody tr th:only-of-type {\n",
              "        vertical-align: middle;\n",
              "    }\n",
              "\n",
              "    .dataframe tbody tr th {\n",
              "        vertical-align: top;\n",
              "    }\n",
              "\n",
              "    .dataframe thead th {\n",
              "        text-align: right;\n",
              "    }\n",
              "</style>\n",
              "<table border=\"1\" class=\"dataframe\">\n",
              "  <thead>\n",
              "    <tr style=\"text-align: right;\">\n",
              "      <th></th>\n",
              "      <th>accident_date</th>\n",
              "      <th>accident_time</th>\n",
              "      <th>step</th>\n",
              "      <th>weather_state</th>\n",
              "      <th>injur_man</th>\n",
              "      <th>injur_female</th>\n",
              "      <th>dead_man</th>\n",
              "      <th>dead_female</th>\n",
              "      <th>cause_type</th>\n",
              "    </tr>\n",
              "  </thead>\n",
              "  <tbody>\n",
              "    <tr>\n",
              "      <th>161</th>\n",
              "      <td>2021-12-18</td>\n",
              "      <td>01:06:06</td>\n",
              "      <td>ทางหลวงพิเศษหมายเลข 37</td>\n",
              "      <td>ปกติ</td>\n",
              "      <td>1</td>\n",
              "      <td>0</td>\n",
              "      <td>0</td>\n",
              "      <td>0</td>\n",
              "      <td>ขับรถโดยประมาท</td>\n",
              "    </tr>\n",
              "    <tr>\n",
              "      <th>236</th>\n",
              "      <td>2021-11-10</td>\n",
              "      <td>11:00:00</td>\n",
              "      <td>ศรีรัช</td>\n",
              "      <td>ปกติ</td>\n",
              "      <td>0</td>\n",
              "      <td>0</td>\n",
              "      <td>0</td>\n",
              "      <td>0</td>\n",
              "      <td>ขับรถในระยะกระชั้นชิด</td>\n",
              "    </tr>\n",
              "    <tr>\n",
              "      <th>159</th>\n",
              "      <td>2021-12-18</td>\n",
              "      <td>02:05:05</td>\n",
              "      <td>บางพลี-สุขสวัสดิ์</td>\n",
              "      <td>ปกติ</td>\n",
              "      <td>0</td>\n",
              "      <td>0</td>\n",
              "      <td>0</td>\n",
              "      <td>0</td>\n",
              "      <td>สภาพแวดล้อม</td>\n",
              "    </tr>\n",
              "    <tr>\n",
              "      <th>263</th>\n",
              "      <td>2021-11-01</td>\n",
              "      <td>20:40:40</td>\n",
              "      <td>ฉลองรัช</td>\n",
              "      <td>ปกติ</td>\n",
              "      <td>0</td>\n",
              "      <td>0</td>\n",
              "      <td>0</td>\n",
              "      <td>0</td>\n",
              "      <td>เปลี่ยนช่องทางกระทันหัน</td>\n",
              "    </tr>\n",
              "    <tr>\n",
              "      <th>337</th>\n",
              "      <td>2021-10-07</td>\n",
              "      <td>10:19:19</td>\n",
              "      <td>เฉลิมมหานคร</td>\n",
              "      <td>ปกติ</td>\n",
              "      <td>0</td>\n",
              "      <td>0</td>\n",
              "      <td>0</td>\n",
              "      <td>0</td>\n",
              "      <td>ขับรถในระยะกระชั้นชิด</td>\n",
              "    </tr>\n",
              "  </tbody>\n",
              "</table>\n",
              "</div>\n",
              "      <button class=\"colab-df-convert\" onclick=\"convertToInteractive('df-81e4c5a9-73c3-4615-870e-b894ae3a2168')\"\n",
              "              title=\"Convert this dataframe to an interactive table.\"\n",
              "              style=\"display:none;\">\n",
              "        \n",
              "  <svg xmlns=\"http://www.w3.org/2000/svg\" height=\"24px\"viewBox=\"0 0 24 24\"\n",
              "       width=\"24px\">\n",
              "    <path d=\"M0 0h24v24H0V0z\" fill=\"none\"/>\n",
              "    <path d=\"M18.56 5.44l.94 2.06.94-2.06 2.06-.94-2.06-.94-.94-2.06-.94 2.06-2.06.94zm-11 1L8.5 8.5l.94-2.06 2.06-.94-2.06-.94L8.5 2.5l-.94 2.06-2.06.94zm10 10l.94 2.06.94-2.06 2.06-.94-2.06-.94-.94-2.06-.94 2.06-2.06.94z\"/><path d=\"M17.41 7.96l-1.37-1.37c-.4-.4-.92-.59-1.43-.59-.52 0-1.04.2-1.43.59L10.3 9.45l-7.72 7.72c-.78.78-.78 2.05 0 2.83L4 21.41c.39.39.9.59 1.41.59.51 0 1.02-.2 1.41-.59l7.78-7.78 2.81-2.81c.8-.78.8-2.07 0-2.86zM5.41 20L4 18.59l7.72-7.72 1.47 1.35L5.41 20z\"/>\n",
              "  </svg>\n",
              "      </button>\n",
              "      \n",
              "  <style>\n",
              "    .colab-df-container {\n",
              "      display:flex;\n",
              "      flex-wrap:wrap;\n",
              "      gap: 12px;\n",
              "    }\n",
              "\n",
              "    .colab-df-convert {\n",
              "      background-color: #E8F0FE;\n",
              "      border: none;\n",
              "      border-radius: 50%;\n",
              "      cursor: pointer;\n",
              "      display: none;\n",
              "      fill: #1967D2;\n",
              "      height: 32px;\n",
              "      padding: 0 0 0 0;\n",
              "      width: 32px;\n",
              "    }\n",
              "\n",
              "    .colab-df-convert:hover {\n",
              "      background-color: #E2EBFA;\n",
              "      box-shadow: 0px 1px 2px rgba(60, 64, 67, 0.3), 0px 1px 3px 1px rgba(60, 64, 67, 0.15);\n",
              "      fill: #174EA6;\n",
              "    }\n",
              "\n",
              "    [theme=dark] .colab-df-convert {\n",
              "      background-color: #3B4455;\n",
              "      fill: #D2E3FC;\n",
              "    }\n",
              "\n",
              "    [theme=dark] .colab-df-convert:hover {\n",
              "      background-color: #434B5C;\n",
              "      box-shadow: 0px 1px 3px 1px rgba(0, 0, 0, 0.15);\n",
              "      filter: drop-shadow(0px 1px 2px rgba(0, 0, 0, 0.3));\n",
              "      fill: #FFFFFF;\n",
              "    }\n",
              "  </style>\n",
              "\n",
              "      <script>\n",
              "        const buttonEl =\n",
              "          document.querySelector('#df-81e4c5a9-73c3-4615-870e-b894ae3a2168 button.colab-df-convert');\n",
              "        buttonEl.style.display =\n",
              "          google.colab.kernel.accessAllowed ? 'block' : 'none';\n",
              "\n",
              "        async function convertToInteractive(key) {\n",
              "          const element = document.querySelector('#df-81e4c5a9-73c3-4615-870e-b894ae3a2168');\n",
              "          const dataTable =\n",
              "            await google.colab.kernel.invokeFunction('convertToInteractive',\n",
              "                                                     [key], {});\n",
              "          if (!dataTable) return;\n",
              "\n",
              "          const docLinkHtml = 'Like what you see? Visit the ' +\n",
              "            '<a target=\"_blank\" href=https://colab.research.google.com/notebooks/data_table.ipynb>data table notebook</a>'\n",
              "            + ' to learn more about interactive tables.';\n",
              "          element.innerHTML = '';\n",
              "          dataTable['output_type'] = 'display_data';\n",
              "          await google.colab.output.renderOutput(dataTable, element);\n",
              "          const docLink = document.createElement('div');\n",
              "          docLink.innerHTML = docLinkHtml;\n",
              "          element.appendChild(docLink);\n",
              "        }\n",
              "      </script>\n",
              "    </div>\n",
              "  </div>\n",
              "  "
            ]
          },
          "metadata": {},
          "execution_count": 19
        }
      ]
    },
    {
      "cell_type": "code",
      "source": [
        "df['sum_injur']=df['injur_man']+df['injur_female']\n",
        "df['sum_dead']=df['dead_man']+df['dead_female']"
      ],
      "metadata": {
        "id": "HCAYcwjcWhlK"
      },
      "execution_count": null,
      "outputs": []
    },
    {
      "cell_type": "code",
      "source": [
        "dt=df[['sum_injur','sum_dead']]\n",
        "dt.sample(5)"
      ],
      "metadata": {
        "colab": {
          "base_uri": "https://localhost:8080/",
          "height": 206
        },
        "id": "0mYvM3cUW054",
        "outputId": "1cce6508-b8ab-466f-c5c1-884158467d39"
      },
      "execution_count": null,
      "outputs": [
        {
          "output_type": "execute_result",
          "data": {
            "text/plain": [
              "     sum_injur  sum_dead\n",
              "32           0         0\n",
              "279          0         0\n",
              "134          1         0\n",
              "188          1         0\n",
              "45           1         0"
            ],
            "text/html": [
              "\n",
              "  <div id=\"df-61da110a-f2a9-4505-9c5e-9a197a33c2db\">\n",
              "    <div class=\"colab-df-container\">\n",
              "      <div>\n",
              "<style scoped>\n",
              "    .dataframe tbody tr th:only-of-type {\n",
              "        vertical-align: middle;\n",
              "    }\n",
              "\n",
              "    .dataframe tbody tr th {\n",
              "        vertical-align: top;\n",
              "    }\n",
              "\n",
              "    .dataframe thead th {\n",
              "        text-align: right;\n",
              "    }\n",
              "</style>\n",
              "<table border=\"1\" class=\"dataframe\">\n",
              "  <thead>\n",
              "    <tr style=\"text-align: right;\">\n",
              "      <th></th>\n",
              "      <th>sum_injur</th>\n",
              "      <th>sum_dead</th>\n",
              "    </tr>\n",
              "  </thead>\n",
              "  <tbody>\n",
              "    <tr>\n",
              "      <th>32</th>\n",
              "      <td>0</td>\n",
              "      <td>0</td>\n",
              "    </tr>\n",
              "    <tr>\n",
              "      <th>279</th>\n",
              "      <td>0</td>\n",
              "      <td>0</td>\n",
              "    </tr>\n",
              "    <tr>\n",
              "      <th>134</th>\n",
              "      <td>1</td>\n",
              "      <td>0</td>\n",
              "    </tr>\n",
              "    <tr>\n",
              "      <th>188</th>\n",
              "      <td>1</td>\n",
              "      <td>0</td>\n",
              "    </tr>\n",
              "    <tr>\n",
              "      <th>45</th>\n",
              "      <td>1</td>\n",
              "      <td>0</td>\n",
              "    </tr>\n",
              "  </tbody>\n",
              "</table>\n",
              "</div>\n",
              "      <button class=\"colab-df-convert\" onclick=\"convertToInteractive('df-61da110a-f2a9-4505-9c5e-9a197a33c2db')\"\n",
              "              title=\"Convert this dataframe to an interactive table.\"\n",
              "              style=\"display:none;\">\n",
              "        \n",
              "  <svg xmlns=\"http://www.w3.org/2000/svg\" height=\"24px\"viewBox=\"0 0 24 24\"\n",
              "       width=\"24px\">\n",
              "    <path d=\"M0 0h24v24H0V0z\" fill=\"none\"/>\n",
              "    <path d=\"M18.56 5.44l.94 2.06.94-2.06 2.06-.94-2.06-.94-.94-2.06-.94 2.06-2.06.94zm-11 1L8.5 8.5l.94-2.06 2.06-.94-2.06-.94L8.5 2.5l-.94 2.06-2.06.94zm10 10l.94 2.06.94-2.06 2.06-.94-2.06-.94-.94-2.06-.94 2.06-2.06.94z\"/><path d=\"M17.41 7.96l-1.37-1.37c-.4-.4-.92-.59-1.43-.59-.52 0-1.04.2-1.43.59L10.3 9.45l-7.72 7.72c-.78.78-.78 2.05 0 2.83L4 21.41c.39.39.9.59 1.41.59.51 0 1.02-.2 1.41-.59l7.78-7.78 2.81-2.81c.8-.78.8-2.07 0-2.86zM5.41 20L4 18.59l7.72-7.72 1.47 1.35L5.41 20z\"/>\n",
              "  </svg>\n",
              "      </button>\n",
              "      \n",
              "  <style>\n",
              "    .colab-df-container {\n",
              "      display:flex;\n",
              "      flex-wrap:wrap;\n",
              "      gap: 12px;\n",
              "    }\n",
              "\n",
              "    .colab-df-convert {\n",
              "      background-color: #E8F0FE;\n",
              "      border: none;\n",
              "      border-radius: 50%;\n",
              "      cursor: pointer;\n",
              "      display: none;\n",
              "      fill: #1967D2;\n",
              "      height: 32px;\n",
              "      padding: 0 0 0 0;\n",
              "      width: 32px;\n",
              "    }\n",
              "\n",
              "    .colab-df-convert:hover {\n",
              "      background-color: #E2EBFA;\n",
              "      box-shadow: 0px 1px 2px rgba(60, 64, 67, 0.3), 0px 1px 3px 1px rgba(60, 64, 67, 0.15);\n",
              "      fill: #174EA6;\n",
              "    }\n",
              "\n",
              "    [theme=dark] .colab-df-convert {\n",
              "      background-color: #3B4455;\n",
              "      fill: #D2E3FC;\n",
              "    }\n",
              "\n",
              "    [theme=dark] .colab-df-convert:hover {\n",
              "      background-color: #434B5C;\n",
              "      box-shadow: 0px 1px 3px 1px rgba(0, 0, 0, 0.15);\n",
              "      filter: drop-shadow(0px 1px 2px rgba(0, 0, 0, 0.3));\n",
              "      fill: #FFFFFF;\n",
              "    }\n",
              "  </style>\n",
              "\n",
              "      <script>\n",
              "        const buttonEl =\n",
              "          document.querySelector('#df-61da110a-f2a9-4505-9c5e-9a197a33c2db button.colab-df-convert');\n",
              "        buttonEl.style.display =\n",
              "          google.colab.kernel.accessAllowed ? 'block' : 'none';\n",
              "\n",
              "        async function convertToInteractive(key) {\n",
              "          const element = document.querySelector('#df-61da110a-f2a9-4505-9c5e-9a197a33c2db');\n",
              "          const dataTable =\n",
              "            await google.colab.kernel.invokeFunction('convertToInteractive',\n",
              "                                                     [key], {});\n",
              "          if (!dataTable) return;\n",
              "\n",
              "          const docLinkHtml = 'Like what you see? Visit the ' +\n",
              "            '<a target=\"_blank\" href=https://colab.research.google.com/notebooks/data_table.ipynb>data table notebook</a>'\n",
              "            + ' to learn more about interactive tables.';\n",
              "          element.innerHTML = '';\n",
              "          dataTable['output_type'] = 'display_data';\n",
              "          await google.colab.output.renderOutput(dataTable, element);\n",
              "          const docLink = document.createElement('div');\n",
              "          docLink.innerHTML = docLinkHtml;\n",
              "          element.appendChild(docLink);\n",
              "        }\n",
              "      </script>\n",
              "    </div>\n",
              "  </div>\n",
              "  "
            ]
          },
          "metadata": {},
          "execution_count": 21
        }
      ]
    },
    {
      "cell_type": "code",
      "source": [
        "dt.loc[(dt['sum_injur']==0) & (dt['sum_dead']==0), 'result'] = 'No Injuries and Death'\n",
        "dt.loc[(dt['sum_injur']!=0) & (dt['sum_dead']!=0), 'result'] = 'Have Injuries and Death'\n",
        "dt.loc[(dt['sum_injur']!=0) & (dt['sum_dead']==0), 'result'] = 'Have Injuries'\n",
        "dt.loc[(dt['sum_injur']==0) & (dt['sum_dead']!=0), 'result'] = 'Have Death'\n",
        "dt.sample(10)"
      ],
      "metadata": {
        "colab": {
          "base_uri": "https://localhost:8080/",
          "height": 571
        },
        "id": "RPhF9tKdW4am",
        "outputId": "7479c507-ae73-44ed-edf1-3ecf8d8c4dce"
      },
      "execution_count": null,
      "outputs": [
        {
          "output_type": "stream",
          "name": "stderr",
          "text": [
            "/usr/local/lib/python3.7/dist-packages/pandas/core/indexing.py:1684: SettingWithCopyWarning: \n",
            "A value is trying to be set on a copy of a slice from a DataFrame.\n",
            "Try using .loc[row_indexer,col_indexer] = value instead\n",
            "\n",
            "See the caveats in the documentation: https://pandas.pydata.org/pandas-docs/stable/user_guide/indexing.html#returning-a-view-versus-a-copy\n",
            "  self.obj[key] = infer_fill_value(value)\n",
            "/usr/local/lib/python3.7/dist-packages/pandas/core/indexing.py:1817: SettingWithCopyWarning: \n",
            "A value is trying to be set on a copy of a slice from a DataFrame.\n",
            "Try using .loc[row_indexer,col_indexer] = value instead\n",
            "\n",
            "See the caveats in the documentation: https://pandas.pydata.org/pandas-docs/stable/user_guide/indexing.html#returning-a-view-versus-a-copy\n",
            "  self._setitem_single_column(loc, value, pi)\n"
          ]
        },
        {
          "output_type": "execute_result",
          "data": {
            "text/plain": [
              "     sum_injur  sum_dead                 result\n",
              "202          0         0  No Injuries and Death\n",
              "55           0         0  No Injuries and Death\n",
              "218          2         0          Have Injuries\n",
              "125          0         0  No Injuries and Death\n",
              "60           0         0  No Injuries and Death\n",
              "117          1         0          Have Injuries\n",
              "157          1         0          Have Injuries\n",
              "263          0         0  No Injuries and Death\n",
              "268          1         0          Have Injuries\n",
              "82           0         0  No Injuries and Death"
            ],
            "text/html": [
              "\n",
              "  <div id=\"df-7e030e9a-5d5a-4d7b-af00-b5530ff14601\">\n",
              "    <div class=\"colab-df-container\">\n",
              "      <div>\n",
              "<style scoped>\n",
              "    .dataframe tbody tr th:only-of-type {\n",
              "        vertical-align: middle;\n",
              "    }\n",
              "\n",
              "    .dataframe tbody tr th {\n",
              "        vertical-align: top;\n",
              "    }\n",
              "\n",
              "    .dataframe thead th {\n",
              "        text-align: right;\n",
              "    }\n",
              "</style>\n",
              "<table border=\"1\" class=\"dataframe\">\n",
              "  <thead>\n",
              "    <tr style=\"text-align: right;\">\n",
              "      <th></th>\n",
              "      <th>sum_injur</th>\n",
              "      <th>sum_dead</th>\n",
              "      <th>result</th>\n",
              "    </tr>\n",
              "  </thead>\n",
              "  <tbody>\n",
              "    <tr>\n",
              "      <th>202</th>\n",
              "      <td>0</td>\n",
              "      <td>0</td>\n",
              "      <td>No Injuries and Death</td>\n",
              "    </tr>\n",
              "    <tr>\n",
              "      <th>55</th>\n",
              "      <td>0</td>\n",
              "      <td>0</td>\n",
              "      <td>No Injuries and Death</td>\n",
              "    </tr>\n",
              "    <tr>\n",
              "      <th>218</th>\n",
              "      <td>2</td>\n",
              "      <td>0</td>\n",
              "      <td>Have Injuries</td>\n",
              "    </tr>\n",
              "    <tr>\n",
              "      <th>125</th>\n",
              "      <td>0</td>\n",
              "      <td>0</td>\n",
              "      <td>No Injuries and Death</td>\n",
              "    </tr>\n",
              "    <tr>\n",
              "      <th>60</th>\n",
              "      <td>0</td>\n",
              "      <td>0</td>\n",
              "      <td>No Injuries and Death</td>\n",
              "    </tr>\n",
              "    <tr>\n",
              "      <th>117</th>\n",
              "      <td>1</td>\n",
              "      <td>0</td>\n",
              "      <td>Have Injuries</td>\n",
              "    </tr>\n",
              "    <tr>\n",
              "      <th>157</th>\n",
              "      <td>1</td>\n",
              "      <td>0</td>\n",
              "      <td>Have Injuries</td>\n",
              "    </tr>\n",
              "    <tr>\n",
              "      <th>263</th>\n",
              "      <td>0</td>\n",
              "      <td>0</td>\n",
              "      <td>No Injuries and Death</td>\n",
              "    </tr>\n",
              "    <tr>\n",
              "      <th>268</th>\n",
              "      <td>1</td>\n",
              "      <td>0</td>\n",
              "      <td>Have Injuries</td>\n",
              "    </tr>\n",
              "    <tr>\n",
              "      <th>82</th>\n",
              "      <td>0</td>\n",
              "      <td>0</td>\n",
              "      <td>No Injuries and Death</td>\n",
              "    </tr>\n",
              "  </tbody>\n",
              "</table>\n",
              "</div>\n",
              "      <button class=\"colab-df-convert\" onclick=\"convertToInteractive('df-7e030e9a-5d5a-4d7b-af00-b5530ff14601')\"\n",
              "              title=\"Convert this dataframe to an interactive table.\"\n",
              "              style=\"display:none;\">\n",
              "        \n",
              "  <svg xmlns=\"http://www.w3.org/2000/svg\" height=\"24px\"viewBox=\"0 0 24 24\"\n",
              "       width=\"24px\">\n",
              "    <path d=\"M0 0h24v24H0V0z\" fill=\"none\"/>\n",
              "    <path d=\"M18.56 5.44l.94 2.06.94-2.06 2.06-.94-2.06-.94-.94-2.06-.94 2.06-2.06.94zm-11 1L8.5 8.5l.94-2.06 2.06-.94-2.06-.94L8.5 2.5l-.94 2.06-2.06.94zm10 10l.94 2.06.94-2.06 2.06-.94-2.06-.94-.94-2.06-.94 2.06-2.06.94z\"/><path d=\"M17.41 7.96l-1.37-1.37c-.4-.4-.92-.59-1.43-.59-.52 0-1.04.2-1.43.59L10.3 9.45l-7.72 7.72c-.78.78-.78 2.05 0 2.83L4 21.41c.39.39.9.59 1.41.59.51 0 1.02-.2 1.41-.59l7.78-7.78 2.81-2.81c.8-.78.8-2.07 0-2.86zM5.41 20L4 18.59l7.72-7.72 1.47 1.35L5.41 20z\"/>\n",
              "  </svg>\n",
              "      </button>\n",
              "      \n",
              "  <style>\n",
              "    .colab-df-container {\n",
              "      display:flex;\n",
              "      flex-wrap:wrap;\n",
              "      gap: 12px;\n",
              "    }\n",
              "\n",
              "    .colab-df-convert {\n",
              "      background-color: #E8F0FE;\n",
              "      border: none;\n",
              "      border-radius: 50%;\n",
              "      cursor: pointer;\n",
              "      display: none;\n",
              "      fill: #1967D2;\n",
              "      height: 32px;\n",
              "      padding: 0 0 0 0;\n",
              "      width: 32px;\n",
              "    }\n",
              "\n",
              "    .colab-df-convert:hover {\n",
              "      background-color: #E2EBFA;\n",
              "      box-shadow: 0px 1px 2px rgba(60, 64, 67, 0.3), 0px 1px 3px 1px rgba(60, 64, 67, 0.15);\n",
              "      fill: #174EA6;\n",
              "    }\n",
              "\n",
              "    [theme=dark] .colab-df-convert {\n",
              "      background-color: #3B4455;\n",
              "      fill: #D2E3FC;\n",
              "    }\n",
              "\n",
              "    [theme=dark] .colab-df-convert:hover {\n",
              "      background-color: #434B5C;\n",
              "      box-shadow: 0px 1px 3px 1px rgba(0, 0, 0, 0.15);\n",
              "      filter: drop-shadow(0px 1px 2px rgba(0, 0, 0, 0.3));\n",
              "      fill: #FFFFFF;\n",
              "    }\n",
              "  </style>\n",
              "\n",
              "      <script>\n",
              "        const buttonEl =\n",
              "          document.querySelector('#df-7e030e9a-5d5a-4d7b-af00-b5530ff14601 button.colab-df-convert');\n",
              "        buttonEl.style.display =\n",
              "          google.colab.kernel.accessAllowed ? 'block' : 'none';\n",
              "\n",
              "        async function convertToInteractive(key) {\n",
              "          const element = document.querySelector('#df-7e030e9a-5d5a-4d7b-af00-b5530ff14601');\n",
              "          const dataTable =\n",
              "            await google.colab.kernel.invokeFunction('convertToInteractive',\n",
              "                                                     [key], {});\n",
              "          if (!dataTable) return;\n",
              "\n",
              "          const docLinkHtml = 'Like what you see? Visit the ' +\n",
              "            '<a target=\"_blank\" href=https://colab.research.google.com/notebooks/data_table.ipynb>data table notebook</a>'\n",
              "            + ' to learn more about interactive tables.';\n",
              "          element.innerHTML = '';\n",
              "          dataTable['output_type'] = 'display_data';\n",
              "          await google.colab.output.renderOutput(dataTable, element);\n",
              "          const docLink = document.createElement('div');\n",
              "          docLink.innerHTML = docLinkHtml;\n",
              "          element.appendChild(docLink);\n",
              "        }\n",
              "      </script>\n",
              "    </div>\n",
              "  </div>\n",
              "  "
            ]
          },
          "metadata": {},
          "execution_count": 22
        }
      ]
    },
    {
      "cell_type": "code",
      "source": [
        "print(dt['result'].unique())"
      ],
      "metadata": {
        "colab": {
          "base_uri": "https://localhost:8080/"
        },
        "id": "7K1q_lkBifca",
        "outputId": "d3142783-24c1-4f81-a8d6-125d5850b206"
      },
      "execution_count": null,
      "outputs": [
        {
          "output_type": "stream",
          "name": "stdout",
          "text": [
            "['No Injuries and Death' 'Have Death' 'Have Injuries'\n",
            " 'Have Injuries and Death']\n"
          ]
        }
      ]
    },
    {
      "cell_type": "code",
      "source": [
        "df=pd.concat([df,dt['result']], axis=1)\n",
        "df.head()"
      ],
      "metadata": {
        "colab": {
          "base_uri": "https://localhost:8080/",
          "height": 206
        },
        "id": "EYw_p_EPYfvp",
        "outputId": "90a4870f-0918-422b-835e-9ecf97a8f3e3"
      },
      "execution_count": null,
      "outputs": [
        {
          "output_type": "execute_result",
          "data": {
            "text/plain": [
              "  accident_date accident_time                 step weather_state  injur_man  \\\n",
              "0    2022-02-28      16:50:50  ศรีรัช-วงแหวนรอบนอก          ปกติ          0   \n",
              "1    2022-02-26      23:34:34              ฉลองรัช          ปกติ          0   \n",
              "2    2022-02-25      09:31:31               ศรีรัช          ปกติ          0   \n",
              "3    2022-02-25      21:55:55               ศรีรัช          ปกติ          0   \n",
              "4    2022-02-25      00:38:38              ฉลองรัช          ปกติ          0   \n",
              "\n",
              "   injur_female  dead_man  dead_female               cause_type  sum_injur  \\\n",
              "0             0         0            0           ขับรถโดยประมาท          0   \n",
              "1             0         0            0           ขับรถโดยประมาท          0   \n",
              "2             0         0            0       เครื่องยนต์ขัดข้อง          0   \n",
              "3             0         0            0  เปลี่ยนช่องทางกระทันหัน          0   \n",
              "4             0         0            0           ขับรถโดยประมาท          0   \n",
              "\n",
              "   sum_dead                 result  \n",
              "0         0  No Injuries and Death  \n",
              "1         0  No Injuries and Death  \n",
              "2         0  No Injuries and Death  \n",
              "3         0  No Injuries and Death  \n",
              "4         0  No Injuries and Death  "
            ],
            "text/html": [
              "\n",
              "  <div id=\"df-444b62e9-717a-4422-bc36-6afebd4a49a6\">\n",
              "    <div class=\"colab-df-container\">\n",
              "      <div>\n",
              "<style scoped>\n",
              "    .dataframe tbody tr th:only-of-type {\n",
              "        vertical-align: middle;\n",
              "    }\n",
              "\n",
              "    .dataframe tbody tr th {\n",
              "        vertical-align: top;\n",
              "    }\n",
              "\n",
              "    .dataframe thead th {\n",
              "        text-align: right;\n",
              "    }\n",
              "</style>\n",
              "<table border=\"1\" class=\"dataframe\">\n",
              "  <thead>\n",
              "    <tr style=\"text-align: right;\">\n",
              "      <th></th>\n",
              "      <th>accident_date</th>\n",
              "      <th>accident_time</th>\n",
              "      <th>step</th>\n",
              "      <th>weather_state</th>\n",
              "      <th>injur_man</th>\n",
              "      <th>injur_female</th>\n",
              "      <th>dead_man</th>\n",
              "      <th>dead_female</th>\n",
              "      <th>cause_type</th>\n",
              "      <th>sum_injur</th>\n",
              "      <th>sum_dead</th>\n",
              "      <th>result</th>\n",
              "    </tr>\n",
              "  </thead>\n",
              "  <tbody>\n",
              "    <tr>\n",
              "      <th>0</th>\n",
              "      <td>2022-02-28</td>\n",
              "      <td>16:50:50</td>\n",
              "      <td>ศรีรัช-วงแหวนรอบนอก</td>\n",
              "      <td>ปกติ</td>\n",
              "      <td>0</td>\n",
              "      <td>0</td>\n",
              "      <td>0</td>\n",
              "      <td>0</td>\n",
              "      <td>ขับรถโดยประมาท</td>\n",
              "      <td>0</td>\n",
              "      <td>0</td>\n",
              "      <td>No Injuries and Death</td>\n",
              "    </tr>\n",
              "    <tr>\n",
              "      <th>1</th>\n",
              "      <td>2022-02-26</td>\n",
              "      <td>23:34:34</td>\n",
              "      <td>ฉลองรัช</td>\n",
              "      <td>ปกติ</td>\n",
              "      <td>0</td>\n",
              "      <td>0</td>\n",
              "      <td>0</td>\n",
              "      <td>0</td>\n",
              "      <td>ขับรถโดยประมาท</td>\n",
              "      <td>0</td>\n",
              "      <td>0</td>\n",
              "      <td>No Injuries and Death</td>\n",
              "    </tr>\n",
              "    <tr>\n",
              "      <th>2</th>\n",
              "      <td>2022-02-25</td>\n",
              "      <td>09:31:31</td>\n",
              "      <td>ศรีรัช</td>\n",
              "      <td>ปกติ</td>\n",
              "      <td>0</td>\n",
              "      <td>0</td>\n",
              "      <td>0</td>\n",
              "      <td>0</td>\n",
              "      <td>เครื่องยนต์ขัดข้อง</td>\n",
              "      <td>0</td>\n",
              "      <td>0</td>\n",
              "      <td>No Injuries and Death</td>\n",
              "    </tr>\n",
              "    <tr>\n",
              "      <th>3</th>\n",
              "      <td>2022-02-25</td>\n",
              "      <td>21:55:55</td>\n",
              "      <td>ศรีรัช</td>\n",
              "      <td>ปกติ</td>\n",
              "      <td>0</td>\n",
              "      <td>0</td>\n",
              "      <td>0</td>\n",
              "      <td>0</td>\n",
              "      <td>เปลี่ยนช่องทางกระทันหัน</td>\n",
              "      <td>0</td>\n",
              "      <td>0</td>\n",
              "      <td>No Injuries and Death</td>\n",
              "    </tr>\n",
              "    <tr>\n",
              "      <th>4</th>\n",
              "      <td>2022-02-25</td>\n",
              "      <td>00:38:38</td>\n",
              "      <td>ฉลองรัช</td>\n",
              "      <td>ปกติ</td>\n",
              "      <td>0</td>\n",
              "      <td>0</td>\n",
              "      <td>0</td>\n",
              "      <td>0</td>\n",
              "      <td>ขับรถโดยประมาท</td>\n",
              "      <td>0</td>\n",
              "      <td>0</td>\n",
              "      <td>No Injuries and Death</td>\n",
              "    </tr>\n",
              "  </tbody>\n",
              "</table>\n",
              "</div>\n",
              "      <button class=\"colab-df-convert\" onclick=\"convertToInteractive('df-444b62e9-717a-4422-bc36-6afebd4a49a6')\"\n",
              "              title=\"Convert this dataframe to an interactive table.\"\n",
              "              style=\"display:none;\">\n",
              "        \n",
              "  <svg xmlns=\"http://www.w3.org/2000/svg\" height=\"24px\"viewBox=\"0 0 24 24\"\n",
              "       width=\"24px\">\n",
              "    <path d=\"M0 0h24v24H0V0z\" fill=\"none\"/>\n",
              "    <path d=\"M18.56 5.44l.94 2.06.94-2.06 2.06-.94-2.06-.94-.94-2.06-.94 2.06-2.06.94zm-11 1L8.5 8.5l.94-2.06 2.06-.94-2.06-.94L8.5 2.5l-.94 2.06-2.06.94zm10 10l.94 2.06.94-2.06 2.06-.94-2.06-.94-.94-2.06-.94 2.06-2.06.94z\"/><path d=\"M17.41 7.96l-1.37-1.37c-.4-.4-.92-.59-1.43-.59-.52 0-1.04.2-1.43.59L10.3 9.45l-7.72 7.72c-.78.78-.78 2.05 0 2.83L4 21.41c.39.39.9.59 1.41.59.51 0 1.02-.2 1.41-.59l7.78-7.78 2.81-2.81c.8-.78.8-2.07 0-2.86zM5.41 20L4 18.59l7.72-7.72 1.47 1.35L5.41 20z\"/>\n",
              "  </svg>\n",
              "      </button>\n",
              "      \n",
              "  <style>\n",
              "    .colab-df-container {\n",
              "      display:flex;\n",
              "      flex-wrap:wrap;\n",
              "      gap: 12px;\n",
              "    }\n",
              "\n",
              "    .colab-df-convert {\n",
              "      background-color: #E8F0FE;\n",
              "      border: none;\n",
              "      border-radius: 50%;\n",
              "      cursor: pointer;\n",
              "      display: none;\n",
              "      fill: #1967D2;\n",
              "      height: 32px;\n",
              "      padding: 0 0 0 0;\n",
              "      width: 32px;\n",
              "    }\n",
              "\n",
              "    .colab-df-convert:hover {\n",
              "      background-color: #E2EBFA;\n",
              "      box-shadow: 0px 1px 2px rgba(60, 64, 67, 0.3), 0px 1px 3px 1px rgba(60, 64, 67, 0.15);\n",
              "      fill: #174EA6;\n",
              "    }\n",
              "\n",
              "    [theme=dark] .colab-df-convert {\n",
              "      background-color: #3B4455;\n",
              "      fill: #D2E3FC;\n",
              "    }\n",
              "\n",
              "    [theme=dark] .colab-df-convert:hover {\n",
              "      background-color: #434B5C;\n",
              "      box-shadow: 0px 1px 3px 1px rgba(0, 0, 0, 0.15);\n",
              "      filter: drop-shadow(0px 1px 2px rgba(0, 0, 0, 0.3));\n",
              "      fill: #FFFFFF;\n",
              "    }\n",
              "  </style>\n",
              "\n",
              "      <script>\n",
              "        const buttonEl =\n",
              "          document.querySelector('#df-444b62e9-717a-4422-bc36-6afebd4a49a6 button.colab-df-convert');\n",
              "        buttonEl.style.display =\n",
              "          google.colab.kernel.accessAllowed ? 'block' : 'none';\n",
              "\n",
              "        async function convertToInteractive(key) {\n",
              "          const element = document.querySelector('#df-444b62e9-717a-4422-bc36-6afebd4a49a6');\n",
              "          const dataTable =\n",
              "            await google.colab.kernel.invokeFunction('convertToInteractive',\n",
              "                                                     [key], {});\n",
              "          if (!dataTable) return;\n",
              "\n",
              "          const docLinkHtml = 'Like what you see? Visit the ' +\n",
              "            '<a target=\"_blank\" href=https://colab.research.google.com/notebooks/data_table.ipynb>data table notebook</a>'\n",
              "            + ' to learn more about interactive tables.';\n",
              "          element.innerHTML = '';\n",
              "          dataTable['output_type'] = 'display_data';\n",
              "          await google.colab.output.renderOutput(dataTable, element);\n",
              "          const docLink = document.createElement('div');\n",
              "          docLink.innerHTML = docLinkHtml;\n",
              "          element.appendChild(docLink);\n",
              "        }\n",
              "      </script>\n",
              "    </div>\n",
              "  </div>\n",
              "  "
            ]
          },
          "metadata": {},
          "execution_count": 24
        }
      ]
    },
    {
      "cell_type": "code",
      "source": [
        "df[\"day\"] =df['accident_date'].map(lambda x: x.day)\n",
        "df[\"month\"] =df['accident_date'].map(lambda x: x.month)\n",
        "df[\"year\"] =df['accident_date'].map(lambda x: x.year)\n",
        "df.head()"
      ],
      "metadata": {
        "colab": {
          "base_uri": "https://localhost:8080/",
          "height": 206
        },
        "id": "ZifLC8AL_iwD",
        "outputId": "7b7b3450-827d-46e8-f538-42bd10e0e9a4"
      },
      "execution_count": null,
      "outputs": [
        {
          "output_type": "execute_result",
          "data": {
            "text/plain": [
              "  accident_date accident_time                 step weather_state  injur_man  \\\n",
              "0    2022-02-28      16:50:50  ศรีรัช-วงแหวนรอบนอก          ปกติ          0   \n",
              "1    2022-02-26      23:34:34              ฉลองรัช          ปกติ          0   \n",
              "2    2022-02-25      09:31:31               ศรีรัช          ปกติ          0   \n",
              "3    2022-02-25      21:55:55               ศรีรัช          ปกติ          0   \n",
              "4    2022-02-25      00:38:38              ฉลองรัช          ปกติ          0   \n",
              "\n",
              "   injur_female  dead_man  dead_female               cause_type  sum_injur  \\\n",
              "0             0         0            0           ขับรถโดยประมาท          0   \n",
              "1             0         0            0           ขับรถโดยประมาท          0   \n",
              "2             0         0            0       เครื่องยนต์ขัดข้อง          0   \n",
              "3             0         0            0  เปลี่ยนช่องทางกระทันหัน          0   \n",
              "4             0         0            0           ขับรถโดยประมาท          0   \n",
              "\n",
              "   sum_dead                 result  day  month  year  \n",
              "0         0  No Injuries and Death   28      2  2022  \n",
              "1         0  No Injuries and Death   26      2  2022  \n",
              "2         0  No Injuries and Death   25      2  2022  \n",
              "3         0  No Injuries and Death   25      2  2022  \n",
              "4         0  No Injuries and Death   25      2  2022  "
            ],
            "text/html": [
              "\n",
              "  <div id=\"df-25ab88f6-191d-4293-90fd-8088c5d5cdc7\">\n",
              "    <div class=\"colab-df-container\">\n",
              "      <div>\n",
              "<style scoped>\n",
              "    .dataframe tbody tr th:only-of-type {\n",
              "        vertical-align: middle;\n",
              "    }\n",
              "\n",
              "    .dataframe tbody tr th {\n",
              "        vertical-align: top;\n",
              "    }\n",
              "\n",
              "    .dataframe thead th {\n",
              "        text-align: right;\n",
              "    }\n",
              "</style>\n",
              "<table border=\"1\" class=\"dataframe\">\n",
              "  <thead>\n",
              "    <tr style=\"text-align: right;\">\n",
              "      <th></th>\n",
              "      <th>accident_date</th>\n",
              "      <th>accident_time</th>\n",
              "      <th>step</th>\n",
              "      <th>weather_state</th>\n",
              "      <th>injur_man</th>\n",
              "      <th>injur_female</th>\n",
              "      <th>dead_man</th>\n",
              "      <th>dead_female</th>\n",
              "      <th>cause_type</th>\n",
              "      <th>sum_injur</th>\n",
              "      <th>sum_dead</th>\n",
              "      <th>result</th>\n",
              "      <th>day</th>\n",
              "      <th>month</th>\n",
              "      <th>year</th>\n",
              "    </tr>\n",
              "  </thead>\n",
              "  <tbody>\n",
              "    <tr>\n",
              "      <th>0</th>\n",
              "      <td>2022-02-28</td>\n",
              "      <td>16:50:50</td>\n",
              "      <td>ศรีรัช-วงแหวนรอบนอก</td>\n",
              "      <td>ปกติ</td>\n",
              "      <td>0</td>\n",
              "      <td>0</td>\n",
              "      <td>0</td>\n",
              "      <td>0</td>\n",
              "      <td>ขับรถโดยประมาท</td>\n",
              "      <td>0</td>\n",
              "      <td>0</td>\n",
              "      <td>No Injuries and Death</td>\n",
              "      <td>28</td>\n",
              "      <td>2</td>\n",
              "      <td>2022</td>\n",
              "    </tr>\n",
              "    <tr>\n",
              "      <th>1</th>\n",
              "      <td>2022-02-26</td>\n",
              "      <td>23:34:34</td>\n",
              "      <td>ฉลองรัช</td>\n",
              "      <td>ปกติ</td>\n",
              "      <td>0</td>\n",
              "      <td>0</td>\n",
              "      <td>0</td>\n",
              "      <td>0</td>\n",
              "      <td>ขับรถโดยประมาท</td>\n",
              "      <td>0</td>\n",
              "      <td>0</td>\n",
              "      <td>No Injuries and Death</td>\n",
              "      <td>26</td>\n",
              "      <td>2</td>\n",
              "      <td>2022</td>\n",
              "    </tr>\n",
              "    <tr>\n",
              "      <th>2</th>\n",
              "      <td>2022-02-25</td>\n",
              "      <td>09:31:31</td>\n",
              "      <td>ศรีรัช</td>\n",
              "      <td>ปกติ</td>\n",
              "      <td>0</td>\n",
              "      <td>0</td>\n",
              "      <td>0</td>\n",
              "      <td>0</td>\n",
              "      <td>เครื่องยนต์ขัดข้อง</td>\n",
              "      <td>0</td>\n",
              "      <td>0</td>\n",
              "      <td>No Injuries and Death</td>\n",
              "      <td>25</td>\n",
              "      <td>2</td>\n",
              "      <td>2022</td>\n",
              "    </tr>\n",
              "    <tr>\n",
              "      <th>3</th>\n",
              "      <td>2022-02-25</td>\n",
              "      <td>21:55:55</td>\n",
              "      <td>ศรีรัช</td>\n",
              "      <td>ปกติ</td>\n",
              "      <td>0</td>\n",
              "      <td>0</td>\n",
              "      <td>0</td>\n",
              "      <td>0</td>\n",
              "      <td>เปลี่ยนช่องทางกระทันหัน</td>\n",
              "      <td>0</td>\n",
              "      <td>0</td>\n",
              "      <td>No Injuries and Death</td>\n",
              "      <td>25</td>\n",
              "      <td>2</td>\n",
              "      <td>2022</td>\n",
              "    </tr>\n",
              "    <tr>\n",
              "      <th>4</th>\n",
              "      <td>2022-02-25</td>\n",
              "      <td>00:38:38</td>\n",
              "      <td>ฉลองรัช</td>\n",
              "      <td>ปกติ</td>\n",
              "      <td>0</td>\n",
              "      <td>0</td>\n",
              "      <td>0</td>\n",
              "      <td>0</td>\n",
              "      <td>ขับรถโดยประมาท</td>\n",
              "      <td>0</td>\n",
              "      <td>0</td>\n",
              "      <td>No Injuries and Death</td>\n",
              "      <td>25</td>\n",
              "      <td>2</td>\n",
              "      <td>2022</td>\n",
              "    </tr>\n",
              "  </tbody>\n",
              "</table>\n",
              "</div>\n",
              "      <button class=\"colab-df-convert\" onclick=\"convertToInteractive('df-25ab88f6-191d-4293-90fd-8088c5d5cdc7')\"\n",
              "              title=\"Convert this dataframe to an interactive table.\"\n",
              "              style=\"display:none;\">\n",
              "        \n",
              "  <svg xmlns=\"http://www.w3.org/2000/svg\" height=\"24px\"viewBox=\"0 0 24 24\"\n",
              "       width=\"24px\">\n",
              "    <path d=\"M0 0h24v24H0V0z\" fill=\"none\"/>\n",
              "    <path d=\"M18.56 5.44l.94 2.06.94-2.06 2.06-.94-2.06-.94-.94-2.06-.94 2.06-2.06.94zm-11 1L8.5 8.5l.94-2.06 2.06-.94-2.06-.94L8.5 2.5l-.94 2.06-2.06.94zm10 10l.94 2.06.94-2.06 2.06-.94-2.06-.94-.94-2.06-.94 2.06-2.06.94z\"/><path d=\"M17.41 7.96l-1.37-1.37c-.4-.4-.92-.59-1.43-.59-.52 0-1.04.2-1.43.59L10.3 9.45l-7.72 7.72c-.78.78-.78 2.05 0 2.83L4 21.41c.39.39.9.59 1.41.59.51 0 1.02-.2 1.41-.59l7.78-7.78 2.81-2.81c.8-.78.8-2.07 0-2.86zM5.41 20L4 18.59l7.72-7.72 1.47 1.35L5.41 20z\"/>\n",
              "  </svg>\n",
              "      </button>\n",
              "      \n",
              "  <style>\n",
              "    .colab-df-container {\n",
              "      display:flex;\n",
              "      flex-wrap:wrap;\n",
              "      gap: 12px;\n",
              "    }\n",
              "\n",
              "    .colab-df-convert {\n",
              "      background-color: #E8F0FE;\n",
              "      border: none;\n",
              "      border-radius: 50%;\n",
              "      cursor: pointer;\n",
              "      display: none;\n",
              "      fill: #1967D2;\n",
              "      height: 32px;\n",
              "      padding: 0 0 0 0;\n",
              "      width: 32px;\n",
              "    }\n",
              "\n",
              "    .colab-df-convert:hover {\n",
              "      background-color: #E2EBFA;\n",
              "      box-shadow: 0px 1px 2px rgba(60, 64, 67, 0.3), 0px 1px 3px 1px rgba(60, 64, 67, 0.15);\n",
              "      fill: #174EA6;\n",
              "    }\n",
              "\n",
              "    [theme=dark] .colab-df-convert {\n",
              "      background-color: #3B4455;\n",
              "      fill: #D2E3FC;\n",
              "    }\n",
              "\n",
              "    [theme=dark] .colab-df-convert:hover {\n",
              "      background-color: #434B5C;\n",
              "      box-shadow: 0px 1px 3px 1px rgba(0, 0, 0, 0.15);\n",
              "      filter: drop-shadow(0px 1px 2px rgba(0, 0, 0, 0.3));\n",
              "      fill: #FFFFFF;\n",
              "    }\n",
              "  </style>\n",
              "\n",
              "      <script>\n",
              "        const buttonEl =\n",
              "          document.querySelector('#df-25ab88f6-191d-4293-90fd-8088c5d5cdc7 button.colab-df-convert');\n",
              "        buttonEl.style.display =\n",
              "          google.colab.kernel.accessAllowed ? 'block' : 'none';\n",
              "\n",
              "        async function convertToInteractive(key) {\n",
              "          const element = document.querySelector('#df-25ab88f6-191d-4293-90fd-8088c5d5cdc7');\n",
              "          const dataTable =\n",
              "            await google.colab.kernel.invokeFunction('convertToInteractive',\n",
              "                                                     [key], {});\n",
              "          if (!dataTable) return;\n",
              "\n",
              "          const docLinkHtml = 'Like what you see? Visit the ' +\n",
              "            '<a target=\"_blank\" href=https://colab.research.google.com/notebooks/data_table.ipynb>data table notebook</a>'\n",
              "            + ' to learn more about interactive tables.';\n",
              "          element.innerHTML = '';\n",
              "          dataTable['output_type'] = 'display_data';\n",
              "          await google.colab.output.renderOutput(dataTable, element);\n",
              "          const docLink = document.createElement('div');\n",
              "          docLink.innerHTML = docLinkHtml;\n",
              "          element.appendChild(docLink);\n",
              "        }\n",
              "      </script>\n",
              "    </div>\n",
              "  </div>\n",
              "  "
            ]
          },
          "metadata": {},
          "execution_count": 25
        }
      ]
    },
    {
      "cell_type": "code",
      "source": [
        "df[\"accident_time\"] =pd.to_datetime(df['accident_time'], format='%H:%M:%S')\n",
        "df[\"hours\"] =df['accident_time'].dt.hour\n",
        "df[\"accident_time\"]=df[\"accident_time\"].dt.time\n",
        "df.head()"
      ],
      "metadata": {
        "colab": {
          "base_uri": "https://localhost:8080/",
          "height": 250
        },
        "id": "BUudnNId_mgT",
        "outputId": "d5b7cea9-c76b-49da-d1cc-7de118bc339b"
      },
      "execution_count": null,
      "outputs": [
        {
          "output_type": "execute_result",
          "data": {
            "text/plain": [
              "  accident_date accident_time                 step weather_state  injur_man  \\\n",
              "0    2022-02-28      16:50:50  ศรีรัช-วงแหวนรอบนอก          ปกติ          0   \n",
              "1    2022-02-26      23:34:34              ฉลองรัช          ปกติ          0   \n",
              "2    2022-02-25      09:31:31               ศรีรัช          ปกติ          0   \n",
              "3    2022-02-25      21:55:55               ศรีรัช          ปกติ          0   \n",
              "4    2022-02-25      00:38:38              ฉลองรัช          ปกติ          0   \n",
              "\n",
              "   injur_female  dead_man  dead_female               cause_type  sum_injur  \\\n",
              "0             0         0            0           ขับรถโดยประมาท          0   \n",
              "1             0         0            0           ขับรถโดยประมาท          0   \n",
              "2             0         0            0       เครื่องยนต์ขัดข้อง          0   \n",
              "3             0         0            0  เปลี่ยนช่องทางกระทันหัน          0   \n",
              "4             0         0            0           ขับรถโดยประมาท          0   \n",
              "\n",
              "   sum_dead                 result  day  month  year  hours  \n",
              "0         0  No Injuries and Death   28      2  2022     16  \n",
              "1         0  No Injuries and Death   26      2  2022     23  \n",
              "2         0  No Injuries and Death   25      2  2022      9  \n",
              "3         0  No Injuries and Death   25      2  2022     21  \n",
              "4         0  No Injuries and Death   25      2  2022      0  "
            ],
            "text/html": [
              "\n",
              "  <div id=\"df-a35f5ab4-0434-45d7-bc69-b5d3e96d43f4\">\n",
              "    <div class=\"colab-df-container\">\n",
              "      <div>\n",
              "<style scoped>\n",
              "    .dataframe tbody tr th:only-of-type {\n",
              "        vertical-align: middle;\n",
              "    }\n",
              "\n",
              "    .dataframe tbody tr th {\n",
              "        vertical-align: top;\n",
              "    }\n",
              "\n",
              "    .dataframe thead th {\n",
              "        text-align: right;\n",
              "    }\n",
              "</style>\n",
              "<table border=\"1\" class=\"dataframe\">\n",
              "  <thead>\n",
              "    <tr style=\"text-align: right;\">\n",
              "      <th></th>\n",
              "      <th>accident_date</th>\n",
              "      <th>accident_time</th>\n",
              "      <th>step</th>\n",
              "      <th>weather_state</th>\n",
              "      <th>injur_man</th>\n",
              "      <th>injur_female</th>\n",
              "      <th>dead_man</th>\n",
              "      <th>dead_female</th>\n",
              "      <th>cause_type</th>\n",
              "      <th>sum_injur</th>\n",
              "      <th>sum_dead</th>\n",
              "      <th>result</th>\n",
              "      <th>day</th>\n",
              "      <th>month</th>\n",
              "      <th>year</th>\n",
              "      <th>hours</th>\n",
              "    </tr>\n",
              "  </thead>\n",
              "  <tbody>\n",
              "    <tr>\n",
              "      <th>0</th>\n",
              "      <td>2022-02-28</td>\n",
              "      <td>16:50:50</td>\n",
              "      <td>ศรีรัช-วงแหวนรอบนอก</td>\n",
              "      <td>ปกติ</td>\n",
              "      <td>0</td>\n",
              "      <td>0</td>\n",
              "      <td>0</td>\n",
              "      <td>0</td>\n",
              "      <td>ขับรถโดยประมาท</td>\n",
              "      <td>0</td>\n",
              "      <td>0</td>\n",
              "      <td>No Injuries and Death</td>\n",
              "      <td>28</td>\n",
              "      <td>2</td>\n",
              "      <td>2022</td>\n",
              "      <td>16</td>\n",
              "    </tr>\n",
              "    <tr>\n",
              "      <th>1</th>\n",
              "      <td>2022-02-26</td>\n",
              "      <td>23:34:34</td>\n",
              "      <td>ฉลองรัช</td>\n",
              "      <td>ปกติ</td>\n",
              "      <td>0</td>\n",
              "      <td>0</td>\n",
              "      <td>0</td>\n",
              "      <td>0</td>\n",
              "      <td>ขับรถโดยประมาท</td>\n",
              "      <td>0</td>\n",
              "      <td>0</td>\n",
              "      <td>No Injuries and Death</td>\n",
              "      <td>26</td>\n",
              "      <td>2</td>\n",
              "      <td>2022</td>\n",
              "      <td>23</td>\n",
              "    </tr>\n",
              "    <tr>\n",
              "      <th>2</th>\n",
              "      <td>2022-02-25</td>\n",
              "      <td>09:31:31</td>\n",
              "      <td>ศรีรัช</td>\n",
              "      <td>ปกติ</td>\n",
              "      <td>0</td>\n",
              "      <td>0</td>\n",
              "      <td>0</td>\n",
              "      <td>0</td>\n",
              "      <td>เครื่องยนต์ขัดข้อง</td>\n",
              "      <td>0</td>\n",
              "      <td>0</td>\n",
              "      <td>No Injuries and Death</td>\n",
              "      <td>25</td>\n",
              "      <td>2</td>\n",
              "      <td>2022</td>\n",
              "      <td>9</td>\n",
              "    </tr>\n",
              "    <tr>\n",
              "      <th>3</th>\n",
              "      <td>2022-02-25</td>\n",
              "      <td>21:55:55</td>\n",
              "      <td>ศรีรัช</td>\n",
              "      <td>ปกติ</td>\n",
              "      <td>0</td>\n",
              "      <td>0</td>\n",
              "      <td>0</td>\n",
              "      <td>0</td>\n",
              "      <td>เปลี่ยนช่องทางกระทันหัน</td>\n",
              "      <td>0</td>\n",
              "      <td>0</td>\n",
              "      <td>No Injuries and Death</td>\n",
              "      <td>25</td>\n",
              "      <td>2</td>\n",
              "      <td>2022</td>\n",
              "      <td>21</td>\n",
              "    </tr>\n",
              "    <tr>\n",
              "      <th>4</th>\n",
              "      <td>2022-02-25</td>\n",
              "      <td>00:38:38</td>\n",
              "      <td>ฉลองรัช</td>\n",
              "      <td>ปกติ</td>\n",
              "      <td>0</td>\n",
              "      <td>0</td>\n",
              "      <td>0</td>\n",
              "      <td>0</td>\n",
              "      <td>ขับรถโดยประมาท</td>\n",
              "      <td>0</td>\n",
              "      <td>0</td>\n",
              "      <td>No Injuries and Death</td>\n",
              "      <td>25</td>\n",
              "      <td>2</td>\n",
              "      <td>2022</td>\n",
              "      <td>0</td>\n",
              "    </tr>\n",
              "  </tbody>\n",
              "</table>\n",
              "</div>\n",
              "      <button class=\"colab-df-convert\" onclick=\"convertToInteractive('df-a35f5ab4-0434-45d7-bc69-b5d3e96d43f4')\"\n",
              "              title=\"Convert this dataframe to an interactive table.\"\n",
              "              style=\"display:none;\">\n",
              "        \n",
              "  <svg xmlns=\"http://www.w3.org/2000/svg\" height=\"24px\"viewBox=\"0 0 24 24\"\n",
              "       width=\"24px\">\n",
              "    <path d=\"M0 0h24v24H0V0z\" fill=\"none\"/>\n",
              "    <path d=\"M18.56 5.44l.94 2.06.94-2.06 2.06-.94-2.06-.94-.94-2.06-.94 2.06-2.06.94zm-11 1L8.5 8.5l.94-2.06 2.06-.94-2.06-.94L8.5 2.5l-.94 2.06-2.06.94zm10 10l.94 2.06.94-2.06 2.06-.94-2.06-.94-.94-2.06-.94 2.06-2.06.94z\"/><path d=\"M17.41 7.96l-1.37-1.37c-.4-.4-.92-.59-1.43-.59-.52 0-1.04.2-1.43.59L10.3 9.45l-7.72 7.72c-.78.78-.78 2.05 0 2.83L4 21.41c.39.39.9.59 1.41.59.51 0 1.02-.2 1.41-.59l7.78-7.78 2.81-2.81c.8-.78.8-2.07 0-2.86zM5.41 20L4 18.59l7.72-7.72 1.47 1.35L5.41 20z\"/>\n",
              "  </svg>\n",
              "      </button>\n",
              "      \n",
              "  <style>\n",
              "    .colab-df-container {\n",
              "      display:flex;\n",
              "      flex-wrap:wrap;\n",
              "      gap: 12px;\n",
              "    }\n",
              "\n",
              "    .colab-df-convert {\n",
              "      background-color: #E8F0FE;\n",
              "      border: none;\n",
              "      border-radius: 50%;\n",
              "      cursor: pointer;\n",
              "      display: none;\n",
              "      fill: #1967D2;\n",
              "      height: 32px;\n",
              "      padding: 0 0 0 0;\n",
              "      width: 32px;\n",
              "    }\n",
              "\n",
              "    .colab-df-convert:hover {\n",
              "      background-color: #E2EBFA;\n",
              "      box-shadow: 0px 1px 2px rgba(60, 64, 67, 0.3), 0px 1px 3px 1px rgba(60, 64, 67, 0.15);\n",
              "      fill: #174EA6;\n",
              "    }\n",
              "\n",
              "    [theme=dark] .colab-df-convert {\n",
              "      background-color: #3B4455;\n",
              "      fill: #D2E3FC;\n",
              "    }\n",
              "\n",
              "    [theme=dark] .colab-df-convert:hover {\n",
              "      background-color: #434B5C;\n",
              "      box-shadow: 0px 1px 3px 1px rgba(0, 0, 0, 0.15);\n",
              "      filter: drop-shadow(0px 1px 2px rgba(0, 0, 0, 0.3));\n",
              "      fill: #FFFFFF;\n",
              "    }\n",
              "  </style>\n",
              "\n",
              "      <script>\n",
              "        const buttonEl =\n",
              "          document.querySelector('#df-a35f5ab4-0434-45d7-bc69-b5d3e96d43f4 button.colab-df-convert');\n",
              "        buttonEl.style.display =\n",
              "          google.colab.kernel.accessAllowed ? 'block' : 'none';\n",
              "\n",
              "        async function convertToInteractive(key) {\n",
              "          const element = document.querySelector('#df-a35f5ab4-0434-45d7-bc69-b5d3e96d43f4');\n",
              "          const dataTable =\n",
              "            await google.colab.kernel.invokeFunction('convertToInteractive',\n",
              "                                                     [key], {});\n",
              "          if (!dataTable) return;\n",
              "\n",
              "          const docLinkHtml = 'Like what you see? Visit the ' +\n",
              "            '<a target=\"_blank\" href=https://colab.research.google.com/notebooks/data_table.ipynb>data table notebook</a>'\n",
              "            + ' to learn more about interactive tables.';\n",
              "          element.innerHTML = '';\n",
              "          dataTable['output_type'] = 'display_data';\n",
              "          await google.colab.output.renderOutput(dataTable, element);\n",
              "          const docLink = document.createElement('div');\n",
              "          docLink.innerHTML = docLinkHtml;\n",
              "          element.appendChild(docLink);\n",
              "        }\n",
              "      </script>\n",
              "    </div>\n",
              "  </div>\n",
              "  "
            ]
          },
          "metadata": {},
          "execution_count": 26
        }
      ]
    },
    {
      "cell_type": "code",
      "source": [
        "for n in range(346):\n",
        "    if df.loc[n,'hours'] <= 5:\n",
        "        df.loc[n,'hours'] = 'Late Night'\n",
        "    elif df.loc[n,'hours'] > 5 and df.loc[n,'hours'] <= 11:\n",
        "        df.loc[n,'hours'] = 'Morning'\n",
        "    elif df.loc[n,'hours'] > 11 and df.loc[n,'hours'] <= 15:\n",
        "        df.loc[n,'hours'] = 'Afternoon'\n",
        "    elif df.loc[n,'hours'] > 15 and df.loc[n,'hours'] <= 19:\n",
        "        df.loc[n,'hours'] = 'Evening'\n",
        "    else:\n",
        "        df.loc[n,'hours'] = 'Night'"
      ],
      "metadata": {
        "id": "KSoEz09r_qX9"
      },
      "execution_count": null,
      "outputs": []
    },
    {
      "cell_type": "code",
      "source": [
        "da = df[['day','month','year','hours']]\n",
        "da.head()"
      ],
      "metadata": {
        "colab": {
          "base_uri": "https://localhost:8080/",
          "height": 206
        },
        "id": "JfkDEnJrAIN8",
        "outputId": "d1c5f1d9-e7c2-48e0-eecf-55115229f765"
      },
      "execution_count": null,
      "outputs": [
        {
          "output_type": "execute_result",
          "data": {
            "text/plain": [
              "   day  month  year       hours\n",
              "0   28      2  2022     Evening\n",
              "1   26      2  2022       Night\n",
              "2   25      2  2022     Morning\n",
              "3   25      2  2022       Night\n",
              "4   25      2  2022  Late Night"
            ],
            "text/html": [
              "\n",
              "  <div id=\"df-565ceb7e-508e-46e3-b7d5-04c2a7a87a1a\">\n",
              "    <div class=\"colab-df-container\">\n",
              "      <div>\n",
              "<style scoped>\n",
              "    .dataframe tbody tr th:only-of-type {\n",
              "        vertical-align: middle;\n",
              "    }\n",
              "\n",
              "    .dataframe tbody tr th {\n",
              "        vertical-align: top;\n",
              "    }\n",
              "\n",
              "    .dataframe thead th {\n",
              "        text-align: right;\n",
              "    }\n",
              "</style>\n",
              "<table border=\"1\" class=\"dataframe\">\n",
              "  <thead>\n",
              "    <tr style=\"text-align: right;\">\n",
              "      <th></th>\n",
              "      <th>day</th>\n",
              "      <th>month</th>\n",
              "      <th>year</th>\n",
              "      <th>hours</th>\n",
              "    </tr>\n",
              "  </thead>\n",
              "  <tbody>\n",
              "    <tr>\n",
              "      <th>0</th>\n",
              "      <td>28</td>\n",
              "      <td>2</td>\n",
              "      <td>2022</td>\n",
              "      <td>Evening</td>\n",
              "    </tr>\n",
              "    <tr>\n",
              "      <th>1</th>\n",
              "      <td>26</td>\n",
              "      <td>2</td>\n",
              "      <td>2022</td>\n",
              "      <td>Night</td>\n",
              "    </tr>\n",
              "    <tr>\n",
              "      <th>2</th>\n",
              "      <td>25</td>\n",
              "      <td>2</td>\n",
              "      <td>2022</td>\n",
              "      <td>Morning</td>\n",
              "    </tr>\n",
              "    <tr>\n",
              "      <th>3</th>\n",
              "      <td>25</td>\n",
              "      <td>2</td>\n",
              "      <td>2022</td>\n",
              "      <td>Night</td>\n",
              "    </tr>\n",
              "    <tr>\n",
              "      <th>4</th>\n",
              "      <td>25</td>\n",
              "      <td>2</td>\n",
              "      <td>2022</td>\n",
              "      <td>Late Night</td>\n",
              "    </tr>\n",
              "  </tbody>\n",
              "</table>\n",
              "</div>\n",
              "      <button class=\"colab-df-convert\" onclick=\"convertToInteractive('df-565ceb7e-508e-46e3-b7d5-04c2a7a87a1a')\"\n",
              "              title=\"Convert this dataframe to an interactive table.\"\n",
              "              style=\"display:none;\">\n",
              "        \n",
              "  <svg xmlns=\"http://www.w3.org/2000/svg\" height=\"24px\"viewBox=\"0 0 24 24\"\n",
              "       width=\"24px\">\n",
              "    <path d=\"M0 0h24v24H0V0z\" fill=\"none\"/>\n",
              "    <path d=\"M18.56 5.44l.94 2.06.94-2.06 2.06-.94-2.06-.94-.94-2.06-.94 2.06-2.06.94zm-11 1L8.5 8.5l.94-2.06 2.06-.94-2.06-.94L8.5 2.5l-.94 2.06-2.06.94zm10 10l.94 2.06.94-2.06 2.06-.94-2.06-.94-.94-2.06-.94 2.06-2.06.94z\"/><path d=\"M17.41 7.96l-1.37-1.37c-.4-.4-.92-.59-1.43-.59-.52 0-1.04.2-1.43.59L10.3 9.45l-7.72 7.72c-.78.78-.78 2.05 0 2.83L4 21.41c.39.39.9.59 1.41.59.51 0 1.02-.2 1.41-.59l7.78-7.78 2.81-2.81c.8-.78.8-2.07 0-2.86zM5.41 20L4 18.59l7.72-7.72 1.47 1.35L5.41 20z\"/>\n",
              "  </svg>\n",
              "      </button>\n",
              "      \n",
              "  <style>\n",
              "    .colab-df-container {\n",
              "      display:flex;\n",
              "      flex-wrap:wrap;\n",
              "      gap: 12px;\n",
              "    }\n",
              "\n",
              "    .colab-df-convert {\n",
              "      background-color: #E8F0FE;\n",
              "      border: none;\n",
              "      border-radius: 50%;\n",
              "      cursor: pointer;\n",
              "      display: none;\n",
              "      fill: #1967D2;\n",
              "      height: 32px;\n",
              "      padding: 0 0 0 0;\n",
              "      width: 32px;\n",
              "    }\n",
              "\n",
              "    .colab-df-convert:hover {\n",
              "      background-color: #E2EBFA;\n",
              "      box-shadow: 0px 1px 2px rgba(60, 64, 67, 0.3), 0px 1px 3px 1px rgba(60, 64, 67, 0.15);\n",
              "      fill: #174EA6;\n",
              "    }\n",
              "\n",
              "    [theme=dark] .colab-df-convert {\n",
              "      background-color: #3B4455;\n",
              "      fill: #D2E3FC;\n",
              "    }\n",
              "\n",
              "    [theme=dark] .colab-df-convert:hover {\n",
              "      background-color: #434B5C;\n",
              "      box-shadow: 0px 1px 3px 1px rgba(0, 0, 0, 0.15);\n",
              "      filter: drop-shadow(0px 1px 2px rgba(0, 0, 0, 0.3));\n",
              "      fill: #FFFFFF;\n",
              "    }\n",
              "  </style>\n",
              "\n",
              "      <script>\n",
              "        const buttonEl =\n",
              "          document.querySelector('#df-565ceb7e-508e-46e3-b7d5-04c2a7a87a1a button.colab-df-convert');\n",
              "        buttonEl.style.display =\n",
              "          google.colab.kernel.accessAllowed ? 'block' : 'none';\n",
              "\n",
              "        async function convertToInteractive(key) {\n",
              "          const element = document.querySelector('#df-565ceb7e-508e-46e3-b7d5-04c2a7a87a1a');\n",
              "          const dataTable =\n",
              "            await google.colab.kernel.invokeFunction('convertToInteractive',\n",
              "                                                     [key], {});\n",
              "          if (!dataTable) return;\n",
              "\n",
              "          const docLinkHtml = 'Like what you see? Visit the ' +\n",
              "            '<a target=\"_blank\" href=https://colab.research.google.com/notebooks/data_table.ipynb>data table notebook</a>'\n",
              "            + ' to learn more about interactive tables.';\n",
              "          element.innerHTML = '';\n",
              "          dataTable['output_type'] = 'display_data';\n",
              "          await google.colab.output.renderOutput(dataTable, element);\n",
              "          const docLink = document.createElement('div');\n",
              "          docLink.innerHTML = docLinkHtml;\n",
              "          element.appendChild(docLink);\n",
              "        }\n",
              "      </script>\n",
              "    </div>\n",
              "  </div>\n",
              "  "
            ]
          },
          "metadata": {},
          "execution_count": 28
        }
      ]
    },
    {
      "cell_type": "markdown",
      "source": [
        "># $\\color{orange}{\\text{EDA}}$ \n",
        "\n",
        "\n",
        "---\n",
        "\n",
        "\n",
        "ข้อมูลอุบัติเหตุบนทางด่วนพิเศษ ปีงบประมาณ 2565 (ต.ค.64 - ก.พ.65)\n",
        "\n",
        "* การใช้ countplot นำเสนอ**ช่วงเวลาที่เกิดอุบัติเหตุ**มากที่สุดไปน้อยที่สุด \n",
        "  \n",
        "  * กำหนดให้เส้นค่าเฉลี่ย avg เป็นสีแดง และจำนวนอุบัติเหตุที่เกิดขึ้นในช่วงเวลานั้น ๆ หากมากกว่าค่าเฉลี่ย ให้กราฟบาร์นั้นมีสีเขียวเข้ม และหากจำนวนที่เกิดอุบัติเหตุไม่ถึงค่าเฉลี่ยให้มีสีเทา \n",
        "\n",
        "  * จากกราฟนี้สามารถสรุปได้ว่า ช่วงเวลาตอนเช้า เป็นช่วงเวลาที่จะเกิดอุบัติเหตุมากที่สุดบนทางด่วนพิเศษ ซึ่งอาจเกิดจากเป็นชั่วโมงเร่งรีบของวัยทำงาน และวัยเรียน ทำให้รถบนทางด่วนพิเศษมีจำนวนมากและเกิดอุบัติเหตุมากที่สุด ในลำดับถัดมาคือ ช่วงเวลากลางคืน ช่วงเวลาบ่าย ช่วงเวลาเช้ามืด และอันดับสุดท้ายคือในช่วงเวลาตอนเย็น ซึ่งอาจเป็นเพราะเป็นเวลาเลิกงาน เลิกเรียนมีรถจำนวนมากบนท้องถนนจนทำให้เกิดการชะลอตัว รถติดเป็นระยะ ทำให้อัตราการเกิดอุบัติเหตุได้น้อยที่สุด\n",
        "\n",
        "* การใช้ countplot นำเสนอ**เดือนที่เกิดอุบัติเหตุ**มากที่สุดไปน้อยที่สุด \n",
        "  * กำหนดให้เส้นค่าเฉลี่ย avg เป็นสีแดงเช่นเดียวกัน หากมากกว่าค่าเฉลี่ย ให้กราฟบาร์นั้นมีสีมะเขือเทศ และหากจำนวนที่เกิดอุบัติเหตุไม่ถึงค่าเฉลี่ยให้มีสีเทา \n",
        "  * จากกราฟนี้สามารถสรุปได้ว่า ในเดือนตุลาคมมีจำนวนการเกิดอุบัติเหตุบนทางด่วนพิเศษมากที่สุดถึง 80 ครั้ง เดือนกุมภาพันธ์เป็นลำดับที่สองด้วยการเกิดอุบัติเหตุบนทางด่วนพิเศษมากถึง 75 ครั้ง ลำดับต่อไปในพฤศจิกายน เดือนธันวาคม และอันดับสุดท้ายเดือนมกราคม ดังนั้นจะเห็นได้ชัดว่าการเกิดอุบัติเหตุบนทางด่วนพิเศษไม่ได้ขึ้นอยู่กับช่วงเดือนเทศกาลหรือช่วงเดือนที่คาดว่าจะมีอัตราการเกิดอุบัติเหตุมาก แต่อาจขึ้นอยู่กับตัวบุคคลที่ประมาทในการขับรถจนเกิดอุบัติเหตุบนท้องถนนก็เป็นได้"
      ],
      "metadata": {
        "id": "fJi19oyaYFfe"
      }
    },
    {
      "cell_type": "code",
      "source": [
        "avg=df['hours'].value_counts().mean()\n",
        "colors = ['green' if (x > avg) else 'lightgray' for x in df['hours'].value_counts()]\n",
        "plt.figure(figsize=(8, 5))\n",
        "sns.countplot(x = 'hours',\n",
        "              data = df,\n",
        "              palette = colors,\n",
        "              order = df['hours'].value_counts().index)\n",
        "plt.axhline(y=avg, linestyle='--', color='red')"
      ],
      "metadata": {
        "colab": {
          "base_uri": "https://localhost:8080/",
          "height": 350
        },
        "id": "0Pf1bNyvIylw",
        "outputId": "94aaa243-ad76-4e05-c638-5d4d5d50d615"
      },
      "execution_count": null,
      "outputs": [
        {
          "output_type": "execute_result",
          "data": {
            "text/plain": [
              "<matplotlib.lines.Line2D at 0x7f9b44b5a450>"
            ]
          },
          "metadata": {},
          "execution_count": 29
        },
        {
          "output_type": "display_data",
          "data": {
            "text/plain": [
              "<Figure size 576x360 with 1 Axes>"
            ],
            "image/png": "[encoded data removed]"
          },
          "metadata": {
            "image/png": {
              "width": 494,
              "height": 316
            },
            "needs_background": "light"
          }
        }
      ]
    },
    {
      "cell_type": "code",
      "source": [
        "avg=df['month'].value_counts().mean()\n",
        "colors = ['tomato' if (x > avg) else 'lightgray' for x in df['month'].value_counts()]\n",
        "plt.figure(figsize=(8, 5))\n",
        "sns.countplot(x = 'month',\n",
        "              data = df,\n",
        "              palette = colors,\n",
        "              order = df['month'].value_counts().index)\n",
        "plt.axhline(y=avg, linestyle='--', color='red')"
      ],
      "metadata": {
        "colab": {
          "base_uri": "https://localhost:8080/",
          "height": 350
        },
        "id": "JPuBC65DJL5E",
        "outputId": "b74fccbe-ee71-4839-839a-ee8edfb80c2c"
      },
      "execution_count": null,
      "outputs": [
        {
          "output_type": "execute_result",
          "data": {
            "text/plain": [
              "<matplotlib.lines.Line2D at 0x7f9b27f6aad0>"
            ]
          },
          "metadata": {},
          "execution_count": 30
        },
        {
          "output_type": "display_data",
          "data": {
            "text/plain": [
              "<Figure size 576x360 with 1 Axes>"
            ],
            "image/png": "[encoded data removed]"
          },
          "metadata": {
            "image/png": {
              "width": 494,
              "height": 316
            },
            "needs_background": "light"
          }
        }
      ]
    },
    {
      "cell_type": "code",
      "source": [
        "from sklearn.preprocessing import LabelEncoder\n",
        "def labelencode(data, columns):\n",
        "    for i in columns:\n",
        "        lb = LabelEncoder().fit_transform(data[i])\n",
        "        data[i + '_'] = lb\n",
        "columns = ['step', 'weather_state', 'cause_type']\n",
        "labelencode(df, columns)"
      ],
      "metadata": {
        "id": "JpRj00CvJ-L3"
      },
      "execution_count": null,
      "outputs": []
    },
    {
      "cell_type": "code",
      "source": [
        "y_le = LabelEncoder()\n",
        "y_s = y_le.fit_transform(df.result)\n",
        "df['result_'] = y_s"
      ],
      "metadata": {
        "id": "BA6ZqQsGKBMv"
      },
      "execution_count": null,
      "outputs": []
    },
    {
      "cell_type": "code",
      "source": [
        "avg=df['step_'].value_counts().mean()\n",
        "colors = ['yellow' if (x > avg) else 'lightgray' for x in df['step_'].value_counts()]\n",
        "plt.figure(figsize=(8, 5))\n",
        "sns.countplot(x = 'step_',\n",
        "              data = df,\n",
        "              palette = colors,\n",
        "              order = df['step_'].value_counts().index)\n",
        "plt.axhline(y=avg, linestyle='--', color='red')"
      ],
      "metadata": {
        "colab": {
          "base_uri": "https://localhost:8080/",
          "height": 350
        },
        "id": "vkK9KafXKG8i",
        "outputId": "2b0525a2-aa4e-48df-c054-7a337701184f"
      },
      "execution_count": null,
      "outputs": [
        {
          "output_type": "execute_result",
          "data": {
            "text/plain": [
              "<matplotlib.lines.Line2D at 0x7f9b27a233d0>"
            ]
          },
          "metadata": {},
          "execution_count": 33
        },
        {
          "output_type": "display_data",
          "data": {
            "text/plain": [
              "<Figure size 576x360 with 1 Axes>"
            ],
            "image/png": "[encoded data removed]"
          },
          "metadata": {
            "image/png": {
              "width": 494,
              "height": 316
            },
            "needs_background": "light"
          }
        }
      ]
    },
    {
      "cell_type": "code",
      "source": [
        "avg=df['weather_state_'].value_counts().mean()\n",
        "colors = ['orange' if (x > avg) else 'lightgray' for x in df['weather_state_'].value_counts()]\n",
        "plt.figure(figsize=(8, 5))\n",
        "sns.countplot(x = 'weather_state_',\n",
        "              data = df,\n",
        "              palette = colors,\n",
        "              order = df['weather_state_'].value_counts().index)\n",
        "plt.axhline(y=avg, linestyle='--', color='red')"
      ],
      "metadata": {
        "colab": {
          "base_uri": "https://localhost:8080/",
          "height": 350
        },
        "id": "IrDNBZKcKJEn",
        "outputId": "405d57eb-ba94-4600-f447-1705bd8ee726"
      },
      "execution_count": null,
      "outputs": [
        {
          "output_type": "execute_result",
          "data": {
            "text/plain": [
              "<matplotlib.lines.Line2D at 0x7f9b27f6e2d0>"
            ]
          },
          "metadata": {},
          "execution_count": 34
        },
        {
          "output_type": "display_data",
          "data": {
            "text/plain": [
              "<Figure size 576x360 with 1 Axes>"
            ],
            "image/png": "[encoded data removed]"
          },
          "metadata": {
            "image/png": {
              "width": 500,
              "height": 316
            },
            "needs_background": "light"
          }
        }
      ]
    },
    {
      "cell_type": "code",
      "source": [
        "avg=df['cause_type_'].value_counts().mean()\n",
        "colors = ['purple' if (x > avg) else 'lightgray' for x in df['cause_type_'].value_counts()]\n",
        "plt.figure(figsize=(8, 5))\n",
        "sns.countplot(x = 'cause_type_',\n",
        "              data = df,\n",
        "              palette = colors,\n",
        "              order = df['cause_type_'].value_counts().index)\n",
        "plt.axhline(y=avg, linestyle='--', color='red')"
      ],
      "metadata": {
        "colab": {
          "base_uri": "https://localhost:8080/",
          "height": 350
        },
        "id": "TbzKN6B-KOHd",
        "outputId": "a1ff3375-724f-41c2-fb4c-609ea9785af1"
      },
      "execution_count": null,
      "outputs": [
        {
          "output_type": "execute_result",
          "data": {
            "text/plain": [
              "<matplotlib.lines.Line2D at 0x7f9b27999450>"
            ]
          },
          "metadata": {},
          "execution_count": 35
        },
        {
          "output_type": "display_data",
          "data": {
            "text/plain": [
              "<Figure size 576x360 with 1 Axes>"
            ],
            "image/png": "[encoded data removed]"
          },
          "metadata": {
            "image/png": {
              "width": 500,
              "height": 316
            },
            "needs_background": "light"
          }
        }
      ]
    },
    {
      "cell_type": "markdown",
      "source": [
        "## สรุป EDA\n",
        "\n",
        "จากกราฟ EDA ทั้งหมดที่กล่าวมาข้างต้น ทำให้ได้ข้อสรุปว่าการขับรถตอนกลางคืน หรือขับรถในสภาพอากาศฝนตก การขับรถในตอนเทศกาล $\\color{red}{\\text{ไม่เป็น}}$สาเหตุทำให้เกิดอุบัติเหตุบนท้องถนน แต่อาจขึ้นอยู่กับผู้ขับขี่ไม่ปฏิบัติตามกฎจราจร ไม่รักษามารยาทในการขับรถ ซึ่งอาจนำไปสู่การขับรถโดยประมาทในที่สุด ทำให้เกิดอุบัติเหตุบนท้องถนน และการสูญเสียที่อาจตามมาได้"
      ],
      "metadata": {
        "id": "ZnWA3cGKUT1j"
      }
    },
    {
      "cell_type": "markdown",
      "source": [
        "\n",
        "\n",
        "---\n",
        "\n"
      ],
      "metadata": {
        "id": "qQEU9gZxcGPo"
      }
    },
    {
      "cell_type": "markdown",
      "source": [
        "# $\\color{orange}{\\text{Machine Learning}}$ \n",
        "\n",
        "\n",
        "---\n",
        "\n",
        "\n",
        "ขั้นตอน\n",
        "* กำหนด feature หรือ X ได้แก่ step, weather_state, cause_type \n",
        "* กำหนด label หรือ y ได้แก่ result\n",
        "* ตรวจสอบดูมิติของ X, y โดย X จะได้ว่ามี 346 แถว 3 คอลัมน์\n",
        "และ y จะได้ว่ามี 346 แถว \n",
        "* เปลี่ยนข้อมูล feature และ label จาก string เป็น float เพื่อให้นำข้อมูลไปใช้ทำนายต่อได้ โดยทำการ**เข้ารหัสแปลง string ให้เป็นตัวเลข**เสียก่อน เรียกว่า **label encoding** เมื่อแปลงแล้วจะเอามาเก็บไว้ที่คอลัมน์ step_, weather_state_, cause_type_, result_ \n",
        "* กำหนด X และ y ใหม่เป็น X_s, y_s\n",
        "* ตรวจดูมิติอีกครั้ง\n"
      ],
      "metadata": {
        "id": "cXp3IMqOzB8M"
      }
    },
    {
      "cell_type": "markdown",
      "source": [
        "### Feature (X)\n",
        "เป็นตัวแปรต้นที่ใช้ในการนำทายจำนวนผู้บาดเจ็บ รวมไปถึงจำนวนผู้เสียชีวิตในอุบัติเหตุบนทางพิเศษ\n",
        "* step คือ ทางพิเศษต่าง ๆ\n",
        "* step_ คือ ทางพิเศษต่าง ๆ ซึ่งแทนด้วยตัวเลข 0-7\n",
        "\n",
        "  0 = ฉลองรัช, 1 = ทางหลวงพิเศษหมายเลข 37, 2 = บางพลี-สุขสวัสดิ์, 3 =  บูรพาวิถี, 4 = ศรีรัช, 5 = ศรีรัช-วงแหวนรอบนอก, 6 = อุดรรัถยา, 7 = เฉลิมมหานคร\n",
        "* weather_state คือ สภาพภูมิอากาศขณะเกิดอุบัติเหตุ\n",
        "* weather_state_ คือ สภาพภูมิอากาศขณะเกิดอุบัติเหตุ ซึ่งแทนด้วยตัวเลข 0,1 \n",
        "\n",
        "  0 = ปกติ, 1 = ฝนตก\n",
        "* cause_type คือ ประเภทการเกิดอุบัติเหตุ \n",
        "* cause_type_ คือ ประเภทการเกิดอุบัติเหตุ ซึ่งแทนด้วยตัวเลข 0-10\n",
        "\n",
        "  0 = ขับรถโดยประมาท, 1 = ขับรถในระยะกระชั้นชิด, 2 = บรรทุกเกินขนาด, 3 = ยางแตก, 4 = รถเสียหลัก, 5 = สภาพอากาศ, 6 = สภาพแวดล้อม, 7 = อื่นๆ, 8 = เครื่องยนต์ขัดข้อง, 9 = เบรกกะทันหัน, 10 = เปลี่ยนช่องทางกระทันหัน\n",
        "\n",
        "\n"
      ],
      "metadata": {
        "id": "MP75KRdVgi0C"
      }
    },
    {
      "cell_type": "code",
      "source": [
        "feature_cols = ['step', 'weather_state', 'cause_type']\n",
        "X = df[feature_cols]\n",
        "X.tail()"
      ],
      "metadata": {
        "colab": {
          "base_uri": "https://localhost:8080/",
          "height": 206
        },
        "id": "kJZgcSoXCjAJ",
        "outputId": "d7a74a59-d955-438b-8d94-878eafe43201"
      },
      "execution_count": null,
      "outputs": [
        {
          "output_type": "execute_result",
          "data": {
            "text/plain": [
              "                    step weather_state          cause_type\n",
              "341            บูรพาวิถี          ปกติ              ยางแตก\n",
              "342    บางพลี-สุขสวัสดิ์          ปกติ      ขับรถโดยประมาท\n",
              "343  ศรีรัช-วงแหวนรอบนอก          ฝนตก      ขับรถโดยประมาท\n",
              "344               ศรีรัช          ปกติ  เครื่องยนต์ขัดข้อง\n",
              "345  ศรีรัช-วงแหวนรอบนอก          ฝนตก         สภาพแวดล้อม"
            ],
            "text/html": [
              "\n",
              "  <div id=\"df-81daf3ad-eef6-42c0-bd16-279ede721e93\">\n",
              "    <div class=\"colab-df-container\">\n",
              "      <div>\n",
              "<style scoped>\n",
              "    .dataframe tbody tr th:only-of-type {\n",
              "        vertical-align: middle;\n",
              "    }\n",
              "\n",
              "    .dataframe tbody tr th {\n",
              "        vertical-align: top;\n",
              "    }\n",
              "\n",
              "    .dataframe thead th {\n",
              "        text-align: right;\n",
              "    }\n",
              "</style>\n",
              "<table border=\"1\" class=\"dataframe\">\n",
              "  <thead>\n",
              "    <tr style=\"text-align: right;\">\n",
              "      <th></th>\n",
              "      <th>step</th>\n",
              "      <th>weather_state</th>\n",
              "      <th>cause_type</th>\n",
              "    </tr>\n",
              "  </thead>\n",
              "  <tbody>\n",
              "    <tr>\n",
              "      <th>341</th>\n",
              "      <td>บูรพาวิถี</td>\n",
              "      <td>ปกติ</td>\n",
              "      <td>ยางแตก</td>\n",
              "    </tr>\n",
              "    <tr>\n",
              "      <th>342</th>\n",
              "      <td>บางพลี-สุขสวัสดิ์</td>\n",
              "      <td>ปกติ</td>\n",
              "      <td>ขับรถโดยประมาท</td>\n",
              "    </tr>\n",
              "    <tr>\n",
              "      <th>343</th>\n",
              "      <td>ศรีรัช-วงแหวนรอบนอก</td>\n",
              "      <td>ฝนตก</td>\n",
              "      <td>ขับรถโดยประมาท</td>\n",
              "    </tr>\n",
              "    <tr>\n",
              "      <th>344</th>\n",
              "      <td>ศรีรัช</td>\n",
              "      <td>ปกติ</td>\n",
              "      <td>เครื่องยนต์ขัดข้อง</td>\n",
              "    </tr>\n",
              "    <tr>\n",
              "      <th>345</th>\n",
              "      <td>ศรีรัช-วงแหวนรอบนอก</td>\n",
              "      <td>ฝนตก</td>\n",
              "      <td>สภาพแวดล้อม</td>\n",
              "    </tr>\n",
              "  </tbody>\n",
              "</table>\n",
              "</div>\n",
              "      <button class=\"colab-df-convert\" onclick=\"convertToInteractive('df-81daf3ad-eef6-42c0-bd16-279ede721e93')\"\n",
              "              title=\"Convert this dataframe to an interactive table.\"\n",
              "              style=\"display:none;\">\n",
              "        \n",
              "  <svg xmlns=\"http://www.w3.org/2000/svg\" height=\"24px\"viewBox=\"0 0 24 24\"\n",
              "       width=\"24px\">\n",
              "    <path d=\"M0 0h24v24H0V0z\" fill=\"none\"/>\n",
              "    <path d=\"M18.56 5.44l.94 2.06.94-2.06 2.06-.94-2.06-.94-.94-2.06-.94 2.06-2.06.94zm-11 1L8.5 8.5l.94-2.06 2.06-.94-2.06-.94L8.5 2.5l-.94 2.06-2.06.94zm10 10l.94 2.06.94-2.06 2.06-.94-2.06-.94-.94-2.06-.94 2.06-2.06.94z\"/><path d=\"M17.41 7.96l-1.37-1.37c-.4-.4-.92-.59-1.43-.59-.52 0-1.04.2-1.43.59L10.3 9.45l-7.72 7.72c-.78.78-.78 2.05 0 2.83L4 21.41c.39.39.9.59 1.41.59.51 0 1.02-.2 1.41-.59l7.78-7.78 2.81-2.81c.8-.78.8-2.07 0-2.86zM5.41 20L4 18.59l7.72-7.72 1.47 1.35L5.41 20z\"/>\n",
              "  </svg>\n",
              "      </button>\n",
              "      \n",
              "  <style>\n",
              "    .colab-df-container {\n",
              "      display:flex;\n",
              "      flex-wrap:wrap;\n",
              "      gap: 12px;\n",
              "    }\n",
              "\n",
              "    .colab-df-convert {\n",
              "      background-color: #E8F0FE;\n",
              "      border: none;\n",
              "      border-radius: 50%;\n",
              "      cursor: pointer;\n",
              "      display: none;\n",
              "      fill: #1967D2;\n",
              "      height: 32px;\n",
              "      padding: 0 0 0 0;\n",
              "      width: 32px;\n",
              "    }\n",
              "\n",
              "    .colab-df-convert:hover {\n",
              "      background-color: #E2EBFA;\n",
              "      box-shadow: 0px 1px 2px rgba(60, 64, 67, 0.3), 0px 1px 3px 1px rgba(60, 64, 67, 0.15);\n",
              "      fill: #174EA6;\n",
              "    }\n",
              "\n",
              "    [theme=dark] .colab-df-convert {\n",
              "      background-color: #3B4455;\n",
              "      fill: #D2E3FC;\n",
              "    }\n",
              "\n",
              "    [theme=dark] .colab-df-convert:hover {\n",
              "      background-color: #434B5C;\n",
              "      box-shadow: 0px 1px 3px 1px rgba(0, 0, 0, 0.15);\n",
              "      filter: drop-shadow(0px 1px 2px rgba(0, 0, 0, 0.3));\n",
              "      fill: #FFFFFF;\n",
              "    }\n",
              "  </style>\n",
              "\n",
              "      <script>\n",
              "        const buttonEl =\n",
              "          document.querySelector('#df-81daf3ad-eef6-42c0-bd16-279ede721e93 button.colab-df-convert');\n",
              "        buttonEl.style.display =\n",
              "          google.colab.kernel.accessAllowed ? 'block' : 'none';\n",
              "\n",
              "        async function convertToInteractive(key) {\n",
              "          const element = document.querySelector('#df-81daf3ad-eef6-42c0-bd16-279ede721e93');\n",
              "          const dataTable =\n",
              "            await google.colab.kernel.invokeFunction('convertToInteractive',\n",
              "                                                     [key], {});\n",
              "          if (!dataTable) return;\n",
              "\n",
              "          const docLinkHtml = 'Like what you see? Visit the ' +\n",
              "            '<a target=\"_blank\" href=https://colab.research.google.com/notebooks/data_table.ipynb>data table notebook</a>'\n",
              "            + ' to learn more about interactive tables.';\n",
              "          element.innerHTML = '';\n",
              "          dataTable['output_type'] = 'display_data';\n",
              "          await google.colab.output.renderOutput(dataTable, element);\n",
              "          const docLink = document.createElement('div');\n",
              "          docLink.innerHTML = docLinkHtml;\n",
              "          element.appendChild(docLink);\n",
              "        }\n",
              "      </script>\n",
              "    </div>\n",
              "  </div>\n",
              "  "
            ]
          },
          "metadata": {},
          "execution_count": 36
        }
      ]
    },
    {
      "cell_type": "code",
      "source": [
        "X.shape"
      ],
      "metadata": {
        "colab": {
          "base_uri": "https://localhost:8080/"
        },
        "id": "SnNrxiF0azn9",
        "outputId": "1d5f02aa-2f14-4f2e-82e9-ee8f8033b58a"
      },
      "execution_count": null,
      "outputs": [
        {
          "output_type": "execute_result",
          "data": {
            "text/plain": [
              "(346, 3)"
            ]
          },
          "metadata": {},
          "execution_count": 37
        }
      ]
    },
    {
      "cell_type": "markdown",
      "source": [
        "### Label (y)\n",
        "result_ คือ ผลลัพธ์ว่ามีผู้บาดเจ็บและผู้เสียชีวิตหรือไม่ โดยแบ่งได้ดังนี้\n",
        " * 0 แทน Have Death\n",
        " * 1 แทน Have Injuries\n",
        " * 2 แทน Have Injuries and Death\n",
        " * 3 แทน No Injuries and Death"
      ],
      "metadata": {
        "id": "syGK07qxgsKM"
      }
    },
    {
      "cell_type": "code",
      "source": [
        "y = df.result\n",
        "y"
      ],
      "metadata": {
        "colab": {
          "base_uri": "https://localhost:8080/"
        },
        "id": "f48NNSawar_X",
        "outputId": "060eeb6c-e3af-4030-fa2a-7295ea6809ae"
      },
      "execution_count": null,
      "outputs": [
        {
          "output_type": "execute_result",
          "data": {
            "text/plain": [
              "0      No Injuries and Death\n",
              "1      No Injuries and Death\n",
              "2      No Injuries and Death\n",
              "3      No Injuries and Death\n",
              "4      No Injuries and Death\n",
              "               ...          \n",
              "341            Have Injuries\n",
              "342            Have Injuries\n",
              "343    No Injuries and Death\n",
              "344    No Injuries and Death\n",
              "345    No Injuries and Death\n",
              "Name: result, Length: 346, dtype: object"
            ]
          },
          "metadata": {},
          "execution_count": 38
        }
      ]
    },
    {
      "cell_type": "code",
      "source": [
        "y.shape"
      ],
      "metadata": {
        "colab": {
          "base_uri": "https://localhost:8080/"
        },
        "id": "JvfXJvRAa00q",
        "outputId": "a70289df-7774-4c35-93c9-51d2224dba59"
      },
      "execution_count": null,
      "outputs": [
        {
          "output_type": "execute_result",
          "data": {
            "text/plain": [
              "(346,)"
            ]
          },
          "metadata": {},
          "execution_count": 39
        }
      ]
    },
    {
      "cell_type": "code",
      "source": [
        "from sklearn.preprocessing import LabelEncoder\n",
        "\n",
        "def labelencode(data, columns):\n",
        "    for i in columns:\n",
        "        lb = LabelEncoder().fit_transform(data[i])\n",
        "        data[i + '_'] = lb\n",
        "\n",
        "columns = ['step', 'weather_state', 'cause_type']\n",
        "labelencode(df, columns)"
      ],
      "metadata": {
        "id": "MRS433MfiUWH"
      },
      "execution_count": null,
      "outputs": []
    },
    {
      "cell_type": "code",
      "source": [
        "y_le = LabelEncoder()\n",
        "y_s = y_le.fit_transform(df.result)\n",
        "df['result_'] = y_s\n",
        "df.head()"
      ],
      "metadata": {
        "colab": {
          "base_uri": "https://localhost:8080/",
          "height": 530
        },
        "id": "d-k0Oy4JiZTp",
        "outputId": "e7582518-428c-4906-bccc-cd20b2a0801c"
      },
      "execution_count": null,
      "outputs": [
        {
          "output_type": "execute_result",
          "data": {
            "text/plain": [
              "  accident_date accident_time                 step weather_state  injur_man  \\\n",
              "0    2022-02-28      16:50:50  ศรีรัช-วงแหวนรอบนอก          ปกติ          0   \n",
              "1    2022-02-26      23:34:34              ฉลองรัช          ปกติ          0   \n",
              "2    2022-02-25      09:31:31               ศรีรัช          ปกติ          0   \n",
              "3    2022-02-25      21:55:55               ศรีรัช          ปกติ          0   \n",
              "4    2022-02-25      00:38:38              ฉลองรัช          ปกติ          0   \n",
              "\n",
              "   injur_female  dead_man  dead_female               cause_type  sum_injur  \\\n",
              "0             0         0            0           ขับรถโดยประมาท          0   \n",
              "1             0         0            0           ขับรถโดยประมาท          0   \n",
              "2             0         0            0       เครื่องยนต์ขัดข้อง          0   \n",
              "3             0         0            0  เปลี่ยนช่องทางกระทันหัน          0   \n",
              "4             0         0            0           ขับรถโดยประมาท          0   \n",
              "\n",
              "   sum_dead                 result  day  month  year       hours  step_  \\\n",
              "0         0  No Injuries and Death   28      2  2022     Evening      5   \n",
              "1         0  No Injuries and Death   26      2  2022       Night      0   \n",
              "2         0  No Injuries and Death   25      2  2022     Morning      4   \n",
              "3         0  No Injuries and Death   25      2  2022       Night      4   \n",
              "4         0  No Injuries and Death   25      2  2022  Late Night      0   \n",
              "\n",
              "   weather_state_  cause_type_  result_  \n",
              "0               0            0        3  \n",
              "1               0            0        3  \n",
              "2               0            8        3  \n",
              "3               0           10        3  \n",
              "4               0            0        3  "
            ],
            "text/html": [
              "\n",
              "  <div id=\"df-536f0ba5-36fc-4271-92bc-c565656e8b11\">\n",
              "    <div class=\"colab-df-container\">\n",
              "      <div>\n",
              "<style scoped>\n",
              "    .dataframe tbody tr th:only-of-type {\n",
              "        vertical-align: middle;\n",
              "    }\n",
              "\n",
              "    .dataframe tbody tr th {\n",
              "        vertical-align: top;\n",
              "    }\n",
              "\n",
              "    .dataframe thead th {\n",
              "        text-align: right;\n",
              "    }\n",
              "</style>\n",
              "<table border=\"1\" class=\"dataframe\">\n",
              "  <thead>\n",
              "    <tr style=\"text-align: right;\">\n",
              "      <th></th>\n",
              "      <th>accident_date</th>\n",
              "      <th>accident_time</th>\n",
              "      <th>step</th>\n",
              "      <th>weather_state</th>\n",
              "      <th>injur_man</th>\n",
              "      <th>injur_female</th>\n",
              "      <th>dead_man</th>\n",
              "      <th>dead_female</th>\n",
              "      <th>cause_type</th>\n",
              "      <th>sum_injur</th>\n",
              "      <th>sum_dead</th>\n",
              "      <th>result</th>\n",
              "      <th>day</th>\n",
              "      <th>month</th>\n",
              "      <th>year</th>\n",
              "      <th>hours</th>\n",
              "      <th>step_</th>\n",
              "      <th>weather_state_</th>\n",
              "      <th>cause_type_</th>\n",
              "      <th>result_</th>\n",
              "    </tr>\n",
              "  </thead>\n",
              "  <tbody>\n",
              "    <tr>\n",
              "      <th>0</th>\n",
              "      <td>2022-02-28</td>\n",
              "      <td>16:50:50</td>\n",
              "      <td>ศรีรัช-วงแหวนรอบนอก</td>\n",
              "      <td>ปกติ</td>\n",
              "      <td>0</td>\n",
              "      <td>0</td>\n",
              "      <td>0</td>\n",
              "      <td>0</td>\n",
              "      <td>ขับรถโดยประมาท</td>\n",
              "      <td>0</td>\n",
              "      <td>0</td>\n",
              "      <td>No Injuries and Death</td>\n",
              "      <td>28</td>\n",
              "      <td>2</td>\n",
              "      <td>2022</td>\n",
              "      <td>Evening</td>\n",
              "      <td>5</td>\n",
              "      <td>0</td>\n",
              "      <td>0</td>\n",
              "      <td>3</td>\n",
              "    </tr>\n",
              "    <tr>\n",
              "      <th>1</th>\n",
              "      <td>2022-02-26</td>\n",
              "      <td>23:34:34</td>\n",
              "      <td>ฉลองรัช</td>\n",
              "      <td>ปกติ</td>\n",
              "      <td>0</td>\n",
              "      <td>0</td>\n",
              "      <td>0</td>\n",
              "      <td>0</td>\n",
              "      <td>ขับรถโดยประมาท</td>\n",
              "      <td>0</td>\n",
              "      <td>0</td>\n",
              "      <td>No Injuries and Death</td>\n",
              "      <td>26</td>\n",
              "      <td>2</td>\n",
              "      <td>2022</td>\n",
              "      <td>Night</td>\n",
              "      <td>0</td>\n",
              "      <td>0</td>\n",
              "      <td>0</td>\n",
              "      <td>3</td>\n",
              "    </tr>\n",
              "    <tr>\n",
              "      <th>2</th>\n",
              "      <td>2022-02-25</td>\n",
              "      <td>09:31:31</td>\n",
              "      <td>ศรีรัช</td>\n",
              "      <td>ปกติ</td>\n",
              "      <td>0</td>\n",
              "      <td>0</td>\n",
              "      <td>0</td>\n",
              "      <td>0</td>\n",
              "      <td>เครื่องยนต์ขัดข้อง</td>\n",
              "      <td>0</td>\n",
              "      <td>0</td>\n",
              "      <td>No Injuries and Death</td>\n",
              "      <td>25</td>\n",
              "      <td>2</td>\n",
              "      <td>2022</td>\n",
              "      <td>Morning</td>\n",
              "      <td>4</td>\n",
              "      <td>0</td>\n",
              "      <td>8</td>\n",
              "      <td>3</td>\n",
              "    </tr>\n",
              "    <tr>\n",
              "      <th>3</th>\n",
              "      <td>2022-02-25</td>\n",
              "      <td>21:55:55</td>\n",
              "      <td>ศรีรัช</td>\n",
              "      <td>ปกติ</td>\n",
              "      <td>0</td>\n",
              "      <td>0</td>\n",
              "      <td>0</td>\n",
              "      <td>0</td>\n",
              "      <td>เปลี่ยนช่องทางกระทันหัน</td>\n",
              "      <td>0</td>\n",
              "      <td>0</td>\n",
              "      <td>No Injuries and Death</td>\n",
              "      <td>25</td>\n",
              "      <td>2</td>\n",
              "      <td>2022</td>\n",
              "      <td>Night</td>\n",
              "      <td>4</td>\n",
              "      <td>0</td>\n",
              "      <td>10</td>\n",
              "      <td>3</td>\n",
              "    </tr>\n",
              "    <tr>\n",
              "      <th>4</th>\n",
              "      <td>2022-02-25</td>\n",
              "      <td>00:38:38</td>\n",
              "      <td>ฉลองรัช</td>\n",
              "      <td>ปกติ</td>\n",
              "      <td>0</td>\n",
              "      <td>0</td>\n",
              "      <td>0</td>\n",
              "      <td>0</td>\n",
              "      <td>ขับรถโดยประมาท</td>\n",
              "      <td>0</td>\n",
              "      <td>0</td>\n",
              "      <td>No Injuries and Death</td>\n",
              "      <td>25</td>\n",
              "      <td>2</td>\n",
              "      <td>2022</td>\n",
              "      <td>Late Night</td>\n",
              "      <td>0</td>\n",
              "      <td>0</td>\n",
              "      <td>0</td>\n",
              "      <td>3</td>\n",
              "    </tr>\n",
              "  </tbody>\n",
              "</table>\n",
              "</div>\n",
              "      <button class=\"colab-df-convert\" onclick=\"convertToInteractive('df-536f0ba5-36fc-4271-92bc-c565656e8b11')\"\n",
              "              title=\"Convert this dataframe to an interactive table.\"\n",
              "              style=\"display:none;\">\n",
              "        \n",
              "  <svg xmlns=\"http://www.w3.org/2000/svg\" height=\"24px\"viewBox=\"0 0 24 24\"\n",
              "       width=\"24px\">\n",
              "    <path d=\"M0 0h24v24H0V0z\" fill=\"none\"/>\n",
              "    <path d=\"M18.56 5.44l.94 2.06.94-2.06 2.06-.94-2.06-.94-.94-2.06-.94 2.06-2.06.94zm-11 1L8.5 8.5l.94-2.06 2.06-.94-2.06-.94L8.5 2.5l-.94 2.06-2.06.94zm10 10l.94 2.06.94-2.06 2.06-.94-2.06-.94-.94-2.06-.94 2.06-2.06.94z\"/><path d=\"M17.41 7.96l-1.37-1.37c-.4-.4-.92-.59-1.43-.59-.52 0-1.04.2-1.43.59L10.3 9.45l-7.72 7.72c-.78.78-.78 2.05 0 2.83L4 21.41c.39.39.9.59 1.41.59.51 0 1.02-.2 1.41-.59l7.78-7.78 2.81-2.81c.8-.78.8-2.07 0-2.86zM5.41 20L4 18.59l7.72-7.72 1.47 1.35L5.41 20z\"/>\n",
              "  </svg>\n",
              "      </button>\n",
              "      \n",
              "  <style>\n",
              "    .colab-df-container {\n",
              "      display:flex;\n",
              "      flex-wrap:wrap;\n",
              "      gap: 12px;\n",
              "    }\n",
              "\n",
              "    .colab-df-convert {\n",
              "      background-color: #E8F0FE;\n",
              "      border: none;\n",
              "      border-radius: 50%;\n",
              "      cursor: pointer;\n",
              "      display: none;\n",
              "      fill: #1967D2;\n",
              "      height: 32px;\n",
              "      padding: 0 0 0 0;\n",
              "      width: 32px;\n",
              "    }\n",
              "\n",
              "    .colab-df-convert:hover {\n",
              "      background-color: #E2EBFA;\n",
              "      box-shadow: 0px 1px 2px rgba(60, 64, 67, 0.3), 0px 1px 3px 1px rgba(60, 64, 67, 0.15);\n",
              "      fill: #174EA6;\n",
              "    }\n",
              "\n",
              "    [theme=dark] .colab-df-convert {\n",
              "      background-color: #3B4455;\n",
              "      fill: #D2E3FC;\n",
              "    }\n",
              "\n",
              "    [theme=dark] .colab-df-convert:hover {\n",
              "      background-color: #434B5C;\n",
              "      box-shadow: 0px 1px 3px 1px rgba(0, 0, 0, 0.15);\n",
              "      filter: drop-shadow(0px 1px 2px rgba(0, 0, 0, 0.3));\n",
              "      fill: #FFFFFF;\n",
              "    }\n",
              "  </style>\n",
              "\n",
              "      <script>\n",
              "        const buttonEl =\n",
              "          document.querySelector('#df-536f0ba5-36fc-4271-92bc-c565656e8b11 button.colab-df-convert');\n",
              "        buttonEl.style.display =\n",
              "          google.colab.kernel.accessAllowed ? 'block' : 'none';\n",
              "\n",
              "        async function convertToInteractive(key) {\n",
              "          const element = document.querySelector('#df-536f0ba5-36fc-4271-92bc-c565656e8b11');\n",
              "          const dataTable =\n",
              "            await google.colab.kernel.invokeFunction('convertToInteractive',\n",
              "                                                     [key], {});\n",
              "          if (!dataTable) return;\n",
              "\n",
              "          const docLinkHtml = 'Like what you see? Visit the ' +\n",
              "            '<a target=\"_blank\" href=https://colab.research.google.com/notebooks/data_table.ipynb>data table notebook</a>'\n",
              "            + ' to learn more about interactive tables.';\n",
              "          element.innerHTML = '';\n",
              "          dataTable['output_type'] = 'display_data';\n",
              "          await google.colab.output.renderOutput(dataTable, element);\n",
              "          const docLink = document.createElement('div');\n",
              "          docLink.innerHTML = docLinkHtml;\n",
              "          element.appendChild(docLink);\n",
              "        }\n",
              "      </script>\n",
              "    </div>\n",
              "  </div>\n",
              "  "
            ]
          },
          "metadata": {},
          "execution_count": 41
        }
      ]
    },
    {
      "cell_type": "code",
      "source": [
        "df['result_'].unique()"
      ],
      "metadata": {
        "colab": {
          "base_uri": "https://localhost:8080/"
        },
        "id": "w_jxJzGieECa",
        "outputId": "daaaaa3c-4d63-452a-85ff-c200476a230c"
      },
      "execution_count": null,
      "outputs": [
        {
          "output_type": "execute_result",
          "data": {
            "text/plain": [
              "array([3, 0, 1, 2])"
            ]
          },
          "metadata": {},
          "execution_count": 42
        }
      ]
    },
    {
      "cell_type": "code",
      "source": [
        "X_s = df[['step_', 'weather_state_','cause_type_']]\n",
        "X_s[:5]"
      ],
      "metadata": {
        "colab": {
          "base_uri": "https://localhost:8080/",
          "height": 206
        },
        "id": "pFoFsqRkjBBV",
        "outputId": "12fb50fa-767f-4bc2-acfb-f42856b72b4e"
      },
      "execution_count": null,
      "outputs": [
        {
          "output_type": "execute_result",
          "data": {
            "text/plain": [
              "   step_  weather_state_  cause_type_\n",
              "0      5               0            0\n",
              "1      0               0            0\n",
              "2      4               0            8\n",
              "3      4               0           10\n",
              "4      0               0            0"
            ],
            "text/html": [
              "\n",
              "  <div id=\"df-b20688c4-05bb-4dbe-bc23-e690a2e5d763\">\n",
              "    <div class=\"colab-df-container\">\n",
              "      <div>\n",
              "<style scoped>\n",
              "    .dataframe tbody tr th:only-of-type {\n",
              "        vertical-align: middle;\n",
              "    }\n",
              "\n",
              "    .dataframe tbody tr th {\n",
              "        vertical-align: top;\n",
              "    }\n",
              "\n",
              "    .dataframe thead th {\n",
              "        text-align: right;\n",
              "    }\n",
              "</style>\n",
              "<table border=\"1\" class=\"dataframe\">\n",
              "  <thead>\n",
              "    <tr style=\"text-align: right;\">\n",
              "      <th></th>\n",
              "      <th>step_</th>\n",
              "      <th>weather_state_</th>\n",
              "      <th>cause_type_</th>\n",
              "    </tr>\n",
              "  </thead>\n",
              "  <tbody>\n",
              "    <tr>\n",
              "      <th>0</th>\n",
              "      <td>5</td>\n",
              "      <td>0</td>\n",
              "      <td>0</td>\n",
              "    </tr>\n",
              "    <tr>\n",
              "      <th>1</th>\n",
              "      <td>0</td>\n",
              "      <td>0</td>\n",
              "      <td>0</td>\n",
              "    </tr>\n",
              "    <tr>\n",
              "      <th>2</th>\n",
              "      <td>4</td>\n",
              "      <td>0</td>\n",
              "      <td>8</td>\n",
              "    </tr>\n",
              "    <tr>\n",
              "      <th>3</th>\n",
              "      <td>4</td>\n",
              "      <td>0</td>\n",
              "      <td>10</td>\n",
              "    </tr>\n",
              "    <tr>\n",
              "      <th>4</th>\n",
              "      <td>0</td>\n",
              "      <td>0</td>\n",
              "      <td>0</td>\n",
              "    </tr>\n",
              "  </tbody>\n",
              "</table>\n",
              "</div>\n",
              "      <button class=\"colab-df-convert\" onclick=\"convertToInteractive('df-b20688c4-05bb-4dbe-bc23-e690a2e5d763')\"\n",
              "              title=\"Convert this dataframe to an interactive table.\"\n",
              "              style=\"display:none;\">\n",
              "        \n",
              "  <svg xmlns=\"http://www.w3.org/2000/svg\" height=\"24px\"viewBox=\"0 0 24 24\"\n",
              "       width=\"24px\">\n",
              "    <path d=\"M0 0h24v24H0V0z\" fill=\"none\"/>\n",
              "    <path d=\"M18.56 5.44l.94 2.06.94-2.06 2.06-.94-2.06-.94-.94-2.06-.94 2.06-2.06.94zm-11 1L8.5 8.5l.94-2.06 2.06-.94-2.06-.94L8.5 2.5l-.94 2.06-2.06.94zm10 10l.94 2.06.94-2.06 2.06-.94-2.06-.94-.94-2.06-.94 2.06-2.06.94z\"/><path d=\"M17.41 7.96l-1.37-1.37c-.4-.4-.92-.59-1.43-.59-.52 0-1.04.2-1.43.59L10.3 9.45l-7.72 7.72c-.78.78-.78 2.05 0 2.83L4 21.41c.39.39.9.59 1.41.59.51 0 1.02-.2 1.41-.59l7.78-7.78 2.81-2.81c.8-.78.8-2.07 0-2.86zM5.41 20L4 18.59l7.72-7.72 1.47 1.35L5.41 20z\"/>\n",
              "  </svg>\n",
              "      </button>\n",
              "      \n",
              "  <style>\n",
              "    .colab-df-container {\n",
              "      display:flex;\n",
              "      flex-wrap:wrap;\n",
              "      gap: 12px;\n",
              "    }\n",
              "\n",
              "    .colab-df-convert {\n",
              "      background-color: #E8F0FE;\n",
              "      border: none;\n",
              "      border-radius: 50%;\n",
              "      cursor: pointer;\n",
              "      display: none;\n",
              "      fill: #1967D2;\n",
              "      height: 32px;\n",
              "      padding: 0 0 0 0;\n",
              "      width: 32px;\n",
              "    }\n",
              "\n",
              "    .colab-df-convert:hover {\n",
              "      background-color: #E2EBFA;\n",
              "      box-shadow: 0px 1px 2px rgba(60, 64, 67, 0.3), 0px 1px 3px 1px rgba(60, 64, 67, 0.15);\n",
              "      fill: #174EA6;\n",
              "    }\n",
              "\n",
              "    [theme=dark] .colab-df-convert {\n",
              "      background-color: #3B4455;\n",
              "      fill: #D2E3FC;\n",
              "    }\n",
              "\n",
              "    [theme=dark] .colab-df-convert:hover {\n",
              "      background-color: #434B5C;\n",
              "      box-shadow: 0px 1px 3px 1px rgba(0, 0, 0, 0.15);\n",
              "      filter: drop-shadow(0px 1px 2px rgba(0, 0, 0, 0.3));\n",
              "      fill: #FFFFFF;\n",
              "    }\n",
              "  </style>\n",
              "\n",
              "      <script>\n",
              "        const buttonEl =\n",
              "          document.querySelector('#df-b20688c4-05bb-4dbe-bc23-e690a2e5d763 button.colab-df-convert');\n",
              "        buttonEl.style.display =\n",
              "          google.colab.kernel.accessAllowed ? 'block' : 'none';\n",
              "\n",
              "        async function convertToInteractive(key) {\n",
              "          const element = document.querySelector('#df-b20688c4-05bb-4dbe-bc23-e690a2e5d763');\n",
              "          const dataTable =\n",
              "            await google.colab.kernel.invokeFunction('convertToInteractive',\n",
              "                                                     [key], {});\n",
              "          if (!dataTable) return;\n",
              "\n",
              "          const docLinkHtml = 'Like what you see? Visit the ' +\n",
              "            '<a target=\"_blank\" href=https://colab.research.google.com/notebooks/data_table.ipynb>data table notebook</a>'\n",
              "            + ' to learn more about interactive tables.';\n",
              "          element.innerHTML = '';\n",
              "          dataTable['output_type'] = 'display_data';\n",
              "          await google.colab.output.renderOutput(dataTable, element);\n",
              "          const docLink = document.createElement('div');\n",
              "          docLink.innerHTML = docLinkHtml;\n",
              "          element.appendChild(docLink);\n",
              "        }\n",
              "      </script>\n",
              "    </div>\n",
              "  </div>\n",
              "  "
            ]
          },
          "metadata": {},
          "execution_count": 43
        }
      ]
    },
    {
      "cell_type": "code",
      "source": [
        "X_s.shape"
      ],
      "metadata": {
        "colab": {
          "base_uri": "https://localhost:8080/"
        },
        "id": "2P0XZGy-onBP",
        "outputId": "575d3f2b-a4da-4426-912b-a1b581543883"
      },
      "execution_count": null,
      "outputs": [
        {
          "output_type": "execute_result",
          "data": {
            "text/plain": [
              "(346, 3)"
            ]
          },
          "metadata": {},
          "execution_count": 44
        }
      ]
    },
    {
      "cell_type": "code",
      "source": [
        "y_s.shape"
      ],
      "metadata": {
        "colab": {
          "base_uri": "https://localhost:8080/"
        },
        "id": "CAzsIiHXopX3",
        "outputId": "b5953710-b33a-4e50-8db0-472fabb1707e"
      },
      "execution_count": null,
      "outputs": [
        {
          "output_type": "execute_result",
          "data": {
            "text/plain": [
              "(346,)"
            ]
          },
          "metadata": {},
          "execution_count": 45
        }
      ]
    },
    {
      "cell_type": "markdown",
      "source": [
        "\n",
        "\n",
        "---\n",
        "\n"
      ],
      "metadata": {
        "id": "krbdTWRCmTtX"
      }
    },
    {
      "cell_type": "code",
      "source": [
        "from sklearn.model_selection import train_test_split\n",
        "from sklearn.metrics import classification_report\n",
        "from sklearn.metrics import accuracy_score "
      ],
      "metadata": {
        "id": "ELUqPZ6gFFDT"
      },
      "execution_count": null,
      "outputs": []
    },
    {
      "cell_type": "markdown",
      "source": [
        "## อัลกอริทึมที่ใช้การทำนาย และจำแนกแยกแยะกลุ่ม ได้แก่\n",
        "\n",
        "  1. Naive Bayes\n",
        "  2. k-Nearest Neighbors \n",
        "  3. K-means Clustering \n",
        "  4. Decision Tree\n",
        "  5. Logistic Regression\n",
        "  6. Random Forest \n",
        "\n",
        "## การประเมินค่าทำนายแต่ละ Model\n",
        "ประเมิน Model ที่สร้างจากอัลกอริทึมต่างๆ เพื่อทดสอบความแม่นยำของการทำนาย Model ที่อยู่ในหมวด **Classification** หากค่าประเมินยิ่งมีค่าสูงก็ยิ่งดีเพราะแสดงให้เห็นว่า Model นั้นมีความแม่นยำมาก โดยจะแบ่งการประเมินเป็น 2 รอบ รอบแรกจะใช้ข้อมูลที่ได้จากการทำ train test split ซึ่งจะมีความแตกต่างกันไปของแต่ละ Model ในรอบสองจะใช้ข้อมูลจากการ train test split ชุดเดียวกันในการทดสอบเพื่อนำค่าประเมินนี้มาจัดอันดับModel ที่มีประสิทธิภาพโดยในส่วนนี้จะกล่าวถึงในลำดับถัดไป\n",
        "\n",
        "* ใช้ Accuracy และ Cross Validation ประเมิน Naive Bayes, k-Nearest Neighbors, Logistic Regression และ Random Forest \n",
        "* ใช้ Accuracy, Cross Validation และ Confusion Matrix ประเมิน Decision Tree\n",
        "\n",
        "\n",
        "  จากการทำประเมินพบว่าค่าประเมินที่ได้จาก Accuracy, Cross Validation และ Confusion Matrix นั้น**ไม่เท่ากัน**แม้จะประเมิน Model เดียวกัน เนื่องจาก 3 การทดสอบนี้มีเกณฑ์ในการประเมินที่ต่างกัน กล่าวคือ\n",
        "    \n",
        "  * Accuracy เป็นสัดส่วนเปอร์เซนต์ระหว่างจำนวนที่ทายถูกและจำนวนทั้งหมด โดยในที่นี้ จะใช้ y_test และ y_predict ของแต่ละ Model ในการทดสอบ\n",
        "  * Cross Validation เป็นการแบ่งข้อมูลออกเป็นกลุ่มจำนวน K ส่วน โดยข้อมูลแต่ละส่วนมาจากสุ่มเพื่อให้ข้อมูลกระจายเท่าๆกัน โดยใช้ X และ y ของแต่ละ Model ในการทดสอบ และกำหนดให้ CV มีค่าเท่ากับ 10 และสำหรับ Logistic Regression CV จะเท่ากับ 2 \n",
        "  * Confusion Matrix เป็นตารางที่ใช้ในการแสดงผลลัพธ์เปรียบเทียบระหว่างค่าจริง (Actual) และค่าที่ Model ทำนาย (Prediction) โดยใช้ y_test และ y_predict ของ Decision Tree มาประเมิน\n"
      ],
      "metadata": {
        "id": "SgBFyDQmlEoj"
      }
    },
    {
      "cell_type": "markdown",
      "source": [
        "### $\\color{violet}{\\text{1. Naive Bayes}}$ \n",
        "เป็นอัลกอริทึมเกี่ยวข้องกับความน่าจะเป็น สามารถใช้ได้ทั้งการจำแนกและ regression จุดเด่นคือเหมาะสำหรับลักษณะงานที่เป็น real time prediction เพราะอัลกอริทึมนี้ทำงานได้รวดเร็ว เช่น การวิเคราะห์ข้อความ ระบบแนะนำ\n",
        "\n",
        "ขั้นตอน\n",
        "1. แบ่งเป็น train 70% และ test 30% จากนั้นทำการ train \n",
        "2. สร้าง model กำหนดให้ใช้อัลกอริทึมของ Naive Bayes\n",
        "3. ทดสอบประเมินประสิทธิภาพ โดยใช้ Accuracy และ Cross Validation ตามลำดับ\n",
        "\n",
        "  เมื่อทดสอบประเมินประสิทธิภาพด้วย y_test แล้วจะได้ค่าประสิทธิภาพเพียง 2.885% ซึ่งถือว่าน้อยมาก ๆ (ในการรันโค้ดจะได้ค่าที่แตกต่างกันในแต่ละครั้ง) จากการทดสอบประสิทธิภาพที่ผ่านมา เมื่อทำหลาย ๆ รอบ จะพบว่าได้ค่าประสิทธิภาพที่แตกต่างกัน ดังนั้นจึงใช้วิธี cross validation มาทำการประเมิน ผลการประเมินได้ค่าความแม่นยำ 10 ค่า นำไปหาค่าเฉลี่ย จะได้ความแม่นยำของ Model นี้ เท่ากับ 3.748% ซึ่งยังคงถือว่าความแม่นยำน้อยมาก ทำให้ทราบได้ว่า**อัลกอรึทึมนี้ไม่เหมาะสม**\n"
      ],
      "metadata": {
        "id": "Vxevh54e_T0S"
      }
    },
    {
      "cell_type": "code",
      "source": [
        "from sklearn.naive_bayes import GaussianNB\n",
        "\n",
        "model1 = GaussianNB()\n",
        "X1 = df[['step_', 'weather_state_','cause_type_']]\n",
        "y1 = df['result_']\n",
        "X1_train, X1_test, y1_train, y1_test = train_test_split(X1, y1, test_size=0.3, random_state=7)"
      ],
      "metadata": {
        "id": "G3Pf9hR1_TU8"
      },
      "execution_count": null,
      "outputs": []
    },
    {
      "cell_type": "code",
      "source": [
        "model1.fit(X1_train, y1_train)"
      ],
      "metadata": {
        "colab": {
          "base_uri": "https://localhost:8080/"
        },
        "id": "TLGODLyhArmP",
        "outputId": "c3f17fb2-8a95-4c80-86b3-84e3e2762287"
      },
      "execution_count": null,
      "outputs": [
        {
          "output_type": "execute_result",
          "data": {
            "text/plain": [
              "GaussianNB()"
            ]
          },
          "metadata": {},
          "execution_count": 48
        }
      ]
    },
    {
      "cell_type": "code",
      "source": [
        "y1_predict = model1.predict(X1_test)"
      ],
      "metadata": {
        "id": "u6wYAv_yAxI2"
      },
      "execution_count": null,
      "outputs": []
    },
    {
      "cell_type": "markdown",
      "source": [
        "### ประเมิน Model Naive Bayes"
      ],
      "metadata": {
        "id": "IGJFSCESnMGc"
      }
    },
    {
      "cell_type": "code",
      "source": [
        "print('Accuracy %:{:.3f}'.format(accuracy_score(y1_test, y1_predict)*100))"
      ],
      "metadata": {
        "colab": {
          "base_uri": "https://localhost:8080/"
        },
        "id": "1eeGZaEeCRY1",
        "outputId": "3bde61ce-13b2-442a-b2d2-623b299a7b89"
      },
      "execution_count": null,
      "outputs": [
        {
          "output_type": "stream",
          "name": "stdout",
          "text": [
            "Accuracy %:2.885\n"
          ]
        }
      ]
    },
    {
      "cell_type": "code",
      "source": [
        "from sklearn.model_selection import cross_val_score\n",
        "\n",
        "cvs = cross_val_score(model1, X1, y1, cv = 10) \n",
        "print('cross val scores {}'.format(cvs.round(3)))\n",
        "print('mean = {:.3f}'.format(cvs.mean()*100))"
      ],
      "metadata": {
        "colab": {
          "base_uri": "https://localhost:8080/"
        },
        "id": "XrEEgTm9nSzD",
        "outputId": "91fcc39e-4de0-427c-ce99-97c5551e0cfc"
      },
      "execution_count": null,
      "outputs": [
        {
          "output_type": "stream",
          "name": "stdout",
          "text": [
            "cross val scores [0.086 0.057 0.029 0.029 0.029 0.029 0.    0.    0.029 0.088]\n",
            "mean = 3.748\n"
          ]
        },
        {
          "output_type": "stream",
          "name": "stderr",
          "text": [
            "/usr/local/lib/python3.7/dist-packages/sklearn/model_selection/_split.py:680: UserWarning: The least populated class in y has only 3 members, which is less than n_splits=10.\n",
            "  UserWarning,\n"
          ]
        }
      ]
    },
    {
      "cell_type": "markdown",
      "source": [
        "### $\\color{violet}{\\text{2. k-Nearest Neighbors}}$ \n",
        "k-Nearest Neighbors เป็นอัลกอริทึมสามารถใช้กับงานลักษณะ classification และ regression ได้ หลักการทำงานคือการเทียบหาข้อมูลจุดใหม่ ถ้าพบว่าอยู่ใกล้กับกลุ่มไหนก็จะจัดให้ข้อมูลใหม่อยู่ในกลุ่มนั้น nearest neighbors เป็นการจัดให้เข้ากลุ่มกับสิ่งที่ใกล้ที่สุด ซึ่งค่า k เป็นตัวกำหนดว่าจะเทียบหาจุดใกล้เคียงกี่จุด นอกจากนี้สามารถปรับค่าของ model โดยการกำหนดค่า n_neighbors ค่าต่าง ๆได้\n",
        "\n",
        "ขั้นตอน\n",
        "1. แบ่งเป็น train 70% และ test 30% จากนั้นทำการ train \n",
        "2. สร้าง modelกำหนดให้ใช้อัลกอริทึมของ k-Nearest Neighbors \n",
        "3. กำหนดค่า n_neighbors ทดลองค่าต่าง ๆ เช่น 1 3 5 แล้วนำมาเปรียบเทียบกัน \n",
        "\n",
        "  เมื่อนำมาเทียบกันพบว่า n_neighbors = 5 จะดีที่สุด \n",
        "4. ทดสอบประเมินประสิทธิภาพ โดยใช้ Accuracy และ Cross Validation ตามลำดับ\n",
        "\n",
        "  เมื่อทดสอบประเมินประสิทธิภาพด้วยตัว test แล้วจะได้ค่าประสิทธิภาพ 52.885%\n",
        "  จากนั้นทำการประเมินทดสอบประสิทธิภาพด้วย cross validation โดยใช้ cv = 10 ผลการประเมินจะได้ค่าความแม่นยำ 10 ค่า จากนั้นนำไปหาค่าเฉลี่ยจะได้ว่าความแม่นยำคือ 58.437% ซึ่งถือว่าความแม่นยำยังไม่มากนัก \n"
      ],
      "metadata": {
        "id": "fy-IA6dN2TDr"
      }
    },
    {
      "cell_type": "code",
      "source": [
        "from sklearn.neighbors import KNeighborsClassifier\n",
        "model2 = KNeighborsClassifier(n_neighbors=3)"
      ],
      "metadata": {
        "id": "Cu0vfPfq1HOi"
      },
      "execution_count": null,
      "outputs": []
    },
    {
      "cell_type": "code",
      "source": [
        "model2_1 = KNeighborsClassifier(n_neighbors=1)\n",
        "model2_2 = KNeighborsClassifier(n_neighbors=5)"
      ],
      "metadata": {
        "id": "VQr41f2S2YXM"
      },
      "execution_count": null,
      "outputs": []
    },
    {
      "cell_type": "code",
      "source": [
        "X2 = df[['step_', 'weather_state_','cause_type_']]\n",
        "y2 = df.result_"
      ],
      "metadata": {
        "id": "TGNSV8Gc7tEw"
      },
      "execution_count": null,
      "outputs": []
    },
    {
      "cell_type": "code",
      "source": [
        "X2_train, X2_test, y2_train, y2_test = train_test_split(X2, y2, test_size=0.3, random_state=7)"
      ],
      "metadata": {
        "id": "z6lnU3fH9jqv"
      },
      "execution_count": null,
      "outputs": []
    },
    {
      "cell_type": "code",
      "source": [
        "model2.fit(X2_train, y2_train)\n",
        "y2_predict = model2.predict(X2_test)"
      ],
      "metadata": {
        "id": "IwGCHB9k2hkr"
      },
      "execution_count": null,
      "outputs": []
    },
    {
      "cell_type": "code",
      "source": [
        "model2_1.fit(X2_train, y2_train)\n",
        "model2_2.fit(X2_train, y2_train)"
      ],
      "metadata": {
        "colab": {
          "base_uri": "https://localhost:8080/"
        },
        "id": "7peyz1wu78-j",
        "outputId": "69f74d38-37f3-4a16-d020-4ed53a1949d6"
      },
      "execution_count": null,
      "outputs": [
        {
          "output_type": "execute_result",
          "data": {
            "text/plain": [
              "KNeighborsClassifier()"
            ]
          },
          "metadata": {},
          "execution_count": 57
        }
      ]
    },
    {
      "cell_type": "code",
      "source": [
        "score1 = model2.score(X2_test, y2_test).round(3)\n",
        "score2 = model2_1.score(X2_test, y2_test).round(3)\n",
        "score3 = model2_2.score(X2_test, y2_test).round(3)\n",
        "print('Accuracy % n_neighbors=3: {}, n_neighbors=1: {}, n_neighbors=5: {}'.format(score1, score2, score3))"
      ],
      "metadata": {
        "colab": {
          "base_uri": "https://localhost:8080/"
        },
        "id": "EOrGQbyB-k24",
        "outputId": "2a929708-82ec-4300-a5b9-47f4e6b5ef58"
      },
      "execution_count": null,
      "outputs": [
        {
          "output_type": "stream",
          "name": "stdout",
          "text": [
            "Accuracy % n_neighbors=3: 0.529, n_neighbors=1: 0.404, n_neighbors=5: 0.548\n"
          ]
        }
      ]
    },
    {
      "cell_type": "markdown",
      "source": [
        "### ประเมิน Model k-Nearest Neighbors"
      ],
      "metadata": {
        "id": "QkIlIb0bSHDn"
      }
    },
    {
      "cell_type": "code",
      "source": [
        "print('Accuracy %:{:.3f}'.format(accuracy_score(y2_test, y2_predict)*100))"
      ],
      "metadata": {
        "colab": {
          "base_uri": "https://localhost:8080/"
        },
        "id": "c0uOOMM28BTb",
        "outputId": "cb18c5f5-b4d6-4fff-adfc-24e576c45699"
      },
      "execution_count": null,
      "outputs": [
        {
          "output_type": "stream",
          "name": "stdout",
          "text": [
            "Accuracy %:52.885\n"
          ]
        }
      ]
    },
    {
      "cell_type": "code",
      "source": [
        "cvs2 = cross_val_score(model2, X2, y2, cv=10)\n",
        "print('cross val scores {}'.format(cvs2.round(3)))\n",
        "print('mean (%) = {:.3f}'.format(cvs2.mean() *100))"
      ],
      "metadata": {
        "id": "DHR5zRYa2ms9",
        "colab": {
          "base_uri": "https://localhost:8080/"
        },
        "outputId": "755727fa-d72f-4307-970f-12f88a1e4362"
      },
      "execution_count": null,
      "outputs": [
        {
          "output_type": "stream",
          "name": "stdout",
          "text": [
            "cross val scores [0.543 0.571 0.486 0.714 0.486 0.514 0.618 0.676 0.706 0.529]\n",
            "mean (%) = 58.437\n"
          ]
        },
        {
          "output_type": "stream",
          "name": "stderr",
          "text": [
            "/usr/local/lib/python3.7/dist-packages/sklearn/model_selection/_split.py:680: UserWarning: The least populated class in y has only 3 members, which is less than n_splits=10.\n",
            "  UserWarning,\n"
          ]
        }
      ]
    },
    {
      "cell_type": "markdown",
      "source": [
        "### $\\color{violet}{\\text{3. K-means Clustering}}$ \n",
        "k-means เป็นอัลกอริทึมจัดกลุ่มประเภท unsupervised machine learning ใช้สำหรับการจัดกลุ่ม ภาพรวมของอัลกอริทึมนี้คือการแบ่งกลุ่มตามที่กำหนดด้วยค่า k โดยให้จุดข้อมูลที่อยู่ใกล้กันจัดเป็นกลุ่มเดียวกัน โดยมีหลักการทำงานหลาย ๆ รอบในแต่ละรอบจะมีการรวมชุดข้อมูลที่คล้ายกันให้อยู่กลุ่มเดียวกัน การพิจารณาว่าข้อมูลใดที่คล้ายกันจะอาศัยการวัดระยะห่างจากข้อมูลกับค่ากลางของข้อมูล \n",
        "\n",
        "ในการทำ K-means Clustering ใช้เฉพาะข้อมูล X เท่านั้นเพราะเป็นการจัดกลุ่มแบบ *unsupervised machine learning* \n",
        "\n",
        "ขั้นตอน มีดังนี้"
      ],
      "metadata": {
        "id": "yxUhxJtMiNr7"
      }
    },
    {
      "cell_type": "code",
      "source": [
        "print(y.unique())"
      ],
      "metadata": {
        "colab": {
          "base_uri": "https://localhost:8080/"
        },
        "id": "mPikRQYpa3iO",
        "outputId": "9f9ea117-f1d0-4d1b-d406-1851b9371ea3"
      },
      "execution_count": null,
      "outputs": [
        {
          "output_type": "stream",
          "name": "stdout",
          "text": [
            "['No Injuries and Death' 'Have Death' 'Have Injuries'\n",
            " 'Have Injuries and Death']\n"
          ]
        }
      ]
    },
    {
      "cell_type": "code",
      "source": [
        "X3 = df[['step_', 'weather_state_','cause_type_']]\n",
        "y3 = df.result_"
      ],
      "metadata": {
        "id": "5hil7yWBFUFh"
      },
      "execution_count": null,
      "outputs": []
    },
    {
      "cell_type": "markdown",
      "source": [
        "ทำการตรวจสอบว่า y มีกี่กลุ่ม เพื่อที่จะกำหนดจำนวนกลุ่ม (Cluster) ตอนสั่งสร้าง Model จะได้ว่ามีข้อมูล 4 กลุ่ม คือ Have Death, Have Injuries, Have Injuries and Death, No Injuries and Death จึงกำหนดให้ k=4"
      ],
      "metadata": {
        "id": "8zHqG75_sYIx"
      }
    },
    {
      "cell_type": "code",
      "source": [
        "from sklearn.cluster import KMeans\n",
        "model3 = KMeans(n_clusters=4)"
      ],
      "metadata": {
        "id": "vK4ak5HTfMDb"
      },
      "execution_count": null,
      "outputs": []
    },
    {
      "cell_type": "code",
      "source": [
        "y_kmeans = model3.fit_predict(X3)"
      ],
      "metadata": {
        "id": "UYXgnBJAFjt4"
      },
      "execution_count": null,
      "outputs": []
    },
    {
      "cell_type": "markdown",
      "source": [
        "ค่า y_kmeans เป็นเลขกำกับกลุ่มที่ระบบกำกับไว้ให้ เพื่อให้เห็นชัดเจนจึงสั่งค่าเก็บไว้ใน df แล้วดู Cluster ภายหลัง"
      ],
      "metadata": {
        "id": "jB311QSst80g"
      }
    },
    {
      "cell_type": "code",
      "source": [
        "df['cluster'] = y_kmeans\n",
        "df.head()"
      ],
      "metadata": {
        "id": "dffW5cxafP-e",
        "colab": {
          "base_uri": "https://localhost:8080/",
          "height": 560
        },
        "outputId": "b42141b2-5098-4c9a-e95f-e6f7bf2f329c"
      },
      "execution_count": null,
      "outputs": [
        {
          "output_type": "execute_result",
          "data": {
            "text/plain": [
              "  accident_date accident_time                 step weather_state  injur_man  \\\n",
              "0    2022-02-28      16:50:50  ศรีรัช-วงแหวนรอบนอก          ปกติ          0   \n",
              "1    2022-02-26      23:34:34              ฉลองรัช          ปกติ          0   \n",
              "2    2022-02-25      09:31:31               ศรีรัช          ปกติ          0   \n",
              "3    2022-02-25      21:55:55               ศรีรัช          ปกติ          0   \n",
              "4    2022-02-25      00:38:38              ฉลองรัช          ปกติ          0   \n",
              "\n",
              "   injur_female  dead_man  dead_female               cause_type  sum_injur  \\\n",
              "0             0         0            0           ขับรถโดยประมาท          0   \n",
              "1             0         0            0           ขับรถโดยประมาท          0   \n",
              "2             0         0            0       เครื่องยนต์ขัดข้อง          0   \n",
              "3             0         0            0  เปลี่ยนช่องทางกระทันหัน          0   \n",
              "4             0         0            0           ขับรถโดยประมาท          0   \n",
              "\n",
              "   ...                 result day  month  year       hours step_  \\\n",
              "0  ...  No Injuries and Death  28      2  2022     Evening     5   \n",
              "1  ...  No Injuries and Death  26      2  2022       Night     0   \n",
              "2  ...  No Injuries and Death  25      2  2022     Morning     4   \n",
              "3  ...  No Injuries and Death  25      2  2022       Night     4   \n",
              "4  ...  No Injuries and Death  25      2  2022  Late Night     0   \n",
              "\n",
              "   weather_state_  cause_type_  result_  cluster  \n",
              "0               0            0        3        2  \n",
              "1               0            0        3        1  \n",
              "2               0            8        3        0  \n",
              "3               0           10        3        0  \n",
              "4               0            0        3        1  \n",
              "\n",
              "[5 rows x 21 columns]"
            ],
            "text/html": [
              "\n",
              "  <div id=\"df-3ad51cbd-b08b-4ca6-86bc-6dced1e595ae\">\n",
              "    <div class=\"colab-df-container\">\n",
              "      <div>\n",
              "<style scoped>\n",
              "    .dataframe tbody tr th:only-of-type {\n",
              "        vertical-align: middle;\n",
              "    }\n",
              "\n",
              "    .dataframe tbody tr th {\n",
              "        vertical-align: top;\n",
              "    }\n",
              "\n",
              "    .dataframe thead th {\n",
              "        text-align: right;\n",
              "    }\n",
              "</style>\n",
              "<table border=\"1\" class=\"dataframe\">\n",
              "  <thead>\n",
              "    <tr style=\"text-align: right;\">\n",
              "      <th></th>\n",
              "      <th>accident_date</th>\n",
              "      <th>accident_time</th>\n",
              "      <th>step</th>\n",
              "      <th>weather_state</th>\n",
              "      <th>injur_man</th>\n",
              "      <th>injur_female</th>\n",
              "      <th>dead_man</th>\n",
              "      <th>dead_female</th>\n",
              "      <th>cause_type</th>\n",
              "      <th>sum_injur</th>\n",
              "      <th>...</th>\n",
              "      <th>result</th>\n",
              "      <th>day</th>\n",
              "      <th>month</th>\n",
              "      <th>year</th>\n",
              "      <th>hours</th>\n",
              "      <th>step_</th>\n",
              "      <th>weather_state_</th>\n",
              "      <th>cause_type_</th>\n",
              "      <th>result_</th>\n",
              "      <th>cluster</th>\n",
              "    </tr>\n",
              "  </thead>\n",
              "  <tbody>\n",
              "    <tr>\n",
              "      <th>0</th>\n",
              "      <td>2022-02-28</td>\n",
              "      <td>16:50:50</td>\n",
              "      <td>ศรีรัช-วงแหวนรอบนอก</td>\n",
              "      <td>ปกติ</td>\n",
              "      <td>0</td>\n",
              "      <td>0</td>\n",
              "      <td>0</td>\n",
              "      <td>0</td>\n",
              "      <td>ขับรถโดยประมาท</td>\n",
              "      <td>0</td>\n",
              "      <td>...</td>\n",
              "      <td>No Injuries and Death</td>\n",
              "      <td>28</td>\n",
              "      <td>2</td>\n",
              "      <td>2022</td>\n",
              "      <td>Evening</td>\n",
              "      <td>5</td>\n",
              "      <td>0</td>\n",
              "      <td>0</td>\n",
              "      <td>3</td>\n",
              "      <td>2</td>\n",
              "    </tr>\n",
              "    <tr>\n",
              "      <th>1</th>\n",
              "      <td>2022-02-26</td>\n",
              "      <td>23:34:34</td>\n",
              "      <td>ฉลองรัช</td>\n",
              "      <td>ปกติ</td>\n",
              "      <td>0</td>\n",
              "      <td>0</td>\n",
              "      <td>0</td>\n",
              "      <td>0</td>\n",
              "      <td>ขับรถโดยประมาท</td>\n",
              "      <td>0</td>\n",
              "      <td>...</td>\n",
              "      <td>No Injuries and Death</td>\n",
              "      <td>26</td>\n",
              "      <td>2</td>\n",
              "      <td>2022</td>\n",
              "      <td>Night</td>\n",
              "      <td>0</td>\n",
              "      <td>0</td>\n",
              "      <td>0</td>\n",
              "      <td>3</td>\n",
              "      <td>1</td>\n",
              "    </tr>\n",
              "    <tr>\n",
              "      <th>2</th>\n",
              "      <td>2022-02-25</td>\n",
              "      <td>09:31:31</td>\n",
              "      <td>ศรีรัช</td>\n",
              "      <td>ปกติ</td>\n",
              "      <td>0</td>\n",
              "      <td>0</td>\n",
              "      <td>0</td>\n",
              "      <td>0</td>\n",
              "      <td>เครื่องยนต์ขัดข้อง</td>\n",
              "      <td>0</td>\n",
              "      <td>...</td>\n",
              "      <td>No Injuries and Death</td>\n",
              "      <td>25</td>\n",
              "      <td>2</td>\n",
              "      <td>2022</td>\n",
              "      <td>Morning</td>\n",
              "      <td>4</td>\n",
              "      <td>0</td>\n",
              "      <td>8</td>\n",
              "      <td>3</td>\n",
              "      <td>0</td>\n",
              "    </tr>\n",
              "    <tr>\n",
              "      <th>3</th>\n",
              "      <td>2022-02-25</td>\n",
              "      <td>21:55:55</td>\n",
              "      <td>ศรีรัช</td>\n",
              "      <td>ปกติ</td>\n",
              "      <td>0</td>\n",
              "      <td>0</td>\n",
              "      <td>0</td>\n",
              "      <td>0</td>\n",
              "      <td>เปลี่ยนช่องทางกระทันหัน</td>\n",
              "      <td>0</td>\n",
              "      <td>...</td>\n",
              "      <td>No Injuries and Death</td>\n",
              "      <td>25</td>\n",
              "      <td>2</td>\n",
              "      <td>2022</td>\n",
              "      <td>Night</td>\n",
              "      <td>4</td>\n",
              "      <td>0</td>\n",
              "      <td>10</td>\n",
              "      <td>3</td>\n",
              "      <td>0</td>\n",
              "    </tr>\n",
              "    <tr>\n",
              "      <th>4</th>\n",
              "      <td>2022-02-25</td>\n",
              "      <td>00:38:38</td>\n",
              "      <td>ฉลองรัช</td>\n",
              "      <td>ปกติ</td>\n",
              "      <td>0</td>\n",
              "      <td>0</td>\n",
              "      <td>0</td>\n",
              "      <td>0</td>\n",
              "      <td>ขับรถโดยประมาท</td>\n",
              "      <td>0</td>\n",
              "      <td>...</td>\n",
              "      <td>No Injuries and Death</td>\n",
              "      <td>25</td>\n",
              "      <td>2</td>\n",
              "      <td>2022</td>\n",
              "      <td>Late Night</td>\n",
              "      <td>0</td>\n",
              "      <td>0</td>\n",
              "      <td>0</td>\n",
              "      <td>3</td>\n",
              "      <td>1</td>\n",
              "    </tr>\n",
              "  </tbody>\n",
              "</table>\n",
              "<p>5 rows × 21 columns</p>\n",
              "</div>\n",
              "      <button class=\"colab-df-convert\" onclick=\"convertToInteractive('df-3ad51cbd-b08b-4ca6-86bc-6dced1e595ae')\"\n",
              "              title=\"Convert this dataframe to an interactive table.\"\n",
              "              style=\"display:none;\">\n",
              "        \n",
              "  <svg xmlns=\"http://www.w3.org/2000/svg\" height=\"24px\"viewBox=\"0 0 24 24\"\n",
              "       width=\"24px\">\n",
              "    <path d=\"M0 0h24v24H0V0z\" fill=\"none\"/>\n",
              "    <path d=\"M18.56 5.44l.94 2.06.94-2.06 2.06-.94-2.06-.94-.94-2.06-.94 2.06-2.06.94zm-11 1L8.5 8.5l.94-2.06 2.06-.94-2.06-.94L8.5 2.5l-.94 2.06-2.06.94zm10 10l.94 2.06.94-2.06 2.06-.94-2.06-.94-.94-2.06-.94 2.06-2.06.94z\"/><path d=\"M17.41 7.96l-1.37-1.37c-.4-.4-.92-.59-1.43-.59-.52 0-1.04.2-1.43.59L10.3 9.45l-7.72 7.72c-.78.78-.78 2.05 0 2.83L4 21.41c.39.39.9.59 1.41.59.51 0 1.02-.2 1.41-.59l7.78-7.78 2.81-2.81c.8-.78.8-2.07 0-2.86zM5.41 20L4 18.59l7.72-7.72 1.47 1.35L5.41 20z\"/>\n",
              "  </svg>\n",
              "      </button>\n",
              "      \n",
              "  <style>\n",
              "    .colab-df-container {\n",
              "      display:flex;\n",
              "      flex-wrap:wrap;\n",
              "      gap: 12px;\n",
              "    }\n",
              "\n",
              "    .colab-df-convert {\n",
              "      background-color: #E8F0FE;\n",
              "      border: none;\n",
              "      border-radius: 50%;\n",
              "      cursor: pointer;\n",
              "      display: none;\n",
              "      fill: #1967D2;\n",
              "      height: 32px;\n",
              "      padding: 0 0 0 0;\n",
              "      width: 32px;\n",
              "    }\n",
              "\n",
              "    .colab-df-convert:hover {\n",
              "      background-color: #E2EBFA;\n",
              "      box-shadow: 0px 1px 2px rgba(60, 64, 67, 0.3), 0px 1px 3px 1px rgba(60, 64, 67, 0.15);\n",
              "      fill: #174EA6;\n",
              "    }\n",
              "\n",
              "    [theme=dark] .colab-df-convert {\n",
              "      background-color: #3B4455;\n",
              "      fill: #D2E3FC;\n",
              "    }\n",
              "\n",
              "    [theme=dark] .colab-df-convert:hover {\n",
              "      background-color: #434B5C;\n",
              "      box-shadow: 0px 1px 3px 1px rgba(0, 0, 0, 0.15);\n",
              "      filter: drop-shadow(0px 1px 2px rgba(0, 0, 0, 0.3));\n",
              "      fill: #FFFFFF;\n",
              "    }\n",
              "  </style>\n",
              "\n",
              "      <script>\n",
              "        const buttonEl =\n",
              "          document.querySelector('#df-3ad51cbd-b08b-4ca6-86bc-6dced1e595ae button.colab-df-convert');\n",
              "        buttonEl.style.display =\n",
              "          google.colab.kernel.accessAllowed ? 'block' : 'none';\n",
              "\n",
              "        async function convertToInteractive(key) {\n",
              "          const element = document.querySelector('#df-3ad51cbd-b08b-4ca6-86bc-6dced1e595ae');\n",
              "          const dataTable =\n",
              "            await google.colab.kernel.invokeFunction('convertToInteractive',\n",
              "                                                     [key], {});\n",
              "          if (!dataTable) return;\n",
              "\n",
              "          const docLinkHtml = 'Like what you see? Visit the ' +\n",
              "            '<a target=\"_blank\" href=https://colab.research.google.com/notebooks/data_table.ipynb>data table notebook</a>'\n",
              "            + ' to learn more about interactive tables.';\n",
              "          element.innerHTML = '';\n",
              "          dataTable['output_type'] = 'display_data';\n",
              "          await google.colab.output.renderOutput(dataTable, element);\n",
              "          const docLink = document.createElement('div');\n",
              "          docLink.innerHTML = docLinkHtml;\n",
              "          element.appendChild(docLink);\n",
              "        }\n",
              "      </script>\n",
              "    </div>\n",
              "  </div>\n",
              "  "
            ]
          },
          "metadata": {},
          "execution_count": 65
        }
      ]
    },
    {
      "cell_type": "markdown",
      "source": [
        "ข้อมูลหลังการจัดกลุ่มด้วย k-means จะได้ค่าคอลัมน์ Cluster เพิ่มมาใหม่ โดยคอลัมน์นี้แสดงเลขกลุ่มที่ระบบจัดให้ เช่น ลำดับที่ 0 อยู่กลุ่ม 0 ซึ่งจะยังไม่รู้ว่าเลข Cluster อะไรคือ result อะไร "
      ],
      "metadata": {
        "id": "rhn9AD5iuUqA"
      }
    },
    {
      "cell_type": "code",
      "source": [
        "model3.cluster_centers_"
      ],
      "metadata": {
        "id": "5YSbsY1Ll4fO",
        "colab": {
          "base_uri": "https://localhost:8080/"
        },
        "outputId": "f3541861-e510-4766-b619-148ee9cea2d6"
      },
      "execution_count": null,
      "outputs": [
        {
          "output_type": "execute_result",
          "data": {
            "text/plain": [
              "array([[5.02325581, 0.04651163, 9.39534884],\n",
              "       [1.61904762, 0.02857143, 0.79047619],\n",
              "       [5.51020408, 0.05102041, 0.52040816],\n",
              "       [1.15789474, 0.01754386, 8.57894737]])"
            ]
          },
          "metadata": {},
          "execution_count": 66
        }
      ]
    },
    {
      "cell_type": "markdown",
      "source": [
        "จะได้ค่า array ของจุดศูนย์กลางของแต่ละกลุ่ม รวม 4 กลุ่ม"
      ],
      "metadata": {
        "id": "RQ0UAIwe0nY6"
      }
    },
    {
      "cell_type": "code",
      "source": [
        "x_centroids = model3.cluster_centers_[:,0]\n",
        "y_centroids = model3.cluster_centers_[:,1]"
      ],
      "metadata": {
        "id": "wcCnVbPkl6-y"
      },
      "execution_count": null,
      "outputs": []
    },
    {
      "cell_type": "markdown",
      "source": [
        "ทำกราฟเพื่อดูจุดศูนย์กลางของแต่ละกลุ่ม พบว่าข้อมูลกระจายกันมาก"
      ],
      "metadata": {
        "id": "nYblivShvXys"
      }
    },
    {
      "cell_type": "code",
      "source": [
        "color_dict = dict({0:'blue',\n",
        "                  1:'red',\n",
        "                  2: 'g',\n",
        "                  3: 'purple' })\n",
        "\n",
        "centroid_colors=['r','b','m', 'g']\n",
        "sns.scatterplot('step_','cause_type_',data=df,hue='cluster', palette=color_dict, s=80)\n",
        "plt.scatter(x_centroids, y_centroids,s=1200, marker='x', c=centroid_colors)\n",
        "plt.title('k-Means Clustering')\n",
        "\n",
        "plt.show()"
      ],
      "metadata": {
        "id": "PUEmlf0y6Xp-",
        "colab": {
          "base_uri": "https://localhost:8080/",
          "height": 349
        },
        "outputId": "d2541b4f-3419-49c5-a48b-d84a03979515"
      },
      "execution_count": null,
      "outputs": [
        {
          "output_type": "stream",
          "name": "stderr",
          "text": [
            "/usr/local/lib/python3.7/dist-packages/seaborn/_decorators.py:43: FutureWarning: Pass the following variables as keyword args: x, y. From version 0.12, the only valid positional argument will be `data`, and passing other arguments without an explicit keyword will result in an error or misinterpretation.\n",
            "  FutureWarning\n"
          ]
        },
        {
          "output_type": "display_data",
          "data": {
            "text/plain": [
              "<Figure size 432x288 with 1 Axes>"
            ],
            "image/png": "[encoded data removed]"
          },
          "metadata": {
            "image/png": {
              "width": 382,
              "height": 277
            },
            "needs_background": "light"
          }
        }
      ]
    },
    {
      "cell_type": "code",
      "source": [
        "pvt = df.pivot_table(index='result',columns=['cluster'], values='weather_state_',\n",
        "                     fill_value=0, aggfunc='count')\n",
        "pvt "
      ],
      "metadata": {
        "colab": {
          "base_uri": "https://localhost:8080/",
          "height": 206
        },
        "id": "iRlQhTYfEipR",
        "outputId": "94aa4e2d-bdac-46b3-eef7-e4adb738c6dd"
      },
      "execution_count": null,
      "outputs": [
        {
          "output_type": "execute_result",
          "data": {
            "text/plain": [
              "cluster                   0   1   2   3\n",
              "result                                 \n",
              "Have Death                3   0   2   0\n",
              "Have Injuries            28  47  30  15\n",
              "Have Injuries and Death   0   1   2   0\n",
              "No Injuries and Death    55  57  64  42"
            ],
            "text/html": [
              "\n",
              "  <div id=\"df-1e72d21c-4124-4a1c-acb4-3cde8789aefd\">\n",
              "    <div class=\"colab-df-container\">\n",
              "      <div>\n",
              "<style scoped>\n",
              "    .dataframe tbody tr th:only-of-type {\n",
              "        vertical-align: middle;\n",
              "    }\n",
              "\n",
              "    .dataframe tbody tr th {\n",
              "        vertical-align: top;\n",
              "    }\n",
              "\n",
              "    .dataframe thead th {\n",
              "        text-align: right;\n",
              "    }\n",
              "</style>\n",
              "<table border=\"1\" class=\"dataframe\">\n",
              "  <thead>\n",
              "    <tr style=\"text-align: right;\">\n",
              "      <th>cluster</th>\n",
              "      <th>0</th>\n",
              "      <th>1</th>\n",
              "      <th>2</th>\n",
              "      <th>3</th>\n",
              "    </tr>\n",
              "    <tr>\n",
              "      <th>result</th>\n",
              "      <th></th>\n",
              "      <th></th>\n",
              "      <th></th>\n",
              "      <th></th>\n",
              "    </tr>\n",
              "  </thead>\n",
              "  <tbody>\n",
              "    <tr>\n",
              "      <th>Have Death</th>\n",
              "      <td>3</td>\n",
              "      <td>0</td>\n",
              "      <td>2</td>\n",
              "      <td>0</td>\n",
              "    </tr>\n",
              "    <tr>\n",
              "      <th>Have Injuries</th>\n",
              "      <td>28</td>\n",
              "      <td>47</td>\n",
              "      <td>30</td>\n",
              "      <td>15</td>\n",
              "    </tr>\n",
              "    <tr>\n",
              "      <th>Have Injuries and Death</th>\n",
              "      <td>0</td>\n",
              "      <td>1</td>\n",
              "      <td>2</td>\n",
              "      <td>0</td>\n",
              "    </tr>\n",
              "    <tr>\n",
              "      <th>No Injuries and Death</th>\n",
              "      <td>55</td>\n",
              "      <td>57</td>\n",
              "      <td>64</td>\n",
              "      <td>42</td>\n",
              "    </tr>\n",
              "  </tbody>\n",
              "</table>\n",
              "</div>\n",
              "      <button class=\"colab-df-convert\" onclick=\"convertToInteractive('df-1e72d21c-4124-4a1c-acb4-3cde8789aefd')\"\n",
              "              title=\"Convert this dataframe to an interactive table.\"\n",
              "              style=\"display:none;\">\n",
              "        \n",
              "  <svg xmlns=\"http://www.w3.org/2000/svg\" height=\"24px\"viewBox=\"0 0 24 24\"\n",
              "       width=\"24px\">\n",
              "    <path d=\"M0 0h24v24H0V0z\" fill=\"none\"/>\n",
              "    <path d=\"M18.56 5.44l.94 2.06.94-2.06 2.06-.94-2.06-.94-.94-2.06-.94 2.06-2.06.94zm-11 1L8.5 8.5l.94-2.06 2.06-.94-2.06-.94L8.5 2.5l-.94 2.06-2.06.94zm10 10l.94 2.06.94-2.06 2.06-.94-2.06-.94-.94-2.06-.94 2.06-2.06.94z\"/><path d=\"M17.41 7.96l-1.37-1.37c-.4-.4-.92-.59-1.43-.59-.52 0-1.04.2-1.43.59L10.3 9.45l-7.72 7.72c-.78.78-.78 2.05 0 2.83L4 21.41c.39.39.9.59 1.41.59.51 0 1.02-.2 1.41-.59l7.78-7.78 2.81-2.81c.8-.78.8-2.07 0-2.86zM5.41 20L4 18.59l7.72-7.72 1.47 1.35L5.41 20z\"/>\n",
              "  </svg>\n",
              "      </button>\n",
              "      \n",
              "  <style>\n",
              "    .colab-df-container {\n",
              "      display:flex;\n",
              "      flex-wrap:wrap;\n",
              "      gap: 12px;\n",
              "    }\n",
              "\n",
              "    .colab-df-convert {\n",
              "      background-color: #E8F0FE;\n",
              "      border: none;\n",
              "      border-radius: 50%;\n",
              "      cursor: pointer;\n",
              "      display: none;\n",
              "      fill: #1967D2;\n",
              "      height: 32px;\n",
              "      padding: 0 0 0 0;\n",
              "      width: 32px;\n",
              "    }\n",
              "\n",
              "    .colab-df-convert:hover {\n",
              "      background-color: #E2EBFA;\n",
              "      box-shadow: 0px 1px 2px rgba(60, 64, 67, 0.3), 0px 1px 3px 1px rgba(60, 64, 67, 0.15);\n",
              "      fill: #174EA6;\n",
              "    }\n",
              "\n",
              "    [theme=dark] .colab-df-convert {\n",
              "      background-color: #3B4455;\n",
              "      fill: #D2E3FC;\n",
              "    }\n",
              "\n",
              "    [theme=dark] .colab-df-convert:hover {\n",
              "      background-color: #434B5C;\n",
              "      box-shadow: 0px 1px 3px 1px rgba(0, 0, 0, 0.15);\n",
              "      filter: drop-shadow(0px 1px 2px rgba(0, 0, 0, 0.3));\n",
              "      fill: #FFFFFF;\n",
              "    }\n",
              "  </style>\n",
              "\n",
              "      <script>\n",
              "        const buttonEl =\n",
              "          document.querySelector('#df-1e72d21c-4124-4a1c-acb4-3cde8789aefd button.colab-df-convert');\n",
              "        buttonEl.style.display =\n",
              "          google.colab.kernel.accessAllowed ? 'block' : 'none';\n",
              "\n",
              "        async function convertToInteractive(key) {\n",
              "          const element = document.querySelector('#df-1e72d21c-4124-4a1c-acb4-3cde8789aefd');\n",
              "          const dataTable =\n",
              "            await google.colab.kernel.invokeFunction('convertToInteractive',\n",
              "                                                     [key], {});\n",
              "          if (!dataTable) return;\n",
              "\n",
              "          const docLinkHtml = 'Like what you see? Visit the ' +\n",
              "            '<a target=\"_blank\" href=https://colab.research.google.com/notebooks/data_table.ipynb>data table notebook</a>'\n",
              "            + ' to learn more about interactive tables.';\n",
              "          element.innerHTML = '';\n",
              "          dataTable['output_type'] = 'display_data';\n",
              "          await google.colab.output.renderOutput(dataTable, element);\n",
              "          const docLink = document.createElement('div');\n",
              "          docLink.innerHTML = docLinkHtml;\n",
              "          element.appendChild(docLink);\n",
              "        }\n",
              "      </script>\n",
              "    </div>\n",
              "  </div>\n",
              "  "
            ]
          },
          "metadata": {},
          "execution_count": 69
        }
      ]
    },
    {
      "cell_type": "markdown",
      "source": [
        "### $\\color{violet}{\\text{4. Decision Tree}}$ \n",
        "\n",
        "เป็นอัลกอริทึมซึ่งเรียนรู้จากคุณลักษณะของ attributes และสร้างผังการตัดสินใจที่คล้ายกับต้นไม้จึงถูกเรียกว่าต้นไม้ตัดสินใจ ซึ่งโดยปกติแล้ว มักใช้กับการจำแนกแยกแยะ ว่าข้อมูลนั้นจัดอยู่ในกลุ่มใด ผลลัพธ์จะมีเพียงแค่ 2 กลุ่มหรือมากกว่านั้นก็ได้ \n",
        "สำหรับกรณีนี้จะสร้างระบบคัดแยกการเกิดอุบัติเหตุว่าจะมีผู้บาดเจ็บ ผู้เสียชีวิต ไม่มีผู้บาดเจ็บและผู้เสียชีวิต หรือมีทั้งผู้บาดเจ็บและผู้เสียชีวิต \n",
        "\n",
        "ขั้นตอน\n",
        "1. แบ่งเป็น train 70% และ test 30% จากนั้นทำการ train \n",
        "2. สร้าง model กำหนดให้ใช้อัลกอริทึมของ Decision Tree\n",
        "3. ทดสอบประเมินประสิทธิภาพ โดยใช้ Accuracy และ Cross Validation ตามลำดับ"
      ],
      "metadata": {
        "id": "ALe1wCOlEIaV"
      }
    },
    {
      "cell_type": "markdown",
      "source": [
        "### ขั้นตอน\n",
        "\n",
        "สร้าง modelกำหนดให้ใช้อัลกอริทึมของ Decision Tree กำหนดค่า max_dept = 4 กล่าวคือ แสดงความลึกของต้นไม้ให้มีแค่ 4 levels "
      ],
      "metadata": {
        "id": "Ofs_Gyx3fQ0u"
      }
    },
    {
      "cell_type": "code",
      "source": [
        "from sklearn.tree import DecisionTreeClassifier\n",
        "model4 = DecisionTreeClassifier(max_depth=4)"
      ],
      "metadata": {
        "id": "Qa2cwCBSGe_0"
      },
      "execution_count": null,
      "outputs": []
    },
    {
      "cell_type": "markdown",
      "source": [
        "ข้อมูลสำหรับนำมาสร้าง model มีดังนี้\n",
        "* สภาพอากาศของวันที่เกิดอุบัติเหตุ\n",
        "* สาเหตุที่ทำให้เกิดอุบัติเหตุ\n",
        "* เส้นทางพิเศษที่ใช้เดินทาง\n",
        "* จำนวนผู้บาดเจ็บ ผู้เสียชีวิต \n",
        "\n",
        "เพื่อให้ระบบเรียนรู้ Machine Learning ของไลบารี่ scikit-learn ทำงานได้อย่างมีประสิทธิภาพ ให้ทำการแทนที่ข้อความหรืออักษรของ class/target  ด้วยตัวเลข และต้องไม่ซ้ำกัน เช่น ในสภาพอากาศ ใช้ 0 แทน มีผู้เสียชีวิต ใช้ 1 แทน มีผู้บาดเจ็บ ใช้ 2 แทนไม่มีทั้งผู้บาดเจ็บกับผู้เสียชีวิต \n",
        "\n"
      ],
      "metadata": {
        "id": "HTKX-5kRe4Dj"
      }
    },
    {
      "cell_type": "code",
      "source": [
        "X4 = df[['weather_state_','cause_type_','step_']]\n",
        "y4 = df['result_']"
      ],
      "metadata": {
        "id": "UO1Ja9-cGwVW"
      },
      "execution_count": null,
      "outputs": []
    },
    {
      "cell_type": "code",
      "source": [
        "model4.fit(X4, y4)"
      ],
      "metadata": {
        "id": "PDbAoW8XHHSk",
        "colab": {
          "base_uri": "https://localhost:8080/"
        },
        "outputId": "ee3cab5d-8b13-4326-c7b1-9adced4ddff3"
      },
      "execution_count": null,
      "outputs": [
        {
          "output_type": "execute_result",
          "data": {
            "text/plain": [
              "DecisionTreeClassifier(max_depth=4)"
            ]
          },
          "metadata": {},
          "execution_count": 72
        }
      ]
    },
    {
      "cell_type": "code",
      "source": [
        "class_names4 = list(y_le.classes_)\n",
        "class_names4"
      ],
      "metadata": {
        "id": "mluOdocsHnLa",
        "colab": {
          "base_uri": "https://localhost:8080/"
        },
        "outputId": "5bd3031d-619a-4596-9d3c-07a9e1c6a0cf"
      },
      "execution_count": null,
      "outputs": [
        {
          "output_type": "execute_result",
          "data": {
            "text/plain": [
              "['Have Death',\n",
              " 'Have Injuries',\n",
              " 'Have Injuries and Death',\n",
              " 'No Injuries and Death']"
            ]
          },
          "metadata": {},
          "execution_count": 73
        }
      ]
    },
    {
      "cell_type": "markdown",
      "source": [
        "### แผนภาพ Decision Tree"
      ],
      "metadata": {
        "id": "HVBdEgQyPv2j"
      }
    },
    {
      "cell_type": "markdown",
      "source": [
        "สร้าง Diagram จาก model"
      ],
      "metadata": {
        "id": "VQ8Qu_MgfgVY"
      }
    },
    {
      "cell_type": "code",
      "source": [
        "import pydotplus\n",
        "from sklearn.tree import export_graphviz\n",
        "from IPython.display import Image"
      ],
      "metadata": {
        "id": "dYLco2CFPu43"
      },
      "execution_count": null,
      "outputs": []
    },
    {
      "cell_type": "code",
      "source": [
        "data_feature_names4 = 'weather_state_','cause_type_','step_'\n",
        "\n",
        "dot_data4 = export_graphviz(model4, out_file=None, feature_names=data_feature_names4, class_names=class_names4, filled=True, rounded=True)\n",
        "graph = pydotplus.graph_from_dot_data(dot_data4)\n",
        "Image(graph.create_png()) "
      ],
      "metadata": {
        "id": "gIAGTIY3I_G4",
        "colab": {
          "base_uri": "https://localhost:8080/",
          "height": 389
        },
        "outputId": "f6f9b064-960d-4f0f-9dd7-c8d16af0d93e"
      },
      "execution_count": null,
      "outputs": [
        {
          "output_type": "execute_result",
          "data": {
            "text/plain": [
              "<IPython.core.display.Image object>"
            ],
            "image/png": "[encoded data removed]"
          },
          "metadata": {},
          "execution_count": 75
        }
      ]
    },
    {
      "cell_type": "markdown",
      "source": [
        "Diagram นี้หมายความได้ว่า\n",
        "* cause_type <= 0.5 คือค่าที่ใช้เป็นเกณฑ์ในการตัดแบ่งช่วง โดยจะมีทางเลือก 2 ทาง คล้าย ๆ กับการเขียน if เช่น ถ้า cause_type ไม่เกิน 0.5 จะไปทาง true คือได้ผลลัพธ์เป็น No Injuries and Death\n",
        "* gini = 0.482 \n",
        "gini ใช้ในการคำนวณเพื่อเลือกว่าจะให้อะไรเป็นเกณฑ์การแบ่งคัดแยกกลุ่ม ในกรณีนี้ใช้ cause_type เป็น root ในการแบ่งกลุ่ม ค่า 0.482 คือดัชนี gini \n",
        "* samples = 346 คือ จำนวนข้อมูล sample ที่นำมา train ให้กับระบบ คือ 346 ข้อมูล\n",
        "* values = [..., ..., ...] คือตัวเลขที่แสดงระบบได้แบ่งข้อมูลออกเป็นฝั่งละเท่าไหร่ \n",
        "* class = … คือผลการทำนายที่บ่งบอกว่าเป็นอะไร เช่น No Injuries and Death\n"
      ],
      "metadata": {
        "id": "XRJxwOHffpg4"
      }
    },
    {
      "cell_type": "markdown",
      "source": [
        "![Screenshot (143).png](data:image/png;base64,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)"
      ],
      "metadata": {
        "id": "eS_l8d83cJIV"
      }
    },
    {
      "cell_type": "markdown",
      "source": [
        "### ประเมินโมเดล Decision Tree"
      ],
      "metadata": {
        "id": "RnfxH1_BLIxW"
      }
    },
    {
      "cell_type": "markdown",
      "source": [
        "ทดสอบประเมินประสิทธิภาพ โดยใช้ Accuracy, Cross Validation และ Confusion Matrix ตามลำดับ\n",
        "\n",
        "แบ่งเป็น train 70% และ test 30% จากนั้นทำการ train ทำการประเมินทดสอบประสิทธิภาพด้วย Accuracy"
      ],
      "metadata": {
        "id": "vx1eXrvlfvnM"
      }
    },
    {
      "cell_type": "code",
      "source": [
        "X4_train, X4_test, y4_train, y4_test = train_test_split(X4, y4 ,test_size=0.3,random_state=5)"
      ],
      "metadata": {
        "id": "yPbyJ9hnLIYn"
      },
      "execution_count": null,
      "outputs": []
    },
    {
      "cell_type": "code",
      "source": [
        "model4_ = DecisionTreeClassifier()\n",
        "model4_.fit(X4_train, y4_train)"
      ],
      "metadata": {
        "id": "swdG3HPoMBGd",
        "colab": {
          "base_uri": "https://localhost:8080/"
        },
        "outputId": "82253d75-6dca-4888-be3a-c600ebbc20aa"
      },
      "execution_count": null,
      "outputs": [
        {
          "output_type": "execute_result",
          "data": {
            "text/plain": [
              "DecisionTreeClassifier()"
            ]
          },
          "metadata": {},
          "execution_count": 77
        }
      ]
    },
    {
      "cell_type": "code",
      "source": [
        "y4_predict= model4.predict(X4_test)"
      ],
      "metadata": {
        "id": "HYHyVJvaRMrD"
      },
      "execution_count": null,
      "outputs": []
    },
    {
      "cell_type": "markdown",
      "source": [
        "เมื่อประเมินเสร็จแล้วจะได้ค่าความแม่นยำเท่ากับ 62.500%"
      ],
      "metadata": {
        "id": "qbOXd6G5gA3D"
      }
    },
    {
      "cell_type": "code",
      "source": [
        "print('Accuracy %:{:.3f}'.format(accuracy_score(y4_test,y4_predict)*100))"
      ],
      "metadata": {
        "id": "OEPdJJloMWwM",
        "colab": {
          "base_uri": "https://localhost:8080/"
        },
        "outputId": "42f59353-f006-44a3-8077-0a73560cdee3"
      },
      "execution_count": null,
      "outputs": [
        {
          "output_type": "stream",
          "name": "stdout",
          "text": [
            "Accuracy %:62.500\n"
          ]
        }
      ]
    },
    {
      "cell_type": "markdown",
      "source": [
        "ทำการประเมินทดสอบประสิทธิภาพด้วย cross validation โดยใช้ cv = 10 ผลการประเมินจะได้ค่าความแม่นยำ 10 ค่า "
      ],
      "metadata": {
        "id": "uQbkbTKpgGxp"
      }
    },
    {
      "cell_type": "code",
      "source": [
        "cvs4 = cross_val_score(model4, X4, y4, cv = 10)\n",
        "print('cross val scores {}'.format(cvs4.round(3)))\n",
        "print('mean = {:.3f}'.format(cvs4.mean()*100))"
      ],
      "metadata": {
        "colab": {
          "base_uri": "https://localhost:8080/"
        },
        "id": "Kiw-OR23viif",
        "outputId": "d5b04247-b357-4045-a65a-615b39f23600"
      },
      "execution_count": null,
      "outputs": [
        {
          "output_type": "stream",
          "name": "stdout",
          "text": [
            "cross val scores [0.571 0.543 0.686 0.629 0.514 0.514 0.647 0.735 0.647 0.706]\n",
            "mean = 61.924\n"
          ]
        },
        {
          "output_type": "stream",
          "name": "stderr",
          "text": [
            "/usr/local/lib/python3.7/dist-packages/sklearn/model_selection/_split.py:680: UserWarning: The least populated class in y has only 3 members, which is less than n_splits=10.\n",
            "  UserWarning,\n"
          ]
        }
      ]
    },
    {
      "cell_type": "markdown",
      "source": [
        "จากนั้นนำไปหาค่าเฉลี่ยจะได้ว่าความแม่นยำจาก cross validation คือ 61.924%"
      ],
      "metadata": {
        "id": "1IDHAuvcgJnd"
      }
    },
    {
      "cell_type": "markdown",
      "source": [
        "### Confusion Matrix เพื่อประเมิน Decision Tree Model"
      ],
      "metadata": {
        "id": "fLYNWG8wERep"
      }
    },
    {
      "cell_type": "code",
      "source": [
        "from sklearn.metrics import confusion_matrix"
      ],
      "metadata": {
        "id": "u6fb-MtAkjzG"
      },
      "execution_count": null,
      "outputs": []
    },
    {
      "cell_type": "code",
      "source": [
        "# รายงานและ confusion matrix ที่ได้\n",
        "cm = confusion_matrix(y4_test, y4_predict)\n",
        "print(cm)"
      ],
      "metadata": {
        "id": "kAKZB--xRQd3",
        "colab": {
          "base_uri": "https://localhost:8080/"
        },
        "outputId": "9f1f2a1f-52f3-46d6-eb84-a232af4af8a6"
      },
      "execution_count": null,
      "outputs": [
        {
          "output_type": "stream",
          "name": "stdout",
          "text": [
            "[[ 0  0  0  3]\n",
            " [ 0  9  0 21]\n",
            " [ 0  1  0  0]\n",
            " [ 0 14  0 56]]\n"
          ]
        }
      ]
    },
    {
      "cell_type": "code",
      "source": [
        "y_con_targets = ['Have Death',\n",
        " 'Have Injuries',\n",
        " 'Have Injuries and Death',\n",
        " 'No Injuries and Death']"
      ],
      "metadata": {
        "id": "Hn24tuUe3KRk"
      },
      "execution_count": null,
      "outputs": []
    },
    {
      "cell_type": "code",
      "source": [
        "print(classification_report(y4_test, y4_predict, target_names=y_con_targets))"
      ],
      "metadata": {
        "id": "vxA_tf3-qU0-",
        "outputId": "a728e0a0-6ff1-4af7-8afe-27f60e0e15f3",
        "colab": {
          "base_uri": "https://localhost:8080/"
        }
      },
      "execution_count": null,
      "outputs": [
        {
          "output_type": "stream",
          "name": "stdout",
          "text": [
            "                         precision    recall  f1-score   support\n",
            "\n",
            "             Have Death       0.00      0.00      0.00         3\n",
            "          Have Injuries       0.38      0.30      0.33        30\n",
            "Have Injuries and Death       0.00      0.00      0.00         1\n",
            "  No Injuries and Death       0.70      0.80      0.75        70\n",
            "\n",
            "               accuracy                           0.62       104\n",
            "              macro avg       0.27      0.28      0.27       104\n",
            "           weighted avg       0.58      0.62      0.60       104\n",
            "\n"
          ]
        },
        {
          "output_type": "stream",
          "name": "stderr",
          "text": [
            "/usr/local/lib/python3.7/dist-packages/sklearn/metrics/_classification.py:1318: UndefinedMetricWarning: Precision and F-score are ill-defined and being set to 0.0 in labels with no predicted samples. Use `zero_division` parameter to control this behavior.\n",
            "  _warn_prf(average, modifier, msg_start, len(result))\n",
            "/usr/local/lib/python3.7/dist-packages/sklearn/metrics/_classification.py:1318: UndefinedMetricWarning: Precision and F-score are ill-defined and being set to 0.0 in labels with no predicted samples. Use `zero_division` parameter to control this behavior.\n",
            "  _warn_prf(average, modifier, msg_start, len(result))\n",
            "/usr/local/lib/python3.7/dist-packages/sklearn/metrics/_classification.py:1318: UndefinedMetricWarning: Precision and F-score are ill-defined and being set to 0.0 in labels with no predicted samples. Use `zero_division` parameter to control this behavior.\n",
            "  _warn_prf(average, modifier, msg_start, len(result))\n"
          ]
        }
      ]
    },
    {
      "cell_type": "code",
      "source": [
        "ax = plt.subplot()\n",
        "plt.rcParams['figure.figsize'] = 13, 13\n",
        "plt.rcParams.update({'font.size':12})\n",
        "\n",
        "cmm = confusion_matrix(y4_test, y4_predict)\n",
        "sns.heatmap(cmm, annot=True, ax =ax, cmap=\"coolwarm\")\n",
        "ax.set_xlabel('Predicted labels', fontsize = 12, color = 'blue', alpha = 1)\n",
        "ax.set_ylabel('Actual (True)', fontsize = 12, color = 'blue', alpha = 1)\n",
        "ax.set_title('Confusion Matrix', fontsize = 15, color = 'blue', alpha = 1)\n",
        "ax.xaxis.set_ticklabels(y_con_targets)\n",
        "ax.yaxis.set_ticklabels(y_con_targets)\n",
        "plt.show()"
      ],
      "metadata": {
        "id": "PjKok7nPvZES",
        "colab": {
          "base_uri": "https://localhost:8080/",
          "height": 790
        },
        "outputId": "765d3e83-eea9-4f0e-874e-70bdc1de3a62"
      },
      "execution_count": null,
      "outputs": [
        {
          "output_type": "display_data",
          "data": {
            "text/plain": [
              "<Figure size 936x936 with 2 Axes>"
            ],
            "image/png": "[encoded data removed]"
          },
          "metadata": {
            "image/png": {
              "width": 723,
              "height": 773
            },
            "needs_background": "light"
          }
        }
      ]
    },
    {
      "cell_type": "markdown",
      "source": [
        "จะได้ผลลัพธ์เป็นจำนวนทดสอบคือ มี Have Death 3 เคส มี Have Injuries มี 30 เคส มี Have Injuries and Death มี 1 เคส และ No Injuries and Death มี 70 เคส จากค่า f-1 score แสดงให้เห็นว่า model ของระบบนี้มีความแม่นยำในการตรวจจับ No Injuries and Death มากที่สุดคือ 0.75 หรือ 75% ส่วนประสิทธิภาพการตรวจจับ Have Death และ Have Injuries and Death ค่อนข้างต่ำ"
      ],
      "metadata": {
        "id": "AKn2PtDigfdN"
      }
    },
    {
      "cell_type": "markdown",
      "source": [
        "### $\\color{violet}{\\text{5. Logistic Regression}}$ \n",
        "เป็นอัลกอริทึมที่ให้ output เป็นข้อมูลไม่ต่อเนื่อง เช่น 0 หรือ 1 (Binary Classes) ใช่ หรือ ไม่ใช่ เป็นต้น เหมาะแก่การใช้สำหรับ classification โดยหลักการคือนำจุดข้อมูลมาหาสมการเส้นตรงก่อน จะได้ y = mx+b นั่นเอง จากนั้นนำค่า y ไปเข้าสมการ sigmoid function จะได้ค่า 0 กับ -1 ซึ่งเป็น output ที่ได้ของการทำนาย โดยในที่นี้ Logistic Regression เป็นแบบ Multinomial เนื่องจาก Class หรือว่าผลลัพธ์นั้นมี 4 แบบ ได้แก่ Have Death, Have Injuries, No Injuries and Death และ Have Injuries and Death\n",
        "\n",
        "ขั้นตอน\n",
        "1. แบ่งเป็น train 70% และ test 30% จากนั้นทำการ train \n",
        "2. สร้าง model กำหนดให้ใช้อัลกอริทึมของ Logistic Regression\n",
        "3. ทดสอบประเมินประสิทธิภาพ โดยใช้ Accuracy และ Cross Validation ตามลำดับ\n",
        "\n",
        "เมื่อทดสอบประเมินประสิทธิภาพด้วยตัว test แล้วจะได้ค่าประสิทธิภาพ 67.308%\n",
        "  จากนั้นทำการประเมินทดสอบประสิทธิภาพด้วย cross validation โดย cv = 2 กล่าวคือ แบ่งเป็น 2 ส่วน จะได้ค่าเฉลี่ยเป็น 63.006% ซึ่งถือว่ามีความแม่นยำค่อนข้างพอใช้ได้\n"
      ],
      "metadata": {
        "id": "m73GB3xmuuQE"
      }
    },
    {
      "cell_type": "code",
      "source": [
        "from sklearn.linear_model import LogisticRegression\n",
        "model5 = LogisticRegression(multi_class='multinomial',solver='lbfgs')"
      ],
      "metadata": {
        "id": "bszD7xFuutrw"
      },
      "execution_count": null,
      "outputs": []
    },
    {
      "cell_type": "code",
      "source": [
        "X5 = df[['weather_state_','cause_type_', 'step_']]\n",
        "y5 = df.result_"
      ],
      "metadata": {
        "id": "iF_h6_2KI4Ef"
      },
      "execution_count": null,
      "outputs": []
    },
    {
      "cell_type": "code",
      "source": [
        "X5_train, X5_test, y5_train, y5_test = train_test_split(X5, y5, test_size=0.3, random_state=7)"
      ],
      "metadata": {
        "id": "M_z2PceLz8A0"
      },
      "execution_count": null,
      "outputs": []
    },
    {
      "cell_type": "code",
      "source": [
        "model5.fit(X5_train, y5_train)"
      ],
      "metadata": {
        "id": "qaHR0qsRzSdu",
        "colab": {
          "base_uri": "https://localhost:8080/"
        },
        "outputId": "92dbaaee-40e6-4d36-c6df-77fb2281950f"
      },
      "execution_count": null,
      "outputs": [
        {
          "output_type": "execute_result",
          "data": {
            "text/plain": [
              "LogisticRegression(multi_class='multinomial')"
            ]
          },
          "metadata": {},
          "execution_count": 90
        }
      ]
    },
    {
      "cell_type": "code",
      "source": [
        "y5_predict = model5.predict(X5_test)"
      ],
      "metadata": {
        "id": "5Tx37TPixgZS"
      },
      "execution_count": null,
      "outputs": []
    },
    {
      "cell_type": "markdown",
      "source": [
        "### ประเมิน Model Logistics Regression"
      ],
      "metadata": {
        "id": "NJExVeN4Jt5W"
      }
    },
    {
      "cell_type": "code",
      "source": [
        "print('Accuracy %:{:.3f}'.format(accuracy_score(y5_test, y5_predict)*100))"
      ],
      "metadata": {
        "id": "-u2KbUUPGIhl",
        "colab": {
          "base_uri": "https://localhost:8080/"
        },
        "outputId": "96556c56-b2d1-4b50-efa6-cf5d49721b73"
      },
      "execution_count": null,
      "outputs": [
        {
          "output_type": "stream",
          "name": "stdout",
          "text": [
            "Accuracy %:67.308\n"
          ]
        }
      ]
    },
    {
      "cell_type": "code",
      "source": [
        "cvs5 = cross_val_score(model5, X5, y5, cv = 2)\n",
        "print('cross val scores {}'.format(cvs5))\n",
        "print('mean = {:.3f}'.format(cvs5.mean()*100))"
      ],
      "metadata": {
        "id": "aTHtpg4AIxML",
        "colab": {
          "base_uri": "https://localhost:8080/"
        },
        "outputId": "4453a8ea-76c5-4511-bc4b-247583c7cb14"
      },
      "execution_count": null,
      "outputs": [
        {
          "output_type": "stream",
          "name": "stdout",
          "text": [
            "cross val scores [0.6300578 0.6300578]\n",
            "mean = 63.006\n"
          ]
        },
        {
          "output_type": "stream",
          "name": "stderr",
          "text": [
            "/usr/local/lib/python3.7/dist-packages/sklearn/linear_model/_logistic.py:818: ConvergenceWarning: lbfgs failed to converge (status=1):\n",
            "STOP: TOTAL NO. of ITERATIONS REACHED LIMIT.\n",
            "\n",
            "Increase the number of iterations (max_iter) or scale the data as shown in:\n",
            "    https://scikit-learn.org/stable/modules/preprocessing.html\n",
            "Please also refer to the documentation for alternative solver options:\n",
            "    https://scikit-learn.org/stable/modules/linear_model.html#logistic-regression\n",
            "  extra_warning_msg=_LOGISTIC_SOLVER_CONVERGENCE_MSG,\n"
          ]
        }
      ]
    },
    {
      "cell_type": "markdown",
      "source": [
        "### $\\color{violet}{\\text{6. Random Forest }}$ \n",
        "\n",
        "หลักการของ random forest จะคล้ายกับ decision tree แต่จะต่างตรงสุ่มเอาข้อมูลไปสร้างเป็นต้นไม้หลาย ๆ ต้น แต่ละต้นเรียกว่า subset เหมือนกับมีป่าจำนวนมาก ๆ ซึ่งแต่ละต้นจะมีรูปแบบสุ่มที่ไม่เหมือนกัน โดยในตอนการใช้งานทำนายแต่ละต้นก็ทำการทำนายแล้วเลือกผลที่ได้จากการโหวตที่มากที่สุดมาเป็นผลลัพธ์\n",
        "\n",
        "ขั้นตอน\n",
        "1. แบ่งเป็น train 70% และ test 30% จากนั้นทำการ train \n",
        "2. สร้าง model กำหนดให้ใช้อัลกอริทึมของ Random Forest ปกติแล้วนั้นสามารถกำหนดค่า n_estimators ที่ต้องการจำนวนได้ แต่ถ้าไม่กำหนด อัลกอริทึมจะใช้ default คือ 100 ต้น เช่น ในกรณีนี้ไม่ได้กำหนด n_estimators ไว้ อัลกอริทึมจึงทำการกำหนดให้เป็น 100 ต้น\n",
        "3. ทดสอบประเมินประสิทธิภาพ โดยใช้ Accuracy และ Cross Validation ตามลำดับ\n",
        "\n",
        "เมื่อทดสอบประเมินประสิทธิภาพด้วยตัว test แล้วจะได้ค่าประสิทธิภาพเท่ากับ 60.577\n",
        "  จากนั้นทำการประเมินทดสอบประสิทธิภาพด้วย cross validation โดยใช้ cv = 10 ผลการประเมินจะได้ค่าความแม่นยำ 10 ค่า จากนั้นนำไปหาค่าเฉลี่ยจะได้ว่าความแม่นยำคือ 59.563% ซึ่งถือว่าความแม่นยำยังไม่มากนัก และยังน้อยกว่า Decision Tree และ Logistic Regression"
      ],
      "metadata": {
        "id": "XuikWRc0Q5JL"
      }
    },
    {
      "cell_type": "code",
      "source": [
        "from sklearn.ensemble import RandomForestClassifier"
      ],
      "metadata": {
        "id": "AQw-e_PHLroG"
      },
      "execution_count": null,
      "outputs": []
    },
    {
      "cell_type": "code",
      "source": [
        "X6 = df[['step_', 'weather_state_','cause_type_']]\n",
        "y6 = df['result_']"
      ],
      "metadata": {
        "id": "E40hFU_XBv_5"
      },
      "execution_count": null,
      "outputs": []
    },
    {
      "cell_type": "code",
      "source": [
        "X6_train, X6_test, y6_train, y6_test = train_test_split(X6, y6, test_size=0.3, random_state=7)"
      ],
      "metadata": {
        "id": "r8FC-Q6rOJot"
      },
      "execution_count": null,
      "outputs": []
    },
    {
      "cell_type": "code",
      "source": [
        "model6=RandomForestClassifier()\n",
        "model6.fit(X6_train, y6_train)\n",
        "y6_predict = model6.predict(X6_test)"
      ],
      "metadata": {
        "id": "OO8qhi1fOLtA"
      },
      "execution_count": null,
      "outputs": []
    },
    {
      "cell_type": "markdown",
      "source": [
        "### ประเมิน Model Random Forest"
      ],
      "metadata": {
        "id": "ZBy9S2PCSs3k"
      }
    },
    {
      "cell_type": "code",
      "source": [
        "print('Accuracy %:{:.3f}'.format(accuracy_score(y6_test, y6_predict)*100))"
      ],
      "metadata": {
        "id": "l9QMogvH2Mou",
        "colab": {
          "base_uri": "https://localhost:8080/"
        },
        "outputId": "3ab2ce4e-e056-461b-e97f-b3438b4f6841"
      },
      "execution_count": null,
      "outputs": [
        {
          "output_type": "stream",
          "name": "stdout",
          "text": [
            "Accuracy %:60.577\n"
          ]
        }
      ]
    },
    {
      "cell_type": "code",
      "source": [
        "cvs6 = cross_val_score(model6, X6, y6, cv = 10)\n",
        "print('cross val scores {}'.format(cvs6.round(3)))\n",
        "print('mean = {:.3f}'.format(cvs6.mean()*100))"
      ],
      "metadata": {
        "id": "V-PVNGnNCb_R",
        "colab": {
          "base_uri": "https://localhost:8080/"
        },
        "outputId": "f572435a-7aa6-4e5e-cfe7-f45c2eea2376"
      },
      "execution_count": null,
      "outputs": [
        {
          "output_type": "stream",
          "name": "stderr",
          "text": [
            "/usr/local/lib/python3.7/dist-packages/sklearn/model_selection/_split.py:680: UserWarning: The least populated class in y has only 3 members, which is less than n_splits=10.\n",
            "  UserWarning,\n"
          ]
        },
        {
          "output_type": "stream",
          "name": "stdout",
          "text": [
            "cross val scores [0.571 0.514 0.686 0.657 0.514 0.543 0.647 0.588 0.618 0.706]\n",
            "mean = 60.445\n"
          ]
        }
      ]
    },
    {
      "cell_type": "markdown",
      "source": [
        "\n",
        "\n",
        "---\n",
        "\n"
      ],
      "metadata": {
        "id": "cR7qGUtGAbAe"
      }
    },
    {
      "cell_type": "markdown",
      "source": [
        "\n",
        "># $\\color{orange}{\\text{สรุปค่าประเมิน Model}}$ \n",
        "\n",
        "---\n",
        "\n",
        "เพื่อเปรียบเทียบค่าแม่นยำของแต่ละ Model อีกครั้ง จึงใช้ข้อมูลในชุดเดียวกันในการประเมิน ได้แก่ XX_test และ yy_test ซึ่งได้มาจากการแบ่งข้อมูล train test spilt โดยสร้าง dataframe ใหม่ ชื่อ dscore เพื่อเก็บค่าประเมิน Accuracy, Cross Validation, Confusion Matrix โดยเลือกแสดงแค่ค่าประเมินความแม่นยำ Accuracy และ Cross Validation เท่านั้น\n",
        "* เรียงตามค่าประเมิน Accuracy พบว่าอันดับหนึ่ง ได้แก่ Logistic Regression ซึ่งมีค่าเท่ากับ 67.308% ส่วนอันดับสอง ได้แก่ K-Neighbors มีค่าเท่ากับ 61.538% \n",
        "* เรียงตามค่าประเมิน Cross Validation อันดับหนึ่ง ได้แก่ Logistic Regression มีค่าเท่ากับ 65.636% ส่วนอันดับสอง ได้แก่ Random Forest ซึ่งมีค่าเท่ากับ 64.818%\n",
        "\n",
        "ดังนั้นหากนำข้อมูลสภาพอากาศ, สาเหตุที่ทำให้เกิดอุบัติเหตุ และเส้นทางด่วนพิเศษมาทำนายว่ามีจำนวนผู้บาดเจ็บหรือผู้มีเสียชีวิตเท่าไหร่ด้วย อัลกอริทึม Logistic Regression จะสามารถทำนายได้ใกล้เคียงกับผลที่เกิดขึ้นจริงมากที่สุดเมื่อเทียบกับ Model อื่น ๆ"
      ],
      "metadata": {
        "id": "XybIyPG8Jfmt"
      }
    },
    {
      "cell_type": "code",
      "source": [
        "test_size=.3\n",
        "XX_train, XX_test, yy_train, yy_test = train_test_split(\n",
        "    df[['step_', 'weather_state_','cause_type_']], \n",
        "    df.result_, \n",
        "    test_size=test_size, random_state=7)"
      ],
      "metadata": {
        "id": "j2U2Dhl34AQu"
      },
      "execution_count": null,
      "outputs": []
    },
    {
      "cell_type": "code",
      "source": [
        "algo = [\n",
        "    [KNeighborsClassifier(n_neighbors=10), 'KNeighborsClassifier'],\n",
        "    [LogisticRegression(solver='lbfgs'), 'LogisticRegression'],\n",
        "    [GaussianNB(), 'GaussianNB'],\n",
        "    [DecisionTreeClassifier(),'DecisionTreeClassifier'],\n",
        "    [RandomForestClassifier(), 'RandomForestClassifier']\n",
        "\n",
        "]\n",
        "model_score=[]\n",
        "for a in algo:\n",
        "    model=a[0]\n",
        "    model.fit(XX_train, yy_train) # step 2: fit\n",
        "    y_pred=model.predict(XX_test) # step 3: predict\n",
        "    score=model.score(XX_test, yy_test)\n",
        "    cvs = cross_val_score(model, XX_test, yy_test, cv = 10)\n",
        "    model_score.append([score*100, cvs.mean()*100, a[1]])\n",
        "    print(f'{a[1]} Accuracy % = {score*100:.3f} %') # step 4: score\n",
        "    print(metrics.confusion_matrix(yy_test, y_pred))\n",
        "    print(metrics.classification_report(yy_test, y_pred))\n",
        "    print('-' * 100)\n",
        "print(model_score)"
      ],
      "metadata": {
        "colab": {
          "base_uri": "https://localhost:8080/"
        },
        "id": "H72ISL-I4Y4P",
        "outputId": "a4219631-2a4e-4682-92f9-b799dd464e5c"
      },
      "execution_count": null,
      "outputs": [
        {
          "output_type": "stream",
          "name": "stderr",
          "text": [
            "/usr/local/lib/python3.7/dist-packages/sklearn/model_selection/_split.py:680: UserWarning: The least populated class in y has only 1 members, which is less than n_splits=10.\n",
            "  UserWarning,\n",
            "/usr/local/lib/python3.7/dist-packages/sklearn/metrics/_classification.py:1318: UndefinedMetricWarning: Precision and F-score are ill-defined and being set to 0.0 in labels with no predicted samples. Use `zero_division` parameter to control this behavior.\n",
            "  _warn_prf(average, modifier, msg_start, len(result))\n",
            "/usr/local/lib/python3.7/dist-packages/sklearn/metrics/_classification.py:1318: UndefinedMetricWarning: Precision and F-score are ill-defined and being set to 0.0 in labels with no predicted samples. Use `zero_division` parameter to control this behavior.\n",
            "  _warn_prf(average, modifier, msg_start, len(result))\n",
            "/usr/local/lib/python3.7/dist-packages/sklearn/metrics/_classification.py:1318: UndefinedMetricWarning: Precision and F-score are ill-defined and being set to 0.0 in labels with no predicted samples. Use `zero_division` parameter to control this behavior.\n",
            "  _warn_prf(average, modifier, msg_start, len(result))\n",
            "/usr/local/lib/python3.7/dist-packages/sklearn/model_selection/_split.py:680: UserWarning: The least populated class in y has only 1 members, which is less than n_splits=10.\n",
            "  UserWarning,\n"
          ]
        },
        {
          "output_type": "stream",
          "name": "stdout",
          "text": [
            "KNeighborsClassifier Accuracy % = 61.538 %\n",
            "[[14  0 19]\n",
            " [ 1  0  0]\n",
            " [20  0 50]]\n",
            "              precision    recall  f1-score   support\n",
            "\n",
            "           1       0.40      0.42      0.41        33\n",
            "           2       0.00      0.00      0.00         1\n",
            "           3       0.72      0.71      0.72        70\n",
            "\n",
            "    accuracy                           0.62       104\n",
            "   macro avg       0.37      0.38      0.38       104\n",
            "weighted avg       0.61      0.62      0.61       104\n",
            "\n",
            "----------------------------------------------------------------------------------------------------\n",
            "LogisticRegression Accuracy % = 67.308 %\n",
            "[[ 0  0 33]\n",
            " [ 0  0  1]\n",
            " [ 0  0 70]]\n",
            "              precision    recall  f1-score   support\n",
            "\n",
            "           1       0.00      0.00      0.00        33\n",
            "           2       0.00      0.00      0.00         1\n",
            "           3       0.67      1.00      0.80        70\n",
            "\n",
            "    accuracy                           0.67       104\n",
            "   macro avg       0.22      0.33      0.27       104\n",
            "weighted avg       0.45      0.67      0.54       104\n",
            "\n",
            "----------------------------------------------------------------------------------------------------\n",
            "GaussianNB Accuracy % = 2.885 %\n",
            "[[ 0  0  0  0]\n",
            " [19  0 13  1]\n",
            " [ 0  0  1  0]\n",
            " [48  0 20  2]]\n",
            "              precision    recall  f1-score   support\n",
            "\n",
            "           0       0.00      0.00      0.00         0\n",
            "           1       0.00      0.00      0.00        33\n",
            "           2       0.03      1.00      0.06         1\n",
            "           3       0.67      0.03      0.05        70\n",
            "\n",
            "    accuracy                           0.03       104\n",
            "   macro avg       0.17      0.26      0.03       104\n",
            "weighted avg       0.45      0.03      0.04       104\n",
            "\n",
            "----------------------------------------------------------------------------------------------------\n",
            "DecisionTreeClassifier Accuracy % = 56.731 %\n",
            "[[12  0 21]\n",
            " [ 1  0  0]\n",
            " [23  0 47]]\n",
            "              precision    recall  f1-score   support\n",
            "\n",
            "           1       0.33      0.36      0.35        33\n",
            "           2       0.00      0.00      0.00         1\n",
            "           3       0.69      0.67      0.68        70\n",
            "\n",
            "    accuracy                           0.57       104\n",
            "   macro avg       0.34      0.35      0.34       104\n",
            "weighted avg       0.57      0.57      0.57       104\n",
            "\n",
            "----------------------------------------------------------------------------------------------------\n"
          ]
        },
        {
          "output_type": "stream",
          "name": "stderr",
          "text": [
            "/usr/local/lib/python3.7/dist-packages/sklearn/metrics/_classification.py:1318: UndefinedMetricWarning: Precision and F-score are ill-defined and being set to 0.0 in labels with no predicted samples. Use `zero_division` parameter to control this behavior.\n",
            "  _warn_prf(average, modifier, msg_start, len(result))\n",
            "/usr/local/lib/python3.7/dist-packages/sklearn/metrics/_classification.py:1318: UndefinedMetricWarning: Precision and F-score are ill-defined and being set to 0.0 in labels with no predicted samples. Use `zero_division` parameter to control this behavior.\n",
            "  _warn_prf(average, modifier, msg_start, len(result))\n",
            "/usr/local/lib/python3.7/dist-packages/sklearn/metrics/_classification.py:1318: UndefinedMetricWarning: Precision and F-score are ill-defined and being set to 0.0 in labels with no predicted samples. Use `zero_division` parameter to control this behavior.\n",
            "  _warn_prf(average, modifier, msg_start, len(result))\n",
            "/usr/local/lib/python3.7/dist-packages/sklearn/model_selection/_split.py:680: UserWarning: The least populated class in y has only 1 members, which is less than n_splits=10.\n",
            "  UserWarning,\n",
            "/usr/local/lib/python3.7/dist-packages/sklearn/metrics/_classification.py:1318: UndefinedMetricWarning: Precision and F-score are ill-defined and being set to 0.0 in labels with no predicted samples. Use `zero_division` parameter to control this behavior.\n",
            "  _warn_prf(average, modifier, msg_start, len(result))\n",
            "/usr/local/lib/python3.7/dist-packages/sklearn/metrics/_classification.py:1318: UndefinedMetricWarning: Recall and F-score are ill-defined and being set to 0.0 in labels with no true samples. Use `zero_division` parameter to control this behavior.\n",
            "  _warn_prf(average, modifier, msg_start, len(result))\n",
            "/usr/local/lib/python3.7/dist-packages/sklearn/metrics/_classification.py:1318: UndefinedMetricWarning: Precision and F-score are ill-defined and being set to 0.0 in labels with no predicted samples. Use `zero_division` parameter to control this behavior.\n",
            "  _warn_prf(average, modifier, msg_start, len(result))\n",
            "/usr/local/lib/python3.7/dist-packages/sklearn/metrics/_classification.py:1318: UndefinedMetricWarning: Recall and F-score are ill-defined and being set to 0.0 in labels with no true samples. Use `zero_division` parameter to control this behavior.\n",
            "  _warn_prf(average, modifier, msg_start, len(result))\n",
            "/usr/local/lib/python3.7/dist-packages/sklearn/metrics/_classification.py:1318: UndefinedMetricWarning: Precision and F-score are ill-defined and being set to 0.0 in labels with no predicted samples. Use `zero_division` parameter to control this behavior.\n",
            "  _warn_prf(average, modifier, msg_start, len(result))\n",
            "/usr/local/lib/python3.7/dist-packages/sklearn/metrics/_classification.py:1318: UndefinedMetricWarning: Recall and F-score are ill-defined and being set to 0.0 in labels with no true samples. Use `zero_division` parameter to control this behavior.\n",
            "  _warn_prf(average, modifier, msg_start, len(result))\n",
            "/usr/local/lib/python3.7/dist-packages/sklearn/model_selection/_split.py:680: UserWarning: The least populated class in y has only 1 members, which is less than n_splits=10.\n",
            "  UserWarning,\n",
            "/usr/local/lib/python3.7/dist-packages/sklearn/metrics/_classification.py:1318: UndefinedMetricWarning: Precision and F-score are ill-defined and being set to 0.0 in labels with no predicted samples. Use `zero_division` parameter to control this behavior.\n",
            "  _warn_prf(average, modifier, msg_start, len(result))\n",
            "/usr/local/lib/python3.7/dist-packages/sklearn/metrics/_classification.py:1318: UndefinedMetricWarning: Precision and F-score are ill-defined and being set to 0.0 in labels with no predicted samples. Use `zero_division` parameter to control this behavior.\n",
            "  _warn_prf(average, modifier, msg_start, len(result))\n",
            "/usr/local/lib/python3.7/dist-packages/sklearn/metrics/_classification.py:1318: UndefinedMetricWarning: Precision and F-score are ill-defined and being set to 0.0 in labels with no predicted samples. Use `zero_division` parameter to control this behavior.\n",
            "  _warn_prf(average, modifier, msg_start, len(result))\n",
            "/usr/local/lib/python3.7/dist-packages/sklearn/model_selection/_split.py:680: UserWarning: The least populated class in y has only 1 members, which is less than n_splits=10.\n",
            "  UserWarning,\n"
          ]
        },
        {
          "output_type": "stream",
          "name": "stdout",
          "text": [
            "RandomForestClassifier Accuracy % = 59.615 %\n",
            "[[10  0 23]\n",
            " [ 1  0  0]\n",
            " [18  0 52]]\n",
            "              precision    recall  f1-score   support\n",
            "\n",
            "           1       0.34      0.30      0.32        33\n",
            "           2       0.00      0.00      0.00         1\n",
            "           3       0.69      0.74      0.72        70\n",
            "\n",
            "    accuracy                           0.60       104\n",
            "   macro avg       0.35      0.35      0.35       104\n",
            "weighted avg       0.58      0.60      0.59       104\n",
            "\n",
            "----------------------------------------------------------------------------------------------------\n",
            "[[61.53846153846154, 63.54545454545455, 'KNeighborsClassifier'], [67.3076923076923, 65.63636363636364, 'LogisticRegression'], [2.8846153846153846, 56.18181818181818, 'GaussianNB'], [56.730769230769226, 62.727272727272734, 'DecisionTreeClassifier'], [59.61538461538461, 66.72727272727272, 'RandomForestClassifier']]\n"
          ]
        },
        {
          "output_type": "stream",
          "name": "stderr",
          "text": [
            "/usr/local/lib/python3.7/dist-packages/sklearn/metrics/_classification.py:1318: UndefinedMetricWarning: Precision and F-score are ill-defined and being set to 0.0 in labels with no predicted samples. Use `zero_division` parameter to control this behavior.\n",
            "  _warn_prf(average, modifier, msg_start, len(result))\n",
            "/usr/local/lib/python3.7/dist-packages/sklearn/metrics/_classification.py:1318: UndefinedMetricWarning: Precision and F-score are ill-defined and being set to 0.0 in labels with no predicted samples. Use `zero_division` parameter to control this behavior.\n",
            "  _warn_prf(average, modifier, msg_start, len(result))\n",
            "/usr/local/lib/python3.7/dist-packages/sklearn/metrics/_classification.py:1318: UndefinedMetricWarning: Precision and F-score are ill-defined and being set to 0.0 in labels with no predicted samples. Use `zero_division` parameter to control this behavior.\n",
            "  _warn_prf(average, modifier, msg_start, len(result))\n"
          ]
        }
      ]
    },
    {
      "cell_type": "code",
      "source": [
        "dscore=pd.DataFrame(model_score, columns=['accuracy %','cross validation','classifier'])\n",
        "dscore"
      ],
      "metadata": {
        "id": "ER6J1JPW4nvn",
        "colab": {
          "base_uri": "https://localhost:8080/",
          "height": 206
        },
        "outputId": "85050955-d030-4acb-d5ec-20cccdb2fca2"
      },
      "execution_count": null,
      "outputs": [
        {
          "output_type": "execute_result",
          "data": {
            "text/plain": [
              "   accuracy %  cross validation              classifier\n",
              "0   61.538462         63.545455    KNeighborsClassifier\n",
              "1   67.307692         65.636364      LogisticRegression\n",
              "2    2.884615         56.181818              GaussianNB\n",
              "3   56.730769         62.727273  DecisionTreeClassifier\n",
              "4   59.615385         66.727273  RandomForestClassifier"
            ],
            "text/html": [
              "\n",
              "  <div id=\"df-dfe96ecd-75a8-49ab-abde-17b9107b09fb\">\n",
              "    <div class=\"colab-df-container\">\n",
              "      <div>\n",
              "<style scoped>\n",
              "    .dataframe tbody tr th:only-of-type {\n",
              "        vertical-align: middle;\n",
              "    }\n",
              "\n",
              "    .dataframe tbody tr th {\n",
              "        vertical-align: top;\n",
              "    }\n",
              "\n",
              "    .dataframe thead th {\n",
              "        text-align: right;\n",
              "    }\n",
              "</style>\n",
              "<table border=\"1\" class=\"dataframe\">\n",
              "  <thead>\n",
              "    <tr style=\"text-align: right;\">\n",
              "      <th></th>\n",
              "      <th>accuracy %</th>\n",
              "      <th>cross validation</th>\n",
              "      <th>classifier</th>\n",
              "    </tr>\n",
              "  </thead>\n",
              "  <tbody>\n",
              "    <tr>\n",
              "      <th>0</th>\n",
              "      <td>61.538462</td>\n",
              "      <td>63.545455</td>\n",
              "      <td>KNeighborsClassifier</td>\n",
              "    </tr>\n",
              "    <tr>\n",
              "      <th>1</th>\n",
              "      <td>67.307692</td>\n",
              "      <td>65.636364</td>\n",
              "      <td>LogisticRegression</td>\n",
              "    </tr>\n",
              "    <tr>\n",
              "      <th>2</th>\n",
              "      <td>2.884615</td>\n",
              "      <td>56.181818</td>\n",
              "      <td>GaussianNB</td>\n",
              "    </tr>\n",
              "    <tr>\n",
              "      <th>3</th>\n",
              "      <td>56.730769</td>\n",
              "      <td>62.727273</td>\n",
              "      <td>DecisionTreeClassifier</td>\n",
              "    </tr>\n",
              "    <tr>\n",
              "      <th>4</th>\n",
              "      <td>59.615385</td>\n",
              "      <td>66.727273</td>\n",
              "      <td>RandomForestClassifier</td>\n",
              "    </tr>\n",
              "  </tbody>\n",
              "</table>\n",
              "</div>\n",
              "      <button class=\"colab-df-convert\" onclick=\"convertToInteractive('df-dfe96ecd-75a8-49ab-abde-17b9107b09fb')\"\n",
              "              title=\"Convert this dataframe to an interactive table.\"\n",
              "              style=\"display:none;\">\n",
              "        \n",
              "  <svg xmlns=\"http://www.w3.org/2000/svg\" height=\"24px\"viewBox=\"0 0 24 24\"\n",
              "       width=\"24px\">\n",
              "    <path d=\"M0 0h24v24H0V0z\" fill=\"none\"/>\n",
              "    <path d=\"M18.56 5.44l.94 2.06.94-2.06 2.06-.94-2.06-.94-.94-2.06-.94 2.06-2.06.94zm-11 1L8.5 8.5l.94-2.06 2.06-.94-2.06-.94L8.5 2.5l-.94 2.06-2.06.94zm10 10l.94 2.06.94-2.06 2.06-.94-2.06-.94-.94-2.06-.94 2.06-2.06.94z\"/><path d=\"M17.41 7.96l-1.37-1.37c-.4-.4-.92-.59-1.43-.59-.52 0-1.04.2-1.43.59L10.3 9.45l-7.72 7.72c-.78.78-.78 2.05 0 2.83L4 21.41c.39.39.9.59 1.41.59.51 0 1.02-.2 1.41-.59l7.78-7.78 2.81-2.81c.8-.78.8-2.07 0-2.86zM5.41 20L4 18.59l7.72-7.72 1.47 1.35L5.41 20z\"/>\n",
              "  </svg>\n",
              "      </button>\n",
              "      \n",
              "  <style>\n",
              "    .colab-df-container {\n",
              "      display:flex;\n",
              "      flex-wrap:wrap;\n",
              "      gap: 12px;\n",
              "    }\n",
              "\n",
              "    .colab-df-convert {\n",
              "      background-color: #E8F0FE;\n",
              "      border: none;\n",
              "      border-radius: 50%;\n",
              "      cursor: pointer;\n",
              "      display: none;\n",
              "      fill: #1967D2;\n",
              "      height: 32px;\n",
              "      padding: 0 0 0 0;\n",
              "      width: 32px;\n",
              "    }\n",
              "\n",
              "    .colab-df-convert:hover {\n",
              "      background-color: #E2EBFA;\n",
              "      box-shadow: 0px 1px 2px rgba(60, 64, 67, 0.3), 0px 1px 3px 1px rgba(60, 64, 67, 0.15);\n",
              "      fill: #174EA6;\n",
              "    }\n",
              "\n",
              "    [theme=dark] .colab-df-convert {\n",
              "      background-color: #3B4455;\n",
              "      fill: #D2E3FC;\n",
              "    }\n",
              "\n",
              "    [theme=dark] .colab-df-convert:hover {\n",
              "      background-color: #434B5C;\n",
              "      box-shadow: 0px 1px 3px 1px rgba(0, 0, 0, 0.15);\n",
              "      filter: drop-shadow(0px 1px 2px rgba(0, 0, 0, 0.3));\n",
              "      fill: #FFFFFF;\n",
              "    }\n",
              "  </style>\n",
              "\n",
              "      <script>\n",
              "        const buttonEl =\n",
              "          document.querySelector('#df-dfe96ecd-75a8-49ab-abde-17b9107b09fb button.colab-df-convert');\n",
              "        buttonEl.style.display =\n",
              "          google.colab.kernel.accessAllowed ? 'block' : 'none';\n",
              "\n",
              "        async function convertToInteractive(key) {\n",
              "          const element = document.querySelector('#df-dfe96ecd-75a8-49ab-abde-17b9107b09fb');\n",
              "          const dataTable =\n",
              "            await google.colab.kernel.invokeFunction('convertToInteractive',\n",
              "                                                     [key], {});\n",
              "          if (!dataTable) return;\n",
              "\n",
              "          const docLinkHtml = 'Like what you see? Visit the ' +\n",
              "            '<a target=\"_blank\" href=https://colab.research.google.com/notebooks/data_table.ipynb>data table notebook</a>'\n",
              "            + ' to learn more about interactive tables.';\n",
              "          element.innerHTML = '';\n",
              "          dataTable['output_type'] = 'display_data';\n",
              "          await google.colab.output.renderOutput(dataTable, element);\n",
              "          const docLink = document.createElement('div');\n",
              "          docLink.innerHTML = docLinkHtml;\n",
              "          element.appendChild(docLink);\n",
              "        }\n",
              "      </script>\n",
              "    </div>\n",
              "  </div>\n",
              "  "
            ]
          },
          "metadata": {},
          "execution_count": 102
        }
      ]
    },
    {
      "cell_type": "code",
      "source": [
        "dscore[['classifier','accuracy %']].sort_values(['accuracy %'], ascending=False).set_index([pd.Index([1,2,3,4,5])])"
      ],
      "metadata": {
        "id": "1Ghc0pYrKi1h",
        "colab": {
          "base_uri": "https://localhost:8080/",
          "height": 206
        },
        "outputId": "94a7aee8-c8d0-4245-821a-d58bfdf846a9"
      },
      "execution_count": null,
      "outputs": [
        {
          "output_type": "execute_result",
          "data": {
            "text/plain": [
              "               classifier  accuracy %\n",
              "1      LogisticRegression   67.307692\n",
              "2    KNeighborsClassifier   61.538462\n",
              "3  RandomForestClassifier   59.615385\n",
              "4  DecisionTreeClassifier   56.730769\n",
              "5              GaussianNB    2.884615"
            ],
            "text/html": [
              "\n",
              "  <div id=\"df-9224681d-e2a5-47a3-a105-6ea51f39f662\">\n",
              "    <div class=\"colab-df-container\">\n",
              "      <div>\n",
              "<style scoped>\n",
              "    .dataframe tbody tr th:only-of-type {\n",
              "        vertical-align: middle;\n",
              "    }\n",
              "\n",
              "    .dataframe tbody tr th {\n",
              "        vertical-align: top;\n",
              "    }\n",
              "\n",
              "    .dataframe thead th {\n",
              "        text-align: right;\n",
              "    }\n",
              "</style>\n",
              "<table border=\"1\" class=\"dataframe\">\n",
              "  <thead>\n",
              "    <tr style=\"text-align: right;\">\n",
              "      <th></th>\n",
              "      <th>classifier</th>\n",
              "      <th>accuracy %</th>\n",
              "    </tr>\n",
              "  </thead>\n",
              "  <tbody>\n",
              "    <tr>\n",
              "      <th>1</th>\n",
              "      <td>LogisticRegression</td>\n",
              "      <td>67.307692</td>\n",
              "    </tr>\n",
              "    <tr>\n",
              "      <th>2</th>\n",
              "      <td>KNeighborsClassifier</td>\n",
              "      <td>61.538462</td>\n",
              "    </tr>\n",
              "    <tr>\n",
              "      <th>3</th>\n",
              "      <td>RandomForestClassifier</td>\n",
              "      <td>59.615385</td>\n",
              "    </tr>\n",
              "    <tr>\n",
              "      <th>4</th>\n",
              "      <td>DecisionTreeClassifier</td>\n",
              "      <td>56.730769</td>\n",
              "    </tr>\n",
              "    <tr>\n",
              "      <th>5</th>\n",
              "      <td>GaussianNB</td>\n",
              "      <td>2.884615</td>\n",
              "    </tr>\n",
              "  </tbody>\n",
              "</table>\n",
              "</div>\n",
              "      <button class=\"colab-df-convert\" onclick=\"convertToInteractive('df-9224681d-e2a5-47a3-a105-6ea51f39f662')\"\n",
              "              title=\"Convert this dataframe to an interactive table.\"\n",
              "              style=\"display:none;\">\n",
              "        \n",
              "  <svg xmlns=\"http://www.w3.org/2000/svg\" height=\"24px\"viewBox=\"0 0 24 24\"\n",
              "       width=\"24px\">\n",
              "    <path d=\"M0 0h24v24H0V0z\" fill=\"none\"/>\n",
              "    <path d=\"M18.56 5.44l.94 2.06.94-2.06 2.06-.94-2.06-.94-.94-2.06-.94 2.06-2.06.94zm-11 1L8.5 8.5l.94-2.06 2.06-.94-2.06-.94L8.5 2.5l-.94 2.06-2.06.94zm10 10l.94 2.06.94-2.06 2.06-.94-2.06-.94-.94-2.06-.94 2.06-2.06.94z\"/><path d=\"M17.41 7.96l-1.37-1.37c-.4-.4-.92-.59-1.43-.59-.52 0-1.04.2-1.43.59L10.3 9.45l-7.72 7.72c-.78.78-.78 2.05 0 2.83L4 21.41c.39.39.9.59 1.41.59.51 0 1.02-.2 1.41-.59l7.78-7.78 2.81-2.81c.8-.78.8-2.07 0-2.86zM5.41 20L4 18.59l7.72-7.72 1.47 1.35L5.41 20z\"/>\n",
              "  </svg>\n",
              "      </button>\n",
              "      \n",
              "  <style>\n",
              "    .colab-df-container {\n",
              "      display:flex;\n",
              "      flex-wrap:wrap;\n",
              "      gap: 12px;\n",
              "    }\n",
              "\n",
              "    .colab-df-convert {\n",
              "      background-color: #E8F0FE;\n",
              "      border: none;\n",
              "      border-radius: 50%;\n",
              "      cursor: pointer;\n",
              "      display: none;\n",
              "      fill: #1967D2;\n",
              "      height: 32px;\n",
              "      padding: 0 0 0 0;\n",
              "      width: 32px;\n",
              "    }\n",
              "\n",
              "    .colab-df-convert:hover {\n",
              "      background-color: #E2EBFA;\n",
              "      box-shadow: 0px 1px 2px rgba(60, 64, 67, 0.3), 0px 1px 3px 1px rgba(60, 64, 67, 0.15);\n",
              "      fill: #174EA6;\n",
              "    }\n",
              "\n",
              "    [theme=dark] .colab-df-convert {\n",
              "      background-color: #3B4455;\n",
              "      fill: #D2E3FC;\n",
              "    }\n",
              "\n",
              "    [theme=dark] .colab-df-convert:hover {\n",
              "      background-color: #434B5C;\n",
              "      box-shadow: 0px 1px 3px 1px rgba(0, 0, 0, 0.15);\n",
              "      filter: drop-shadow(0px 1px 2px rgba(0, 0, 0, 0.3));\n",
              "      fill: #FFFFFF;\n",
              "    }\n",
              "  </style>\n",
              "\n",
              "      <script>\n",
              "        const buttonEl =\n",
              "          document.querySelector('#df-9224681d-e2a5-47a3-a105-6ea51f39f662 button.colab-df-convert');\n",
              "        buttonEl.style.display =\n",
              "          google.colab.kernel.accessAllowed ? 'block' : 'none';\n",
              "\n",
              "        async function convertToInteractive(key) {\n",
              "          const element = document.querySelector('#df-9224681d-e2a5-47a3-a105-6ea51f39f662');\n",
              "          const dataTable =\n",
              "            await google.colab.kernel.invokeFunction('convertToInteractive',\n",
              "                                                     [key], {});\n",
              "          if (!dataTable) return;\n",
              "\n",
              "          const docLinkHtml = 'Like what you see? Visit the ' +\n",
              "            '<a target=\"_blank\" href=https://colab.research.google.com/notebooks/data_table.ipynb>data table notebook</a>'\n",
              "            + ' to learn more about interactive tables.';\n",
              "          element.innerHTML = '';\n",
              "          dataTable['output_type'] = 'display_data';\n",
              "          await google.colab.output.renderOutput(dataTable, element);\n",
              "          const docLink = document.createElement('div');\n",
              "          docLink.innerHTML = docLinkHtml;\n",
              "          element.appendChild(docLink);\n",
              "        }\n",
              "      </script>\n",
              "    </div>\n",
              "  </div>\n",
              "  "
            ]
          },
          "metadata": {},
          "execution_count": 103
        }
      ]
    },
    {
      "cell_type": "code",
      "source": [
        "dscore[['classifier','cross validation']].sort_values(['cross validation'], ascending=False).set_index([pd.Index([1,2,3,4,5])])"
      ],
      "metadata": {
        "id": "wfBTb8rNMj5_",
        "colab": {
          "base_uri": "https://localhost:8080/",
          "height": 206
        },
        "outputId": "d2b9a05d-d26b-43d2-e4e0-79fca83b79fe"
      },
      "execution_count": null,
      "outputs": [
        {
          "output_type": "execute_result",
          "data": {
            "text/plain": [
              "               classifier  cross validation\n",
              "1  RandomForestClassifier         66.727273\n",
              "2      LogisticRegression         65.636364\n",
              "3    KNeighborsClassifier         63.545455\n",
              "4  DecisionTreeClassifier         62.727273\n",
              "5              GaussianNB         56.181818"
            ],
            "text/html": [
              "\n",
              "  <div id=\"df-304fff04-5a84-4af6-9f2f-d9863b3644de\">\n",
              "    <div class=\"colab-df-container\">\n",
              "      <div>\n",
              "<style scoped>\n",
              "    .dataframe tbody tr th:only-of-type {\n",
              "        vertical-align: middle;\n",
              "    }\n",
              "\n",
              "    .dataframe tbody tr th {\n",
              "        vertical-align: top;\n",
              "    }\n",
              "\n",
              "    .dataframe thead th {\n",
              "        text-align: right;\n",
              "    }\n",
              "</style>\n",
              "<table border=\"1\" class=\"dataframe\">\n",
              "  <thead>\n",
              "    <tr style=\"text-align: right;\">\n",
              "      <th></th>\n",
              "      <th>classifier</th>\n",
              "      <th>cross validation</th>\n",
              "    </tr>\n",
              "  </thead>\n",
              "  <tbody>\n",
              "    <tr>\n",
              "      <th>1</th>\n",
              "      <td>RandomForestClassifier</td>\n",
              "      <td>66.727273</td>\n",
              "    </tr>\n",
              "    <tr>\n",
              "      <th>2</th>\n",
              "      <td>LogisticRegression</td>\n",
              "      <td>65.636364</td>\n",
              "    </tr>\n",
              "    <tr>\n",
              "      <th>3</th>\n",
              "      <td>KNeighborsClassifier</td>\n",
              "      <td>63.545455</td>\n",
              "    </tr>\n",
              "    <tr>\n",
              "      <th>4</th>\n",
              "      <td>DecisionTreeClassifier</td>\n",
              "      <td>62.727273</td>\n",
              "    </tr>\n",
              "    <tr>\n",
              "      <th>5</th>\n",
              "      <td>GaussianNB</td>\n",
              "      <td>56.181818</td>\n",
              "    </tr>\n",
              "  </tbody>\n",
              "</table>\n",
              "</div>\n",
              "      <button class=\"colab-df-convert\" onclick=\"convertToInteractive('df-304fff04-5a84-4af6-9f2f-d9863b3644de')\"\n",
              "              title=\"Convert this dataframe to an interactive table.\"\n",
              "              style=\"display:none;\">\n",
              "        \n",
              "  <svg xmlns=\"http://www.w3.org/2000/svg\" height=\"24px\"viewBox=\"0 0 24 24\"\n",
              "       width=\"24px\">\n",
              "    <path d=\"M0 0h24v24H0V0z\" fill=\"none\"/>\n",
              "    <path d=\"M18.56 5.44l.94 2.06.94-2.06 2.06-.94-2.06-.94-.94-2.06-.94 2.06-2.06.94zm-11 1L8.5 8.5l.94-2.06 2.06-.94-2.06-.94L8.5 2.5l-.94 2.06-2.06.94zm10 10l.94 2.06.94-2.06 2.06-.94-2.06-.94-.94-2.06-.94 2.06-2.06.94z\"/><path d=\"M17.41 7.96l-1.37-1.37c-.4-.4-.92-.59-1.43-.59-.52 0-1.04.2-1.43.59L10.3 9.45l-7.72 7.72c-.78.78-.78 2.05 0 2.83L4 21.41c.39.39.9.59 1.41.59.51 0 1.02-.2 1.41-.59l7.78-7.78 2.81-2.81c.8-.78.8-2.07 0-2.86zM5.41 20L4 18.59l7.72-7.72 1.47 1.35L5.41 20z\"/>\n",
              "  </svg>\n",
              "      </button>\n",
              "      \n",
              "  <style>\n",
              "    .colab-df-container {\n",
              "      display:flex;\n",
              "      flex-wrap:wrap;\n",
              "      gap: 12px;\n",
              "    }\n",
              "\n",
              "    .colab-df-convert {\n",
              "      background-color: #E8F0FE;\n",
              "      border: none;\n",
              "      border-radius: 50%;\n",
              "      cursor: pointer;\n",
              "      display: none;\n",
              "      fill: #1967D2;\n",
              "      height: 32px;\n",
              "      padding: 0 0 0 0;\n",
              "      width: 32px;\n",
              "    }\n",
              "\n",
              "    .colab-df-convert:hover {\n",
              "      background-color: #E2EBFA;\n",
              "      box-shadow: 0px 1px 2px rgba(60, 64, 67, 0.3), 0px 1px 3px 1px rgba(60, 64, 67, 0.15);\n",
              "      fill: #174EA6;\n",
              "    }\n",
              "\n",
              "    [theme=dark] .colab-df-convert {\n",
              "      background-color: #3B4455;\n",
              "      fill: #D2E3FC;\n",
              "    }\n",
              "\n",
              "    [theme=dark] .colab-df-convert:hover {\n",
              "      background-color: #434B5C;\n",
              "      box-shadow: 0px 1px 3px 1px rgba(0, 0, 0, 0.15);\n",
              "      filter: drop-shadow(0px 1px 2px rgba(0, 0, 0, 0.3));\n",
              "      fill: #FFFFFF;\n",
              "    }\n",
              "  </style>\n",
              "\n",
              "      <script>\n",
              "        const buttonEl =\n",
              "          document.querySelector('#df-304fff04-5a84-4af6-9f2f-d9863b3644de button.colab-df-convert');\n",
              "        buttonEl.style.display =\n",
              "          google.colab.kernel.accessAllowed ? 'block' : 'none';\n",
              "\n",
              "        async function convertToInteractive(key) {\n",
              "          const element = document.querySelector('#df-304fff04-5a84-4af6-9f2f-d9863b3644de');\n",
              "          const dataTable =\n",
              "            await google.colab.kernel.invokeFunction('convertToInteractive',\n",
              "                                                     [key], {});\n",
              "          if (!dataTable) return;\n",
              "\n",
              "          const docLinkHtml = 'Like what you see? Visit the ' +\n",
              "            '<a target=\"_blank\" href=https://colab.research.google.com/notebooks/data_table.ipynb>data table notebook</a>'\n",
              "            + ' to learn more about interactive tables.';\n",
              "          element.innerHTML = '';\n",
              "          dataTable['output_type'] = 'display_data';\n",
              "          await google.colab.output.renderOutput(dataTable, element);\n",
              "          const docLink = document.createElement('div');\n",
              "          docLink.innerHTML = docLinkHtml;\n",
              "          element.appendChild(docLink);\n",
              "        }\n",
              "      </script>\n",
              "    </div>\n",
              "  </div>\n",
              "  "
            ]
          },
          "metadata": {},
          "execution_count": 104
        }
      ]
    }
  ]
}